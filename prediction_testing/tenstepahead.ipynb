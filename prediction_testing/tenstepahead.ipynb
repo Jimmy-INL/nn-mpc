{
  "nbformat": 4,
  "nbformat_minor": 0,
  "metadata": {
    "kernelspec": {
      "display_name": "Python 3",
      "language": "python",
      "name": "python3"
    },
    "language_info": {
      "codemirror_mode": {
        "name": "ipython",
        "version": 3
      },
      "file_extension": ".py",
      "mimetype": "text/x-python",
      "name": "python",
      "nbconvert_exporter": "python",
      "pygments_lexer": "ipython3",
      "version": "3.8.5"
    },
    "colab": {
      "name": "tenstepahead.ipynb",
      "provenance": [],
      "include_colab_link": true
    }
  },
  "cells": [
    {
      "cell_type": "markdown",
      "metadata": {
        "id": "view-in-github",
        "colab_type": "text"
      },
      "source": [
        "<a href=\"https://colab.research.google.com/github/stephenadhi/nn-mpc/blob/main/prediction_testing/tenstepahead.ipynb\" target=\"_parent\"><img src=\"https://colab.research.google.com/assets/colab-badge.svg\" alt=\"Open In Colab\"/></a>"
      ]
    },
    {
      "cell_type": "code",
      "metadata": {
        "id": "L6-9iF7iUPDM"
      },
      "source": [
        "import sys\n",
        "sys.executable\n",
        "import os\n",
        "import matplotlib as mpl\n",
        "import matplotlib.pyplot as plt\n",
        "import random\n",
        "import numpy as np\n",
        "import pandas as pd\n",
        "import seaborn as sns\n",
        "import tensorflow as tf\n",
        "import keras\n",
        "from pandas import DataFrame\n",
        "from pandas import read_csv\n",
        "import math\n",
        "from numpy import savetxt\n",
        "from keras import layers\n",
        "from tensorflow.keras.layers import Input, LSTM, Dense, Reshape, Dropout\n",
        "from tensorflow.keras.models import Model, Sequential\n",
        "from scipy.integrate import odeint, RK45\n",
        "from tensorflow.keras.utils import plot_model\n",
        "import timeit\n",
        "from functools import partial\n",
        "tf.keras.backend.set_floatx('float64')\n",
        "tf.keras.backend.clear_session()\n",
        "gpus = tf.config.experimental.list_physical_devices('GPU')\n",
        "if gpus:\n",
        "  try:\n",
        "    # Currently, memory growth needs to be the same across GPUs\n",
        "    for gpu in gpus:\n",
        "      tf.config.experimental.set_memory_growth(gpu, True)\n",
        "    logical_gpus = tf.config.experimental.list_logical_devices('GPU')\n",
        "    print(len(gpus), \"Physical GPUs,\", len(logical_gpus), \"Logical GPUs\")\n",
        "  except RuntimeError as e:\n",
        "    # Memory growth must be set before GPUs have been initialized\n",
        "    print(e)"
      ],
      "execution_count": 2,
      "outputs": []
    },
    {
      "cell_type": "markdown",
      "metadata": {
        "id": "oPso2HrgUPDO"
      },
      "source": [
        "## Mass-Spring-System"
      ]
    },
    {
      "cell_type": "code",
      "metadata": {
        "id": "1i18inaDUPDO"
      },
      "source": [
        "#This system is undamped\n",
        "\n",
        "# Use ODEINT to solve the differential equations defined by the vector field\n",
        "from scipy.integrate import odeint\n",
        "\n",
        "def vectorfield(w, t, p):\n",
        "    \"\"\"\n",
        "    Defines the differential equations for the coupled spring-mass system.\n",
        "\n",
        "    Arguments:\n",
        "        w :  vector of the state variables:\n",
        "                  w = [x1,y1,x2,y2]\n",
        "        t :  time\n",
        "        p :  vector of the parameters:\n",
        "                  p = [m1,m2,k1,k2,L1,L2,b1,b2]\n",
        "    \"\"\"\n",
        "    x1, v1, x2, v2, x3, v3 = w\n",
        "    m, k, kp, u1, u2, dist = p\n",
        "\n",
        "    # Create f = (x1',y1',x2',y2'):\n",
        "    f = [v1,\n",
        "         (k * ((-2 * x1) + x2) + kp * (-x1 ** 3 + (x2 - x1) ** 3)) / m + u1,\n",
        "         v2,\n",
        "         (k * (x1 - (2 * x2) + x3) + kp * ((x3 - x2) ** 3 - (x2 - x1) ** 3)) / m + u2,\n",
        "         v3,\n",
        "         (k * (x2 - x3) + kp * ((x2 - x3) ** 3)) / m + dist]\n",
        "    return f"
      ],
      "execution_count": 3,
      "outputs": []
    },
    {
      "cell_type": "markdown",
      "metadata": {
        "id": "m6flVG7_UPDP"
      },
      "source": [
        "## **Training Data Generation**"
      ]
    },
    {
      "cell_type": "code",
      "metadata": {
        "id": "QNs_4V0yUPDP"
      },
      "source": [
        "num_rollouts= 1\n",
        "# Masses:\n",
        "m = 0.5 \n",
        "# Spring constants\n",
        "kp = 63.5\n",
        "k = 217.0\n",
        "# ODE solver parameters\n",
        "abserr = 1.0e-8\n",
        "relerr = 1.0e-6\n",
        "\n",
        "num_data= 20003\n",
        "interval= 0.001\n",
        "stoptime = interval*(num_data)\n",
        "np.random.seed(0)\n",
        "hist= np.zeros((1,15))\n",
        "\n",
        "for roll in range(1):\n",
        "    act1= 2000*(np.random.rand(num_data)-0.5)\n",
        "    act2= 2000*(np.random.rand(num_data)-0.5)\n",
        "    dist = 1000*(np.random.rand(num_data)-0.5)\n",
        "    #Initial states\n",
        "    w0= np.zeros((1,6))\n",
        "    #w0 = np.random.randn(1,6) \n",
        "    w0= w0.flatten()\n",
        "    prev = [[w0[0],w0[2],w0[4]]]\n",
        "    # Pack up the parameters and initial conditions:\n",
        "    p = [m, k, kp, act1[0], act2[0], dist[0]]\n",
        "    # Call the ODE solver.\n",
        "    t1= np.array([0,interval])\n",
        "    wsol1 = odeint(vectorfield, w0, t1, args=(p,),\n",
        "            atol=abserr, rtol=relerr)\n",
        "    wsol1 = wsol1.flatten()\n",
        "    wcurr = np.array([wsol1[6:]])\n",
        "    w0=wsol1[6:]\n",
        "    prevv= prev\n",
        "    prev = [[w0[0],w0[2],w0[4]]]\n",
        "    # Pack up the parameters and initial conditions:\n",
        "    p = [m, k, kp, act1[1], dist[1], act2[1]]\n",
        "    # Call the ODE solver.\n",
        "    t2= np.array([0+interval,interval+interval])\n",
        "    wsol1 = odeint(vectorfield, w0, t2, args=(p,),\n",
        "            atol=abserr, rtol=relerr)\n",
        "    wsol1 = wsol1.flatten()\n",
        "    wcurr = np.array([wsol1[6:]])\n",
        "    w0=wsol1[6:]\n",
        "    curr = np.hstack((prevv, prev, np.array([[act1[1]]]),np.array([[dist[1]]]),np.array([[act2[1]]]),wcurr))\n",
        "    hist= np.vstack((hist, curr))\n",
        "   \n",
        "    lag=2\n",
        "    for ts in range(num_data-lag):\n",
        "        prevv = prev\n",
        "        t = np.array([stoptime * float(ts+lag) / (num_data), stoptime * float(ts + lag + 1) / (num_data)])\n",
        "        p = [m, k, kp, act1[ts+lag],  dist[ts+lag], act2[ts+lag]]\n",
        "        # Call the ODE solver.\n",
        "        wsol1 = odeint(vectorfield, w0, t, args=(p,),\n",
        "            atol=abserr, rtol=relerr)\n",
        "        wsol1 = wsol1.flatten()\n",
        "        w0 = wsol1[6:]\n",
        "        prev = np.array([[wsol1[0],wsol1[2],wsol1[4]]])\n",
        "        action= [act1[ts+lag],act2[ts+lag]]\n",
        "        new = np.hstack((prevv,prev,np.array([[act1[ts+lag]]]),np.array([[dist[ts+lag]]]),np.array([[act2[ts+lag]]]),np.array([w0])))\n",
        "        hist = np.vstack((hist, new))\n"
      ],
      "execution_count": 5,
      "outputs": []
    },
    {
      "cell_type": "code",
      "metadata": {
        "scrolled": true,
        "id": "To97xjrqUPDQ"
      },
      "source": [
        "#create table\n",
        "hist=pd.DataFrame(data=hist,columns =[\"prev11\", \"prev22\",\"prev33\",\"prev1\",\"prev2\",\"prev3\",\"u1\",\"dist.\",\"u2\",\"x1\", \"v1\", \"x2\", \"v2\", \"x3\", \"v3\"])\n",
        "df=hist[1:][{\"u1\",\"dist.\",\"u2\",\"prev11\",\"prev22\",\"prev33\",\"prev1\",\"prev2\",\"prev3\",\"x1\", \"v1\", \"x2\", \"v2\", \"x3\", \"v3\"}]\n",
        "df = df[['u1','dist.','u2',\"prev11\",\"prev22\",\"prev33\",\"prev1\",\"prev2\",\"prev3\",'x1','v1','x2','v2','x3','v3']]\n",
        "\n",
        "NN_in= df[{\"u1\",\"u2\",\"dist.\"}]\n",
        "NN_in= NN_in[['u1','dist.','u2']].shift(-1)\n",
        "NN_label= df[{\"x1\", \"x3\"}]\n",
        "NN_label= NN_label[ [\"x1\", \"x3\"] ]\n",
        "NN_previous= df[{\"prev11\",\"prev33\",\"prev1\",\"prev3\"}]\n",
        "NN_previous= NN_previous[ [\"prev11\",\"prev33\"] ]\n",
        "diff1= df[\"x1\"] - df[\"prev1\"]\n",
        "diff3= df[\"x3\"] - df[\"prev3\"]\n",
        "diff21= df[\"x1\"] - df[\"prev11\"]\n",
        "diff23= df[\"x3\"] - df[\"prev33\"]\n",
        "df.insert(7, \"diff21\", diff21)\n",
        "df.insert(8, \"diff23\", diff23)\n",
        "df.insert(9, \"diff1\", diff1)\n",
        "df.insert(10, \"diff3\", diff3)\n",
        "bothdiff= df[[\"diff1\",\"diff3\"]].shift(0)\n",
        "bothdiff2= df[[\"diff21\",\"diff23\"]].shift(0)\n",
        "frames = [NN_in,bothdiff2, NN_label, NN_previous, bothdiff]\n",
        "df = pd.concat(frames, axis=1)\n",
        "#x1_ = df[{'x1'}]\n",
        "#x3_ = df[{'x3'}]\n",
        "#prev111 = x1_.shift(3)\n",
        "#prev333 = x3_.shift(3)\n",
        "#prev1111 = x1_.shift(4)\n",
        "#prev3333 = x3_.shift(4)\n",
        "#df.insert(3,\"prev1111\",prev1111)\n",
        "#df.insert(4,\"prev3333\",prev3333)\n",
        "#df.insert(3,\"prev111\",prev111)\n",
        "#df.insert(4,\"prev333\",prev333)\n",
        "#diff31= df[\"x1\"] - df[\"prev111\"]\n",
        "#diff33= df[\"x3\"] - df[\"prev333\"]\n",
        "#df=df.drop(columns=[\"prev111\",\"prev333\"])\n",
        "#df.insert(3, \"diff31\", diff31)\n",
        "#df.insert(4, \"diff33\", diff33)\n",
        "af=df.dropna()\n"
      ],
      "execution_count": 6,
      "outputs": []
    },
    {
      "cell_type": "code",
      "metadata": {
        "colab": {
          "base_uri": "https://localhost:8080/",
          "height": 416
        },
        "id": "QWrRH6VdUPDQ",
        "outputId": "af689d67-f232-4540-fb1f-9d46919fdf5e"
      },
      "source": [
        "#df= af[ [\"u1\",\"dist.\",\"u2\", \"x1\", \"x3\",\"diff21\",\"diff23\",\"diff1\",\"diff3\"] ]\n",
        "df= af[ [\"u1\",\"dist.\",\"u2\", \"x1\", \"x3\",\"diff21\",\"diff23\",\"diff1\",\"diff3\"] ]\n",
        "\n",
        "#df.to_csv('u1500newage20000_0.001ssim.csv',index=False)\n",
        "df"
      ],
      "execution_count": 7,
      "outputs": [
        {
          "output_type": "execute_result",
          "data": {
            "text/html": [
              "<div>\n",
              "<style scoped>\n",
              "    .dataframe tbody tr th:only-of-type {\n",
              "        vertical-align: middle;\n",
              "    }\n",
              "\n",
              "    .dataframe tbody tr th {\n",
              "        vertical-align: top;\n",
              "    }\n",
              "\n",
              "    .dataframe thead th {\n",
              "        text-align: right;\n",
              "    }\n",
              "</style>\n",
              "<table border=\"1\" class=\"dataframe\">\n",
              "  <thead>\n",
              "    <tr style=\"text-align: right;\">\n",
              "      <th></th>\n",
              "      <th>u1</th>\n",
              "      <th>dist.</th>\n",
              "      <th>u2</th>\n",
              "      <th>x1</th>\n",
              "      <th>x3</th>\n",
              "      <th>diff21</th>\n",
              "      <th>diff23</th>\n",
              "      <th>diff1</th>\n",
              "      <th>diff3</th>\n",
              "    </tr>\n",
              "  </thead>\n",
              "  <tbody>\n",
              "    <tr>\n",
              "      <th>1</th>\n",
              "      <td>205.526752</td>\n",
              "      <td>399.234052</td>\n",
              "      <td>445.448979</td>\n",
              "      <td>0.000362</td>\n",
              "      <td>0.000261</td>\n",
              "      <td>0.000362</td>\n",
              "      <td>0.000261</td>\n",
              "      <td>0.000313</td>\n",
              "      <td>0.000322</td>\n",
              "    </tr>\n",
              "    <tr>\n",
              "      <th>2</th>\n",
              "      <td>89.766366</td>\n",
              "      <td>-327.561206</td>\n",
              "      <td>836.639904</td>\n",
              "      <td>0.000992</td>\n",
              "      <td>0.001250</td>\n",
              "      <td>0.000943</td>\n",
              "      <td>0.001311</td>\n",
              "      <td>0.000630</td>\n",
              "      <td>0.000989</td>\n",
              "    </tr>\n",
              "    <tr>\n",
              "      <th>3</th>\n",
              "      <td>-152.690401</td>\n",
              "      <td>86.060633</td>\n",
              "      <td>646.535077</td>\n",
              "      <td>0.001768</td>\n",
              "      <td>0.002878</td>\n",
              "      <td>0.001407</td>\n",
              "      <td>0.002618</td>\n",
              "      <td>0.000777</td>\n",
              "      <td>0.001629</td>\n",
              "    </tr>\n",
              "    <tr>\n",
              "      <th>4</th>\n",
              "      <td>291.788226</td>\n",
              "      <td>-470.680398</td>\n",
              "      <td>293.793404</td>\n",
              "      <td>0.002511</td>\n",
              "      <td>0.005247</td>\n",
              "      <td>0.001520</td>\n",
              "      <td>0.003998</td>\n",
              "      <td>0.000743</td>\n",
              "      <td>0.002369</td>\n",
              "    </tr>\n",
              "    <tr>\n",
              "      <th>5</th>\n",
              "      <td>-124.825577</td>\n",
              "      <td>-278.836089</td>\n",
              "      <td>-864.121960</td>\n",
              "      <td>0.003322</td>\n",
              "      <td>0.008083</td>\n",
              "      <td>0.001553</td>\n",
              "      <td>0.005205</td>\n",
              "      <td>0.000810</td>\n",
              "      <td>0.002836</td>\n",
              "    </tr>\n",
              "    <tr>\n",
              "      <th>...</th>\n",
              "      <td>...</td>\n",
              "      <td>...</td>\n",
              "      <td>...</td>\n",
              "      <td>...</td>\n",
              "      <td>...</td>\n",
              "      <td>...</td>\n",
              "      <td>...</td>\n",
              "      <td>...</td>\n",
              "      <td>...</td>\n",
              "    </tr>\n",
              "    <tr>\n",
              "      <th>19997</th>\n",
              "      <td>-279.746772</td>\n",
              "      <td>83.200125</td>\n",
              "      <td>-577.347993</td>\n",
              "      <td>1.964127</td>\n",
              "      <td>-0.122329</td>\n",
              "      <td>0.086241</td>\n",
              "      <td>0.147579</td>\n",
              "      <td>0.042006</td>\n",
              "      <td>0.074539</td>\n",
              "    </tr>\n",
              "    <tr>\n",
              "      <th>19998</th>\n",
              "      <td>251.773292</td>\n",
              "      <td>452.330307</td>\n",
              "      <td>-46.190463</td>\n",
              "      <td>2.003918</td>\n",
              "      <td>-0.046942</td>\n",
              "      <td>0.081798</td>\n",
              "      <td>0.149926</td>\n",
              "      <td>0.039792</td>\n",
              "      <td>0.075387</td>\n",
              "    </tr>\n",
              "    <tr>\n",
              "      <th>19999</th>\n",
              "      <td>-215.654077</td>\n",
              "      <td>-219.211301</td>\n",
              "      <td>-835.531287</td>\n",
              "      <td>2.041629</td>\n",
              "      <td>0.029440</td>\n",
              "      <td>0.077502</td>\n",
              "      <td>0.151769</td>\n",
              "      <td>0.037711</td>\n",
              "      <td>0.076382</td>\n",
              "    </tr>\n",
              "    <tr>\n",
              "      <th>20000</th>\n",
              "      <td>-917.686828</td>\n",
              "      <td>295.345317</td>\n",
              "      <td>-524.681269</td>\n",
              "      <td>2.077246</td>\n",
              "      <td>0.106724</td>\n",
              "      <td>0.073328</td>\n",
              "      <td>0.153665</td>\n",
              "      <td>0.035617</td>\n",
              "      <td>0.077284</td>\n",
              "    </tr>\n",
              "    <tr>\n",
              "      <th>20001</th>\n",
              "      <td>846.601137</td>\n",
              "      <td>475.140003</td>\n",
              "      <td>-833.004450</td>\n",
              "      <td>2.110142</td>\n",
              "      <td>0.184705</td>\n",
              "      <td>0.068513</td>\n",
              "      <td>0.155264</td>\n",
              "      <td>0.032895</td>\n",
              "      <td>0.077981</td>\n",
              "    </tr>\n",
              "  </tbody>\n",
              "</table>\n",
              "<p>20001 rows × 9 columns</p>\n",
              "</div>"
            ],
            "text/plain": [
              "               u1       dist.          u2  ...    diff23     diff1     diff3\n",
              "1      205.526752  399.234052  445.448979  ...  0.000261  0.000313  0.000322\n",
              "2       89.766366 -327.561206  836.639904  ...  0.001311  0.000630  0.000989\n",
              "3     -152.690401   86.060633  646.535077  ...  0.002618  0.000777  0.001629\n",
              "4      291.788226 -470.680398  293.793404  ...  0.003998  0.000743  0.002369\n",
              "5     -124.825577 -278.836089 -864.121960  ...  0.005205  0.000810  0.002836\n",
              "...           ...         ...         ...  ...       ...       ...       ...\n",
              "19997 -279.746772   83.200125 -577.347993  ...  0.147579  0.042006  0.074539\n",
              "19998  251.773292  452.330307  -46.190463  ...  0.149926  0.039792  0.075387\n",
              "19999 -215.654077 -219.211301 -835.531287  ...  0.151769  0.037711  0.076382\n",
              "20000 -917.686828  295.345317 -524.681269  ...  0.153665  0.035617  0.077284\n",
              "20001  846.601137  475.140003 -833.004450  ...  0.155264  0.032895  0.077981\n",
              "\n",
              "[20001 rows x 9 columns]"
            ]
          },
          "metadata": {
            "tags": []
          },
          "execution_count": 7
        }
      ]
    },
    {
      "cell_type": "code",
      "metadata": {
        "id": "ZsM6cG6dUPDR"
      },
      "source": [
        "#max(df[{'diff1'}].values)\n",
        "#plot_cols = ['u1','dist.','u2']\n",
        "#plot_features = df[plot_cols][1:100]\n",
        "#_ = plot_features.plot(subplots=True)\n",
        "#plot_states = ['x1', 'v1', 'x2', 'v2', 'x3', 'v3']\n",
        "#plot_states = ['x1', 'x3']\n",
        "#plot_features = df[plot_states][:]\n",
        "#_ = plot_features.plot(subplots=True)\n",
        "#plot_out= ['x1','x3']\n",
        "#plot_features = df[plot_out][1:100]\n",
        "#_ = plot_features.plot(subplots=True)"
      ],
      "execution_count": 8,
      "outputs": []
    },
    {
      "cell_type": "code",
      "metadata": {
        "id": "IMvObMs8ukTN"
      },
      "source": [
        "train_df = pd.read_csv('u1500newage20000_0.001ssim.csv')\r\n",
        "#val_df = df[int(0.5*n):int(1*n)]\r\n",
        "val_df= pd.read_csv('u1500validationdatanewage5k_0.001ssim.csv')\r\n",
        "test_df = pd.read_csv('u1500validationdatanewage5k_0.001ssim.csv')"
      ],
      "execution_count": null,
      "outputs": []
    },
    {
      "cell_type": "code",
      "metadata": {
        "scrolled": true,
        "id": "jM8L_9UHUPDR",
        "outputId": "1bf5907c-9f31-4d23-a26f-ba64da53b5d4"
      },
      "source": [
        "train_mean = train_df.mean()\n",
        "train_std = train_df.std()\n",
        "train_mean"
      ],
      "execution_count": null,
      "outputs": [
        {
          "output_type": "execute_result",
          "data": {
            "text/plain": [
              "u1       -12.512711\n",
              "dist.     -0.479247\n",
              "u2        -1.867312\n",
              "x1         0.014431\n",
              "x3         0.038057\n",
              "diff21     0.000301\n",
              "diff23     0.000105\n",
              "diff1      0.000150\n",
              "diff3      0.000054\n",
              "dtype: float64"
            ]
          },
          "metadata": {
            "tags": []
          },
          "execution_count": 4
        }
      ]
    },
    {
      "cell_type": "code",
      "metadata": {
        "id": "PjWi7BT7UPDS"
      },
      "source": [
        "batchsize= 32"
      ],
      "execution_count": null,
      "outputs": []
    },
    {
      "cell_type": "markdown",
      "metadata": {
        "id": "1mnSnjADu1Wt"
      },
      "source": [
        "## Data Processing Functions"
      ]
    },
    {
      "cell_type": "code",
      "metadata": {
        "id": "HzJD8pQdUPDS"
      },
      "source": [
        "class WindowGenerator():\n",
        "  def __init__(self, input_width, label_width, shift,\n",
        "               train_df=train_df, val_df=val_df, \n",
        "               #test_df=test_df,\n",
        "               label_columns=None):\n",
        "    # Store the raw data.\n",
        "    self.train_df = train_df\n",
        "    self.val_df = val_df\n",
        "    self.test_df = test_df\n",
        "\n",
        "    # Work out the label column indices.\n",
        "    self.label_columns = label_columns\n",
        "    if label_columns is not None:\n",
        "      self.label_columns_indices = {name: i for i, name in\n",
        "                                    enumerate(label_columns)}\n",
        "    self.column_indices = {name: i for i, name in\n",
        "                           enumerate(train_df.columns)}\n",
        "\n",
        "    # Work out the window parameters.\n",
        "    self.input_width = input_width\n",
        "    self.label_width = label_width\n",
        "    self.shift = shift\n",
        "\n",
        "    self.total_window_size = input_width + shift\n",
        "\n",
        "    self.input_slice = slice(0, input_width)\n",
        "    self.input_indices = np.arange(self.total_window_size)[self.input_slice]\n",
        "\n",
        "    self.label_start = self.total_window_size - self.label_width\n",
        "    self.labels_slice = slice(self.label_start, None)\n",
        "    self.label_indices = np.arange(self.total_window_size)[self.labels_slice]\n",
        "\n",
        "  def __repr__(self):\n",
        "    return '\\n'.join([\n",
        "        f'Total window size: {self.total_window_size}',\n",
        "        f'Input indices: {self.input_indices}',\n",
        "        f'Label indices: {self.label_indices}',\n",
        "        f'Label column name(s): {self.label_columns}'])"
      ],
      "execution_count": null,
      "outputs": []
    },
    {
      "cell_type": "code",
      "metadata": {
        "id": "YjYI0a4gUPDS"
      },
      "source": [
        "def split_window(self, features):\n",
        "  inputs = features[:, self.input_slice, :]\n",
        "  labels = features[:, self.labels_slice, :]\n",
        "  if self.label_columns is not None:\n",
        "    labels = tf.stack(\n",
        "        [labels[:, :, self.column_indices[name]] for name in self.label_columns],\n",
        "        axis=-1)\n",
        "\n",
        "  # Slicing doesn't preserve static shape information, so set the shapes\n",
        "  # manually. This way the `tf.data.Datasets` are easier to inspect.\n",
        "  inputs.set_shape([None, self.input_width, None])\n",
        "  labels.set_shape([None, self.label_width, None])\n",
        "\n",
        "  return inputs, labels\n",
        "\n",
        "WindowGenerator.split_window = split_window"
      ],
      "execution_count": null,
      "outputs": []
    },
    {
      "cell_type": "code",
      "metadata": {
        "id": "mnhkP7eKUPDT"
      },
      "source": [
        "def plot(self, plot_col, model=None, max_subplots=1):\n",
        "  inputs, labels = self.example\n",
        "  plt.figure(figsize=(12, 8))\n",
        "  plot_col_index = self.column_indices[plot_col]\n",
        "  max_n = min(max_subplots, len(inputs))\n",
        "  for n in range(max_n):\n",
        "    plt.subplot(3, 1, n+1)\n",
        "    plt.ylabel(f'{plot_col} [normed]')\n",
        "    plt.plot(self.input_indices, inputs[n, :, plot_col_index],\n",
        "             label='Inputs', marker='.', zorder=-10)\n",
        "\n",
        "    if self.label_columns:\n",
        "      label_col_index = self.label_columns_indices.get(plot_col, None)\n",
        "    else:\n",
        "      label_col_index = plot_col_index\n",
        "\n",
        "    if label_col_index is None:\n",
        "      continue\n",
        "\n",
        "    plt.scatter(self.label_indices, labels[n, :, label_col_index],\n",
        "                edgecolors='k', label='Labels', c='#2ca02c', s=64)\n",
        "    if model is not None:\n",
        "      predictions = model(inputs)\n",
        "      plt.scatter(self.label_indices, predictions[n, :, label_col_index],\n",
        "                  marker='X', edgecolors='k', label='Predictions',\n",
        "                  c='#ff7f0e', s=64)\n",
        "\n",
        "    if n == 0:\n",
        "      plt.legend()\n",
        "\n",
        "  plt.xlabel('Timestep ')\n",
        "\n",
        "WindowGenerator.plot = plot"
      ],
      "execution_count": null,
      "outputs": []
    },
    {
      "cell_type": "code",
      "metadata": {
        "id": "g20or7uEUPDT"
      },
      "source": [
        "def make_dataset(self, data):\n",
        "  data = np.array(data, dtype=np.float64)\n",
        "  ds = tf.keras.preprocessing.timeseries_dataset_from_array(\n",
        "      data=data,\n",
        "      targets=None,\n",
        "      sequence_length=self.total_window_size,\n",
        "      sequence_stride=1,\n",
        "      shuffle=False,\n",
        "      batch_size=batchsize,)\n",
        "  ds = ds.map(self.split_window)\n",
        "  return ds\n",
        "\n",
        "WindowGenerator.make_dataset = make_dataset"
      ],
      "execution_count": null,
      "outputs": []
    },
    {
      "cell_type": "code",
      "metadata": {
        "id": "gu2JVodDUPDT"
      },
      "source": [
        "@property\n",
        "def train(self):\n",
        "  return self.make_dataset(self.train_df)\n",
        "\n",
        "@property\n",
        "def val(self):\n",
        "  return self.make_dataset(self.val_df)\n",
        "\n",
        "@property\n",
        "def test(self):\n",
        "  return self.make_dataset(self.test_df)\n",
        "\n",
        "@property\n",
        "def example(self):\n",
        "  \"\"\"Get and cache an example batch of `inputs, labels` for plotting.\"\"\"\n",
        "  result = getattr(self, '_example', None)\n",
        "  if result is None:\n",
        "    # No example batch was found, so get one from the `.train` dataset\n",
        "    result = next(iter(self.train))\n",
        "    # And cache it for next time\n",
        "    self._example = result\n",
        "  return result\n",
        "\n",
        "WindowGenerator.train = train\n",
        "WindowGenerator.val = val\n",
        "WindowGenerator.test = test\n",
        "WindowGenerator.example = example"
      ],
      "execution_count": null,
      "outputs": []
    },
    {
      "cell_type": "code",
      "metadata": {
        "scrolled": true,
        "id": "WjYShwovUPDT",
        "outputId": "79045091-be1e-4f60-fd59-bd80d37c0f9c"
      },
      "source": [
        "OUT_STEPS = 1\n",
        "multi_window = WindowGenerator(input_width=1,\n",
        "                               label_width=OUT_STEPS,\n",
        "                               shift=OUT_STEPS,\n",
        "                              label_columns= ['diff1','diff3']\n",
        "                              )\n",
        "\n",
        "multi_window.plot('diff1')"
      ],
      "execution_count": null,
      "outputs": [
        {
          "output_type": "display_data",
          "data": {
            "image/png": "[encoded data removed]",
            "text/plain": [
              "<Figure size 864x576 with 1 Axes>"
            ]
          },
          "metadata": {
            "tags": [],
            "needs_background": "light"
          }
        }
      ]
    },
    {
      "cell_type": "code",
      "metadata": {
        "id": "hqchwHttUPDU",
        "outputId": "bede392b-afd4-42da-e8e0-a344c250c112"
      },
      "source": [
        "multi_window"
      ],
      "execution_count": null,
      "outputs": [
        {
          "output_type": "execute_result",
          "data": {
            "text/plain": [
              "Total window size: 2\n",
              "Input indices: [0]\n",
              "Label indices: [1]\n",
              "Label column name(s): ['diff1', 'diff3']"
            ]
          },
          "metadata": {
            "tags": []
          },
          "execution_count": 13
        }
      ]
    },
    {
      "cell_type": "code",
      "metadata": {
        "scrolled": true,
        "id": "ptItdHsvUPDU",
        "outputId": "92e003db-0c5a-47fb-b356-584f24f1643e"
      },
      "source": [
        "for example_inputs, example_labels in multi_window.train.take(1):\n",
        "  print(f'Inputs shape (batch, time, features): {example_inputs.shape}')\n",
        "  print(f'Labels shape (batch, time, features): {example_labels.shape}')"
      ],
      "execution_count": null,
      "outputs": [
        {
          "output_type": "stream",
          "text": [
            "Inputs shape (batch, time, features): (32, 1, 9)\n",
            "Labels shape (batch, time, features): (32, 1, 2)\n"
          ],
          "name": "stdout"
        }
      ]
    },
    {
      "cell_type": "code",
      "metadata": {
        "id": "kUmsfFfcUPDU",
        "outputId": "c3c6e60b-6bdf-4e07-f0eb-10ad9b3e110a"
      },
      "source": [
        "multi_window.train"
      ],
      "execution_count": null,
      "outputs": [
        {
          "output_type": "execute_result",
          "data": {
            "text/plain": [
              "<MapDataset shapes: ((None, 1, 9), (None, 1, 2)), types: (tf.float64, tf.float64)>"
            ]
          },
          "metadata": {
            "tags": []
          },
          "execution_count": 15
        }
      ]
    },
    {
      "cell_type": "markdown",
      "metadata": {
        "id": "I3la4uw7vIMl"
      },
      "source": [
        "## Define NN Model"
      ]
    },
    {
      "cell_type": "code",
      "metadata": {
        "id": "i1hHbm1mUPDU"
      },
      "source": [
        "MAX_EPOCHS = 100\n",
        "def compile(model, lr=0.001):\n",
        "      model.compile(loss=tf.losses.MeanSquaredError(),\n",
        "                optimizer=tf.optimizers.Adam(learning_rate=lr),\n",
        "                metrics=[tf.metrics.MeanSquaredError()],\n",
        "                   experimental_steps_per_execution=10\n",
        "\n",
        "                    )\n",
        "        \n",
        "def scheduler(epoch, lr):\n",
        "    if epoch > 100:\n",
        "        return lr * tf.math.exp(-0.01)\n",
        "    else: return lr\n",
        "\n",
        "def fit(model, window, patience=150):\n",
        "  early_stopping = tf.keras.callbacks.EarlyStopping(monitor='val_loss',\n",
        "                                                    patience=patience,\n",
        "                                                    mode='min')\n",
        "  callback = tf.keras.callbacks.LearningRateScheduler(scheduler)\n",
        "  history = model.fit(window.train, epochs=MAX_EPOCHS,\n",
        "                      validation_data=window.val,\n",
        "                      callbacks=[early_stopping,\n",
        "                   #  callback\n",
        "                                ]\n",
        "                     )\n",
        "  return history\n",
        "\n",
        "multi_val_performance = {}\n",
        "multi_performance = {}\n",
        "num_label=2"
      ],
      "execution_count": null,
      "outputs": []
    },
    {
      "cell_type": "code",
      "metadata": {
        "id": "xuVBgWOnUPDV",
        "outputId": "b0ba42e5-aeb0-41d5-c13f-503332e75b04"
      },
      "source": [
        "multi_window.train"
      ],
      "execution_count": null,
      "outputs": [
        {
          "output_type": "execute_result",
          "data": {
            "text/plain": [
              "<MapDataset shapes: ((None, 1, 9), (None, 1, 2)), types: (tf.float64, tf.float64)>"
            ]
          },
          "metadata": {
            "tags": []
          },
          "execution_count": 17
        }
      ]
    },
    {
      "cell_type": "code",
      "metadata": {
        "id": "F0UDU7uXUPDV"
      },
      "source": [
        "from matplotlib import patches\n",
        "def plotting(history):\n",
        "    plt.semilogy(history.history['loss'], color = \"red\")\n",
        "    plt.semilogy(history.history['val_loss'], color = \"blue\")\n",
        "    red_patch = patches.Patch(color='red', label='Training')\n",
        "    blue_patch = patches.Patch(color='blue', label='Validation')\n",
        "    plt.legend(handles=[red_patch, blue_patch])\n",
        "    plt.xlabel('Epochs')\n",
        "    plt.ylabel('MSE loss')"
      ],
      "execution_count": null,
      "outputs": []
    },
    {
      "cell_type": "code",
      "metadata": {
        "id": "kd_guAKsUPDV"
      },
      "source": [
        "from functools import partial\n",
        "multi_resdense_model = tf.keras.Sequential([\n",
        "    # Take the last time step.\n",
        "    # Shape [batch, time, features] => [batch, 1, features]\n",
        "    tf.keras.layers.Lambda(lambda x: x[:, -1:, :]),\n",
        "    # Shape => [batch, 1, dense_units]\n",
        "  tf.keras.layers.Dense(10, activation=partial(tf.nn.leaky_relu, alpha=0.5)),\n",
        "    tf.keras.layers.Dense(OUT_STEPS*num_label,\n",
        "                         kernel_initializer=tf.initializers.zeros\n",
        "                         ),\n",
        "])\n",
        "compile(multi_resdense_model,lr=0.001)\n"
      ],
      "execution_count": null,
      "outputs": []
    },
    {
      "cell_type": "markdown",
      "metadata": {
        "id": "fIuhx_DBvVPe"
      },
      "source": [
        "## Traning with different hyperparameters "
      ]
    },
    {
      "cell_type": "code",
      "metadata": {
        "scrolled": true,
        "id": "3e3oMdNcUPDV",
        "outputId": "82cc3ef6-ba81-48ad-905b-13ce435eb0ee"
      },
      "source": [
        "tf.keras.backend.clear_session()\n",
        "start_time = timeit.default_timer()\n",
        "history = fit(multi_resdense_model, multi_window)\n",
        "\n",
        "elapsed = timeit.default_timer() - start_time \n",
        "print(elapsed / 200)"
      ],
      "execution_count": null,
      "outputs": [
        {
          "output_type": "stream",
          "text": [
            "Epoch 1/100\n",
            "625/625 [==============================] - 1s 2ms/step - loss: 0.0727 - mean_squared_error: 0.0727 - val_loss: 0.0016 - val_mean_squared_error: 0.0016\n",
            "Epoch 2/100\n",
            "625/625 [==============================] - 1s 1ms/step - loss: 0.0046 - mean_squared_error: 0.0046 - val_loss: 0.0013 - val_mean_squared_error: 0.0013\n",
            "Epoch 3/100\n",
            "625/625 [==============================] - 1s 1ms/step - loss: 0.0027 - mean_squared_error: 0.0027 - val_loss: 0.0011 - val_mean_squared_error: 0.0011\n",
            "Epoch 4/100\n",
            "625/625 [==============================] - 1s 2ms/step - loss: 0.0020 - mean_squared_error: 0.0020 - val_loss: 9.1158e-04 - val_mean_squared_error: 9.1158e-04\n",
            "Epoch 5/100\n",
            "625/625 [==============================] - 1s 2ms/step - loss: 0.0017 - mean_squared_error: 0.0017 - val_loss: 7.5314e-04 - val_mean_squared_error: 7.5314e-04\n",
            "Epoch 6/100\n",
            "625/625 [==============================] - 1s 1ms/step - loss: 0.0016 - mean_squared_error: 0.0016 - val_loss: 6.2782e-04 - val_mean_squared_error: 6.2782e-04\n",
            "Epoch 7/100\n",
            "625/625 [==============================] - 1s 1ms/step - loss: 0.0015 - mean_squared_error: 0.0015 - val_loss: 5.3568e-04 - val_mean_squared_error: 5.3568e-04\n",
            "Epoch 8/100\n",
            "625/625 [==============================] - 1s 2ms/step - loss: 0.0014 - mean_squared_error: 0.0014 - val_loss: 4.7006e-04 - val_mean_squared_error: 4.7006e-04\n",
            "Epoch 9/100\n",
            "625/625 [==============================] - 1s 2ms/step - loss: 0.0013 - mean_squared_error: 0.0013 - val_loss: 4.2110e-04 - val_mean_squared_error: 4.2110e-04\n",
            "Epoch 10/100\n",
            "625/625 [==============================] - 1s 2ms/step - loss: 0.0013 - mean_squared_error: 0.0013 - val_loss: 3.8550e-04 - val_mean_squared_error: 3.8550e-04\n",
            "Epoch 11/100\n",
            "625/625 [==============================] - 1s 1ms/step - loss: 0.0013 - mean_squared_error: 0.0013 - val_loss: 3.5924e-04 - val_mean_squared_error: 3.5924e-04\n",
            "Epoch 12/100\n",
            "625/625 [==============================] - 1s 1ms/step - loss: 0.0012 - mean_squared_error: 0.0012 - val_loss: 3.4066e-04 - val_mean_squared_error: 3.4066e-04\n",
            "Epoch 13/100\n",
            "625/625 [==============================] - 1s 1ms/step - loss: 0.0012 - mean_squared_error: 0.0012 - val_loss: 3.2745e-04 - val_mean_squared_error: 3.2745e-04\n",
            "Epoch 14/100\n",
            "625/625 [==============================] - 1s 1ms/step - loss: 0.0012 - mean_squared_error: 0.0012 - val_loss: 3.1767e-04 - val_mean_squared_error: 3.1767e-04\n",
            "Epoch 15/100\n",
            "625/625 [==============================] - 1s 2ms/step - loss: 0.0012 - mean_squared_error: 0.0012 - val_loss: 3.0984e-04 - val_mean_squared_error: 3.0984e-04\n",
            "Epoch 16/100\n",
            "625/625 [==============================] - 1s 1ms/step - loss: 0.0012 - mean_squared_error: 0.0012 - val_loss: 3.0377e-04 - val_mean_squared_error: 3.0377e-04\n",
            "Epoch 17/100\n",
            "625/625 [==============================] - 1s 1ms/step - loss: 0.0011 - mean_squared_error: 0.0011 - val_loss: 2.9902e-04 - val_mean_squared_error: 2.9902e-04\n",
            "Epoch 18/100\n",
            "625/625 [==============================] - 1s 1ms/step - loss: 0.0011 - mean_squared_error: 0.0011 - val_loss: 2.9520e-04 - val_mean_squared_error: 2.9520e-04\n",
            "Epoch 19/100\n",
            "625/625 [==============================] - 1s 2ms/step - loss: 0.0011 - mean_squared_error: 0.0011 - val_loss: 2.9217e-04 - val_mean_squared_error: 2.9217e-04\n",
            "Epoch 20/100\n",
            "625/625 [==============================] - 1s 2ms/step - loss: 0.0011 - mean_squared_error: 0.0011 - val_loss: 2.8937e-04 - val_mean_squared_error: 2.8937e-04\n",
            "Epoch 21/100\n",
            "625/625 [==============================] - 1s 1ms/step - loss: 0.0011 - mean_squared_error: 0.0011 - val_loss: 2.8684e-04 - val_mean_squared_error: 2.8684e-04\n",
            "Epoch 22/100\n",
            "625/625 [==============================] - 1s 2ms/step - loss: 0.0011 - mean_squared_error: 0.0011 - val_loss: 2.8469e-04 - val_mean_squared_error: 2.8469e-04\n",
            "Epoch 23/100\n",
            "625/625 [==============================] - 1s 2ms/step - loss: 0.0011 - mean_squared_error: 0.0011 - val_loss: 2.8299e-04 - val_mean_squared_error: 2.8299e-04\n",
            "Epoch 24/100\n",
            "625/625 [==============================] - 1s 1ms/step - loss: 0.0011 - mean_squared_error: 0.0011 - val_loss: 2.8140e-04 - val_mean_squared_error: 2.8140e-04\n",
            "Epoch 25/100\n",
            "625/625 [==============================] - 1s 1ms/step - loss: 0.0011 - mean_squared_error: 0.0011 - val_loss: 2.8024e-04 - val_mean_squared_error: 2.8024e-04\n",
            "Epoch 26/100\n",
            "625/625 [==============================] - 1s 2ms/step - loss: 0.0011 - mean_squared_error: 0.0011 - val_loss: 2.7893e-04 - val_mean_squared_error: 2.7893e-04\n",
            "Epoch 27/100\n",
            "625/625 [==============================] - 1s 2ms/step - loss: 0.0011 - mean_squared_error: 0.0011 - val_loss: 2.7739e-04 - val_mean_squared_error: 2.7739e-04\n",
            "Epoch 28/100\n",
            "625/625 [==============================] - 1s 2ms/step - loss: 0.0010 - mean_squared_error: 0.0010 - val_loss: 2.7597e-04 - val_mean_squared_error: 2.7597e-04\n",
            "Epoch 29/100\n",
            "625/625 [==============================] - 1s 2ms/step - loss: 0.0010 - mean_squared_error: 0.0010 - val_loss: 2.7481e-04 - val_mean_squared_error: 2.7481e-04\n",
            "Epoch 30/100\n",
            "625/625 [==============================] - 1s 1ms/step - loss: 0.0010 - mean_squared_error: 0.0010 - val_loss: 2.7351e-04 - val_mean_squared_error: 2.7351e-04\n",
            "Epoch 31/100\n",
            "625/625 [==============================] - 1s 2ms/step - loss: 0.0010 - mean_squared_error: 0.0010 - val_loss: 2.7217e-04 - val_mean_squared_error: 2.7217e-04\n",
            "Epoch 32/100\n",
            "625/625 [==============================] - 1s 2ms/step - loss: 0.0010 - mean_squared_error: 0.0010 - val_loss: 2.7070e-04 - val_mean_squared_error: 2.7070e-04\n",
            "Epoch 33/100\n",
            "625/625 [==============================] - 1s 1ms/step - loss: 0.0010 - mean_squared_error: 0.0010 - val_loss: 2.6944e-04 - val_mean_squared_error: 2.6944e-04\n",
            "Epoch 34/100\n",
            "625/625 [==============================] - 1s 2ms/step - loss: 9.9895e-04 - mean_squared_error: 9.9895e-04 - val_loss: 2.6796e-04 - val_mean_squared_error: 2.6796e-04\n",
            "Epoch 35/100\n",
            "625/625 [==============================] - 1s 2ms/step - loss: 9.9027e-04 - mean_squared_error: 9.9027e-04 - val_loss: 2.6655e-04 - val_mean_squared_error: 2.6655e-04\n",
            "Epoch 36/100\n",
            "625/625 [==============================] - 1s 2ms/step - loss: 9.8142e-04 - mean_squared_error: 9.8142e-04 - val_loss: 2.6496e-04 - val_mean_squared_error: 2.6496e-04\n",
            "Epoch 37/100\n",
            "625/625 [==============================] - 1s 2ms/step - loss: 9.7242e-04 - mean_squared_error: 9.7242e-04 - val_loss: 2.6380e-04 - val_mean_squared_error: 2.6380e-04\n",
            "Epoch 38/100\n",
            "625/625 [==============================] - 1s 1ms/step - loss: 9.6324e-04 - mean_squared_error: 9.6324e-04 - val_loss: 2.6245e-04 - val_mean_squared_error: 2.6245e-04\n",
            "Epoch 39/100\n",
            "625/625 [==============================] - 1s 1ms/step - loss: 9.5376e-04 - mean_squared_error: 9.5376e-04 - val_loss: 2.6071e-04 - val_mean_squared_error: 2.6071e-04\n",
            "Epoch 40/100\n",
            "625/625 [==============================] - 1s 2ms/step - loss: 9.4400e-04 - mean_squared_error: 9.4400e-04 - val_loss: 2.5941e-04 - val_mean_squared_error: 2.5941e-04\n",
            "Epoch 41/100\n",
            "625/625 [==============================] - 1s 1ms/step - loss: 9.3406e-04 - mean_squared_error: 9.3406e-04 - val_loss: 2.5810e-04 - val_mean_squared_error: 2.5810e-04\n",
            "Epoch 42/100\n",
            "625/625 [==============================] - 1s 2ms/step - loss: 9.2377e-04 - mean_squared_error: 9.2377e-04 - val_loss: 2.5676e-04 - val_mean_squared_error: 2.5676e-04\n",
            "Epoch 43/100\n",
            "625/625 [==============================] - 1s 1ms/step - loss: 9.1329e-04 - mean_squared_error: 9.1329e-04 - val_loss: 2.5532e-04 - val_mean_squared_error: 2.5532e-04\n",
            "Epoch 44/100\n",
            "625/625 [==============================] - 1s 1ms/step - loss: 9.0263e-04 - mean_squared_error: 9.0263e-04 - val_loss: 2.5386e-04 - val_mean_squared_error: 2.5386e-04\n",
            "Epoch 45/100\n",
            "625/625 [==============================] - 1s 2ms/step - loss: 8.9188e-04 - mean_squared_error: 8.9188e-04 - val_loss: 2.5242e-04 - val_mean_squared_error: 2.5242e-04\n",
            "Epoch 46/100\n",
            "625/625 [==============================] - 1s 1ms/step - loss: 8.8096e-04 - mean_squared_error: 8.8096e-04 - val_loss: 2.5090e-04 - val_mean_squared_error: 2.5090e-04\n",
            "Epoch 47/100\n",
            "625/625 [==============================] - 1s 1ms/step - loss: 8.6991e-04 - mean_squared_error: 8.6991e-04 - val_loss: 2.4939e-04 - val_mean_squared_error: 2.4939e-04\n",
            "Epoch 48/100\n",
            "625/625 [==============================] - 1s 1ms/step - loss: 8.5878e-04 - mean_squared_error: 8.5878e-04 - val_loss: 2.4797e-04 - val_mean_squared_error: 2.4797e-04\n",
            "Epoch 49/100\n",
            "625/625 [==============================] - 1s 2ms/step - loss: 8.4758e-04 - mean_squared_error: 8.4758e-04 - val_loss: 2.4684e-04 - val_mean_squared_error: 2.4684e-04\n",
            "Epoch 50/100\n",
            "625/625 [==============================] - 1s 2ms/step - loss: 8.3630e-04 - mean_squared_error: 8.3630e-04 - val_loss: 2.4533e-04 - val_mean_squared_error: 2.4533e-04\n",
            "Epoch 51/100\n",
            "625/625 [==============================] - 1s 2ms/step - loss: 8.2488e-04 - mean_squared_error: 8.2488e-04 - val_loss: 2.4355e-04 - val_mean_squared_error: 2.4355e-04\n",
            "Epoch 52/100\n",
            "625/625 [==============================] - 1s 2ms/step - loss: 8.1322e-04 - mean_squared_error: 8.1322e-04 - val_loss: 2.4177e-04 - val_mean_squared_error: 2.4177e-04\n",
            "Epoch 53/100\n",
            "625/625 [==============================] - 1s 2ms/step - loss: 8.0153e-04 - mean_squared_error: 8.0153e-04 - val_loss: 2.3991e-04 - val_mean_squared_error: 2.3991e-04\n",
            "Epoch 54/100\n",
            "625/625 [==============================] - 1s 2ms/step - loss: 7.8972e-04 - mean_squared_error: 7.8972e-04 - val_loss: 2.3804e-04 - val_mean_squared_error: 2.3804e-04\n",
            "Epoch 55/100\n",
            "625/625 [==============================] - 1s 1ms/step - loss: 7.7773e-04 - mean_squared_error: 7.7773e-04 - val_loss: 2.3608e-04 - val_mean_squared_error: 2.3608e-04\n",
            "Epoch 56/100\n",
            "625/625 [==============================] - 1s 2ms/step - loss: 7.6568e-04 - mean_squared_error: 7.6568e-04 - val_loss: 2.3419e-04 - val_mean_squared_error: 2.3419e-04\n",
            "Epoch 57/100\n",
            "625/625 [==============================] - 1s 2ms/step - loss: 7.5356e-04 - mean_squared_error: 7.5356e-04 - val_loss: 2.3219e-04 - val_mean_squared_error: 2.3219e-04\n",
            "Epoch 58/100\n",
            "625/625 [==============================] - 1s 2ms/step - loss: 7.4125e-04 - mean_squared_error: 7.4125e-04 - val_loss: 2.3014e-04 - val_mean_squared_error: 2.3014e-04\n",
            "Epoch 59/100\n",
            "625/625 [==============================] - 1s 2ms/step - loss: 7.2885e-04 - mean_squared_error: 7.2885e-04 - val_loss: 2.2817e-04 - val_mean_squared_error: 2.2817e-04\n",
            "Epoch 60/100\n",
            "625/625 [==============================] - 1s 2ms/step - loss: 7.1634e-04 - mean_squared_error: 7.1634e-04 - val_loss: 2.2602e-04 - val_mean_squared_error: 2.2602e-04\n",
            "Epoch 61/100\n",
            "625/625 [==============================] - 1s 2ms/step - loss: 7.0367e-04 - mean_squared_error: 7.0367e-04 - val_loss: 2.2401e-04 - val_mean_squared_error: 2.2401e-04\n",
            "Epoch 62/100\n",
            "625/625 [==============================] - 1s 2ms/step - loss: 6.9093e-04 - mean_squared_error: 6.9093e-04 - val_loss: 2.2200e-04 - val_mean_squared_error: 2.2200e-04\n",
            "Epoch 63/100\n",
            "625/625 [==============================] - 1s 2ms/step - loss: 6.7826e-04 - mean_squared_error: 6.7826e-04 - val_loss: 2.1992e-04 - val_mean_squared_error: 2.1992e-04\n",
            "Epoch 64/100\n",
            "625/625 [==============================] - 1s 2ms/step - loss: 6.6548e-04 - mean_squared_error: 6.6548e-04 - val_loss: 2.1783e-04 - val_mean_squared_error: 2.1783e-04\n",
            "Epoch 65/100\n",
            "625/625 [==============================] - 1s 1ms/step - loss: 6.5255e-04 - mean_squared_error: 6.5255e-04 - val_loss: 2.1537e-04 - val_mean_squared_error: 2.1537e-04\n",
            "Epoch 66/100\n",
            "625/625 [==============================] - 1s 1ms/step - loss: 6.3950e-04 - mean_squared_error: 6.3950e-04 - val_loss: 2.1290e-04 - val_mean_squared_error: 2.1290e-04\n",
            "Epoch 67/100\n",
            "625/625 [==============================] - 1s 1ms/step - loss: 6.2639e-04 - mean_squared_error: 6.2639e-04 - val_loss: 2.1042e-04 - val_mean_squared_error: 2.1042e-04\n",
            "Epoch 68/100\n",
            "625/625 [==============================] - 1s 2ms/step - loss: 6.1327e-04 - mean_squared_error: 6.1327e-04 - val_loss: 2.0763e-04 - val_mean_squared_error: 2.0763e-04\n",
            "Epoch 69/100\n",
            "625/625 [==============================] - 1s 2ms/step - loss: 6.0004e-04 - mean_squared_error: 6.0004e-04 - val_loss: 2.0520e-04 - val_mean_squared_error: 2.0520e-04\n",
            "Epoch 70/100\n",
            "625/625 [==============================] - 1s 2ms/step - loss: 5.8690e-04 - mean_squared_error: 5.8690e-04 - val_loss: 2.0254e-04 - val_mean_squared_error: 2.0254e-04\n",
            "Epoch 71/100\n",
            "625/625 [==============================] - 1s 2ms/step - loss: 5.7370e-04 - mean_squared_error: 5.7370e-04 - val_loss: 1.9972e-04 - val_mean_squared_error: 1.9972e-04\n",
            "Epoch 72/100\n",
            "625/625 [==============================] - 1s 2ms/step - loss: 5.6056e-04 - mean_squared_error: 5.6056e-04 - val_loss: 1.9726e-04 - val_mean_squared_error: 1.9726e-04\n",
            "Epoch 73/100\n",
            "625/625 [==============================] - 1s 2ms/step - loss: 5.4744e-04 - mean_squared_error: 5.4744e-04 - val_loss: 1.9496e-04 - val_mean_squared_error: 1.9496e-04\n",
            "Epoch 74/100\n",
            "625/625 [==============================] - 1s 1ms/step - loss: 5.3439e-04 - mean_squared_error: 5.3439e-04 - val_loss: 1.9234e-04 - val_mean_squared_error: 1.9234e-04\n",
            "Epoch 75/100\n",
            "625/625 [==============================] - 1s 2ms/step - loss: 5.2144e-04 - mean_squared_error: 5.2144e-04 - val_loss: 1.9001e-04 - val_mean_squared_error: 1.9001e-04\n",
            "Epoch 76/100\n",
            "625/625 [==============================] - 1s 2ms/step - loss: 5.0866e-04 - mean_squared_error: 5.0866e-04 - val_loss: 1.8771e-04 - val_mean_squared_error: 1.8771e-04\n",
            "Epoch 77/100\n",
            "625/625 [==============================] - 1s 2ms/step - loss: 4.9590e-04 - mean_squared_error: 4.9590e-04 - val_loss: 1.8557e-04 - val_mean_squared_error: 1.8557e-04\n",
            "Epoch 78/100\n",
            "625/625 [==============================] - 1s 2ms/step - loss: 4.8340e-04 - mean_squared_error: 4.8340e-04 - val_loss: 1.8391e-04 - val_mean_squared_error: 1.8391e-04\n",
            "Epoch 79/100\n",
            "625/625 [==============================] - 1s 2ms/step - loss: 4.7104e-04 - mean_squared_error: 4.7104e-04 - val_loss: 1.8168e-04 - val_mean_squared_error: 1.8168e-04\n",
            "Epoch 80/100\n",
            "625/625 [==============================] - 1s 2ms/step - loss: 4.5891e-04 - mean_squared_error: 4.5891e-04 - val_loss: 1.7930e-04 - val_mean_squared_error: 1.7930e-04\n",
            "Epoch 81/100\n",
            "625/625 [==============================] - 1s 2ms/step - loss: 4.4705e-04 - mean_squared_error: 4.4705e-04 - val_loss: 1.7736e-04 - val_mean_squared_error: 1.7736e-04\n",
            "Epoch 82/100\n",
            "625/625 [==============================] - 1s 2ms/step - loss: 4.3560e-04 - mean_squared_error: 4.3560e-04 - val_loss: 1.7533e-04 - val_mean_squared_error: 1.7533e-04\n",
            "Epoch 83/100\n",
            "625/625 [==============================] - 1s 2ms/step - loss: 4.2447e-04 - mean_squared_error: 4.2447e-04 - val_loss: 1.7304e-04 - val_mean_squared_error: 1.7304e-04\n",
            "Epoch 84/100\n",
            "625/625 [==============================] - 1s 2ms/step - loss: 4.1374e-04 - mean_squared_error: 4.1374e-04 - val_loss: 1.7058e-04 - val_mean_squared_error: 1.7058e-04\n",
            "Epoch 85/100\n",
            "625/625 [==============================] - 1s 2ms/step - loss: 4.0353e-04 - mean_squared_error: 4.0353e-04 - val_loss: 1.6774e-04 - val_mean_squared_error: 1.6774e-04\n",
            "Epoch 86/100\n",
            "625/625 [==============================] - 1s 2ms/step - loss: 3.9360e-04 - mean_squared_error: 3.9360e-04 - val_loss: 1.6478e-04 - val_mean_squared_error: 1.6478e-04\n",
            "Epoch 87/100\n",
            "625/625 [==============================] - 1s 2ms/step - loss: 3.8413e-04 - mean_squared_error: 3.8413e-04 - val_loss: 1.6197e-04 - val_mean_squared_error: 1.6197e-04\n",
            "Epoch 88/100\n",
            "625/625 [==============================] - 1s 2ms/step - loss: 3.7503e-04 - mean_squared_error: 3.7503e-04 - val_loss: 1.5846e-04 - val_mean_squared_error: 1.5846e-04\n",
            "Epoch 89/100\n",
            "625/625 [==============================] - 1s 2ms/step - loss: 3.6623e-04 - mean_squared_error: 3.6623e-04 - val_loss: 1.5512e-04 - val_mean_squared_error: 1.5512e-04\n",
            "Epoch 90/100\n",
            "625/625 [==============================] - 1s 2ms/step - loss: 3.5770e-04 - mean_squared_error: 3.5770e-04 - val_loss: 1.5215e-04 - val_mean_squared_error: 1.5215e-04\n",
            "Epoch 91/100\n",
            "625/625 [==============================] - 1s 2ms/step - loss: 3.4949e-04 - mean_squared_error: 3.4949e-04 - val_loss: 1.5036e-04 - val_mean_squared_error: 1.5036e-04\n",
            "Epoch 92/100\n",
            "625/625 [==============================] - 1s 2ms/step - loss: 3.4202e-04 - mean_squared_error: 3.4202e-04 - val_loss: 1.4937e-04 - val_mean_squared_error: 1.4937e-04\n",
            "Epoch 93/100\n"
          ],
          "name": "stdout"
        },
        {
          "output_type": "stream",
          "text": [
            "625/625 [==============================] - 1s 2ms/step - loss: 3.3474e-04 - mean_squared_error: 3.3474e-04 - val_loss: 1.4928e-04 - val_mean_squared_error: 1.4928e-04\n",
            "Epoch 94/100\n",
            "625/625 [==============================] - 1s 2ms/step - loss: 3.2761e-04 - mean_squared_error: 3.2761e-04 - val_loss: 1.5012e-04 - val_mean_squared_error: 1.5012e-04\n",
            "Epoch 95/100\n",
            "625/625 [==============================] - 1s 2ms/step - loss: 3.2118e-04 - mean_squared_error: 3.2118e-04 - val_loss: 1.5091e-04 - val_mean_squared_error: 1.5091e-04\n",
            "Epoch 96/100\n",
            "625/625 [==============================] - 1s 2ms/step - loss: 3.1509e-04 - mean_squared_error: 3.1509e-04 - val_loss: 1.5097e-04 - val_mean_squared_error: 1.5097e-04\n",
            "Epoch 97/100\n",
            "625/625 [==============================] - 1s 2ms/step - loss: 3.0975e-04 - mean_squared_error: 3.0975e-04 - val_loss: 1.5069e-04 - val_mean_squared_error: 1.5069e-04\n",
            "Epoch 98/100\n",
            "625/625 [==============================] - 1s 2ms/step - loss: 3.0478e-04 - mean_squared_error: 3.0478e-04 - val_loss: 1.4940e-04 - val_mean_squared_error: 1.4940e-04\n",
            "Epoch 99/100\n",
            "625/625 [==============================] - 1s 2ms/step - loss: 2.9989e-04 - mean_squared_error: 2.9989e-04 - val_loss: 1.4757e-04 - val_mean_squared_error: 1.4757e-04\n",
            "Epoch 100/100\n",
            "625/625 [==============================] - 1s 2ms/step - loss: 2.9614e-04 - mean_squared_error: 2.9614e-04 - val_loss: 1.4510e-04 - val_mean_squared_error: 1.4510e-04\n",
            "0.5476429601100062\n"
          ],
          "name": "stdout"
        }
      ]
    },
    {
      "cell_type": "code",
      "metadata": {
        "scrolled": true,
        "id": "vDiLnjKeUPDV",
        "outputId": "2be198a1-a6d2-4626-8446-7b87f84c0b07"
      },
      "source": [
        "plt.figure(figsize=(10,8))\n",
        "plotting(history) # Evolution of training/test loss\n",
        "multi_resdense_model.summary()\n",
        "plt.savefig('0.001s20knewageresdense1-1batch32allep100lrelu10diff1u1500.png')"
      ],
      "execution_count": null,
      "outputs": [
        {
          "output_type": "stream",
          "text": [
            "Model: \"sequential_4\"\n",
            "_________________________________________________________________\n",
            "Layer (type)                 Output Shape              Param #   \n",
            "=================================================================\n",
            "lambda_4 (Lambda)            (None, 1, 9)              0         \n",
            "_________________________________________________________________\n",
            "dense_8 (Dense)              (None, 1, 10)             100       \n",
            "_________________________________________________________________\n",
            "dense_9 (Dense)              (None, 1, 2)              22        \n",
            "=================================================================\n",
            "Total params: 122\n",
            "Trainable params: 122\n",
            "Non-trainable params: 0\n",
            "_________________________________________________________________\n"
          ],
          "name": "stdout"
        },
        {
          "output_type": "display_data",
          "data": {
            "image/png": "[encoded data removed]",
            "text/plain": [
              "<Figure size 720x576 with 1 Axes>"
            ]
          },
          "metadata": {
            "tags": [],
            "needs_background": "light"
          }
        }
      ]
    },
    {
      "cell_type": "code",
      "metadata": {
        "id": "Qt7JGiEuUPDW"
      },
      "source": [
        "multi_resdense_model.save_weights('./checkpoints/0.001s20knewageresdense1-1batch32allep100lrelu10diff1u1500')\n",
        "history10= history.history['loss']\n",
        "history10val= history.history['val_loss']\n",
        "time10= elapsed"
      ],
      "execution_count": null,
      "outputs": []
    },
    {
      "cell_type": "code",
      "metadata": {
        "scrolled": true,
        "id": "C52EfNhHUPDW",
        "outputId": "3592b898-3ace-4a5f-9cee-5da318fb8fe5"
      },
      "source": [
        "multi_resdense_model = tf.keras.Sequential([\n",
        "    # Take the last time step.\n",
        "    # Shape [batch, time, features] => [batch, 1, features]\n",
        "    tf.keras.layers.Lambda(lambda x: x[:, -1:, :]),\n",
        "    # Shape => [batch, 1, dense_units]\n",
        "  tf.keras.layers.Dense(20,\n",
        "                    activation=partial(tf.nn.leaky_relu, alpha=0.5)),\n",
        "    tf.keras.layers.Dense(OUT_STEPS*num_label,\n",
        "                         kernel_initializer=tf.initializers.zeros\n",
        "                         ),\n",
        "])\n",
        "compile(multi_resdense_model,lr=0.001)\n",
        "tf.keras.backend.clear_session()\n",
        "start_time = timeit.default_timer()\n",
        "history = fit(multi_resdense_model, multi_window)\n",
        "\n",
        "elapsed = timeit.default_timer() - start_time \n",
        "print(elapsed / 200)"
      ],
      "execution_count": null,
      "outputs": [
        {
          "output_type": "stream",
          "text": [
            "Epoch 1/100\n",
            "625/625 [==============================] - 2s 3ms/step - loss: 0.0333 - mean_squared_error: 0.0333 - val_loss: 0.0022 - val_mean_squared_error: 0.0022\n",
            "Epoch 2/100\n",
            "625/625 [==============================] - 1s 2ms/step - loss: 0.0033 - mean_squared_error: 0.0033 - val_loss: 0.0015 - val_mean_squared_error: 0.0015\n",
            "Epoch 3/100\n",
            "625/625 [==============================] - 1s 2ms/step - loss: 0.0021 - mean_squared_error: 0.0021 - val_loss: 7.9099e-04 - val_mean_squared_error: 7.9099e-04\n",
            "Epoch 4/100\n",
            "625/625 [==============================] - 1s 2ms/step - loss: 0.0016 - mean_squared_error: 0.0016 - val_loss: 5.1628e-04 - val_mean_squared_error: 5.1628e-04\n",
            "Epoch 5/100\n",
            "625/625 [==============================] - 1s 2ms/step - loss: 0.0015 - mean_squared_error: 0.0015 - val_loss: 4.4968e-04 - val_mean_squared_error: 4.4968e-04\n",
            "Epoch 6/100\n",
            "625/625 [==============================] - 1s 2ms/step - loss: 0.0014 - mean_squared_error: 0.0014 - val_loss: 4.2763e-04 - val_mean_squared_error: 4.2763e-04\n",
            "Epoch 7/100\n",
            "625/625 [==============================] - 1s 2ms/step - loss: 0.0014 - mean_squared_error: 0.0014 - val_loss: 4.1213e-04 - val_mean_squared_error: 4.1213e-04\n",
            "Epoch 8/100\n",
            "625/625 [==============================] - 1s 2ms/step - loss: 0.0014 - mean_squared_error: 0.0014 - val_loss: 3.9826e-04 - val_mean_squared_error: 3.9826e-04\n",
            "Epoch 9/100\n",
            "625/625 [==============================] - 1s 2ms/step - loss: 0.0013 - mean_squared_error: 0.0013 - val_loss: 3.8637e-04 - val_mean_squared_error: 3.8637e-04\n",
            "Epoch 10/100\n",
            "625/625 [==============================] - 1s 2ms/step - loss: 0.0013 - mean_squared_error: 0.0013 - val_loss: 3.7658e-04 - val_mean_squared_error: 3.7658e-04\n",
            "Epoch 11/100\n",
            "625/625 [==============================] - 1s 2ms/step - loss: 0.0013 - mean_squared_error: 0.0013 - val_loss: 3.6935e-04 - val_mean_squared_error: 3.6935e-04\n",
            "Epoch 12/100\n",
            "625/625 [==============================] - 1s 2ms/step - loss: 0.0013 - mean_squared_error: 0.0013 - val_loss: 3.6325e-04 - val_mean_squared_error: 3.6325e-04\n",
            "Epoch 13/100\n",
            "625/625 [==============================] - 1s 2ms/step - loss: 0.0013 - mean_squared_error: 0.0013 - val_loss: 3.5826e-04 - val_mean_squared_error: 3.5826e-04\n",
            "Epoch 14/100\n",
            "625/625 [==============================] - 1s 2ms/step - loss: 0.0012 - mean_squared_error: 0.0012 - val_loss: 3.5385e-04 - val_mean_squared_error: 3.5385e-04\n",
            "Epoch 15/100\n",
            "625/625 [==============================] - 1s 2ms/step - loss: 0.0012 - mean_squared_error: 0.0012 - val_loss: 3.5040e-04 - val_mean_squared_error: 3.5040e-04\n",
            "Epoch 16/100\n",
            "625/625 [==============================] - 1s 2ms/step - loss: 0.0012 - mean_squared_error: 0.0012 - val_loss: 3.4729e-04 - val_mean_squared_error: 3.4729e-04\n",
            "Epoch 17/100\n",
            "625/625 [==============================] - 1s 2ms/step - loss: 0.0012 - mean_squared_error: 0.0012 - val_loss: 3.4430e-04 - val_mean_squared_error: 3.4430e-04\n",
            "Epoch 18/100\n",
            "625/625 [==============================] - 1s 2ms/step - loss: 0.0012 - mean_squared_error: 0.0012 - val_loss: 3.4183e-04 - val_mean_squared_error: 3.4183e-04\n",
            "Epoch 19/100\n",
            "625/625 [==============================] - 1s 2ms/step - loss: 0.0012 - mean_squared_error: 0.0012 - val_loss: 3.3957e-04 - val_mean_squared_error: 3.3957e-04\n",
            "Epoch 20/100\n",
            "625/625 [==============================] - 1s 2ms/step - loss: 0.0012 - mean_squared_error: 0.0012 - val_loss: 3.3745e-04 - val_mean_squared_error: 3.3745e-04\n",
            "Epoch 21/100\n",
            "625/625 [==============================] - 1s 2ms/step - loss: 0.0011 - mean_squared_error: 0.0011 - val_loss: 3.3563e-04 - val_mean_squared_error: 3.3563e-04\n",
            "Epoch 22/100\n",
            "625/625 [==============================] - 1s 2ms/step - loss: 0.0011 - mean_squared_error: 0.0011 - val_loss: 3.3387e-04 - val_mean_squared_error: 3.3387e-04\n",
            "Epoch 23/100\n",
            "625/625 [==============================] - 1s 2ms/step - loss: 0.0011 - mean_squared_error: 0.0011 - val_loss: 3.3189e-04 - val_mean_squared_error: 3.3189e-04\n",
            "Epoch 24/100\n",
            "625/625 [==============================] - 1s 2ms/step - loss: 0.0011 - mean_squared_error: 0.0011 - val_loss: 3.3028e-04 - val_mean_squared_error: 3.3028e-04\n",
            "Epoch 25/100\n",
            "625/625 [==============================] - 1s 2ms/step - loss: 0.0011 - mean_squared_error: 0.0011 - val_loss: 3.2874e-04 - val_mean_squared_error: 3.2874e-04\n",
            "Epoch 26/100\n",
            "625/625 [==============================] - 1s 2ms/step - loss: 0.0011 - mean_squared_error: 0.0011 - val_loss: 3.2721e-04 - val_mean_squared_error: 3.2721e-04\n",
            "Epoch 27/100\n",
            "625/625 [==============================] - 1s 2ms/step - loss: 0.0011 - mean_squared_error: 0.0011 - val_loss: 3.2597e-04 - val_mean_squared_error: 3.2597e-04\n",
            "Epoch 28/100\n",
            "625/625 [==============================] - 1s 2ms/step - loss: 0.0011 - mean_squared_error: 0.0011 - val_loss: 3.2446e-04 - val_mean_squared_error: 3.2446e-04\n",
            "Epoch 29/100\n",
            "625/625 [==============================] - 1s 2ms/step - loss: 0.0011 - mean_squared_error: 0.0011 - val_loss: 3.2304e-04 - val_mean_squared_error: 3.2304e-04\n",
            "Epoch 30/100\n",
            "625/625 [==============================] - 1s 2ms/step - loss: 0.0011 - mean_squared_error: 0.0011 - val_loss: 3.2129e-04 - val_mean_squared_error: 3.2129e-04\n",
            "Epoch 31/100\n",
            "625/625 [==============================] - 1s 2ms/step - loss: 0.0010 - mean_squared_error: 0.0010 - val_loss: 3.1963e-04 - val_mean_squared_error: 3.1963e-04\n",
            "Epoch 32/100\n",
            "625/625 [==============================] - 1s 2ms/step - loss: 0.0010 - mean_squared_error: 0.0010 - val_loss: 3.1809e-04 - val_mean_squared_error: 3.1809e-04\n",
            "Epoch 33/100\n",
            "625/625 [==============================] - 1s 2ms/step - loss: 0.0010 - mean_squared_error: 0.0010 - val_loss: 3.1654e-04 - val_mean_squared_error: 3.1654e-04\n",
            "Epoch 34/100\n",
            "625/625 [==============================] - 1s 2ms/step - loss: 0.0010 - mean_squared_error: 0.0010 - val_loss: 3.1477e-04 - val_mean_squared_error: 3.1477e-04\n",
            "Epoch 35/100\n",
            "625/625 [==============================] - 1s 2ms/step - loss: 0.0010 - mean_squared_error: 0.0010 - val_loss: 3.1263e-04 - val_mean_squared_error: 3.1263e-04\n",
            "Epoch 36/100\n",
            "625/625 [==============================] - 1s 2ms/step - loss: 0.0010 - mean_squared_error: 0.0010 - val_loss: 3.1028e-04 - val_mean_squared_error: 3.1028e-04\n",
            "Epoch 37/100\n",
            "625/625 [==============================] - 1s 2ms/step - loss: 9.9036e-04 - mean_squared_error: 9.9036e-04 - val_loss: 3.0771e-04 - val_mean_squared_error: 3.0771e-04\n",
            "Epoch 38/100\n",
            "625/625 [==============================] - 1s 2ms/step - loss: 9.8037e-04 - mean_squared_error: 9.8037e-04 - val_loss: 3.0500e-04 - val_mean_squared_error: 3.0500e-04\n",
            "Epoch 39/100\n",
            "625/625 [==============================] - 1s 2ms/step - loss: 9.7042e-04 - mean_squared_error: 9.7042e-04 - val_loss: 3.0246e-04 - val_mean_squared_error: 3.0246e-04\n",
            "Epoch 40/100\n",
            "625/625 [==============================] - 1s 2ms/step - loss: 9.6028e-04 - mean_squared_error: 9.6028e-04 - val_loss: 3.0007e-04 - val_mean_squared_error: 3.0007e-04\n",
            "Epoch 41/100\n",
            "625/625 [==============================] - 1s 2ms/step - loss: 9.5014e-04 - mean_squared_error: 9.5014e-04 - val_loss: 2.9753e-04 - val_mean_squared_error: 2.9753e-04\n",
            "Epoch 42/100\n",
            "625/625 [==============================] - 1s 2ms/step - loss: 9.3985e-04 - mean_squared_error: 9.3985e-04 - val_loss: 2.9494e-04 - val_mean_squared_error: 2.9494e-04\n",
            "Epoch 43/100\n",
            "625/625 [==============================] - 1s 2ms/step - loss: 9.2940e-04 - mean_squared_error: 9.2940e-04 - val_loss: 2.9266e-04 - val_mean_squared_error: 2.9266e-04\n",
            "Epoch 44/100\n",
            "625/625 [==============================] - 1s 2ms/step - loss: 9.1883e-04 - mean_squared_error: 9.1883e-04 - val_loss: 2.9046e-04 - val_mean_squared_error: 2.9046e-04\n",
            "Epoch 45/100\n",
            "625/625 [==============================] - 1s 2ms/step - loss: 9.0819e-04 - mean_squared_error: 9.0819e-04 - val_loss: 2.8827e-04 - val_mean_squared_error: 2.8827e-04\n",
            "Epoch 46/100\n",
            "625/625 [==============================] - 1s 2ms/step - loss: 8.9748e-04 - mean_squared_error: 8.9748e-04 - val_loss: 2.8618e-04 - val_mean_squared_error: 2.8618e-04\n",
            "Epoch 47/100\n",
            "625/625 [==============================] - 1s 2ms/step - loss: 8.8660e-04 - mean_squared_error: 8.8660e-04 - val_loss: 2.8397e-04 - val_mean_squared_error: 2.8397e-04\n",
            "Epoch 48/100\n",
            "625/625 [==============================] - 1s 2ms/step - loss: 8.7560e-04 - mean_squared_error: 8.7560e-04 - val_loss: 2.8211e-04 - val_mean_squared_error: 2.8211e-04\n",
            "Epoch 49/100\n",
            "625/625 [==============================] - 1s 2ms/step - loss: 8.6457e-04 - mean_squared_error: 8.6457e-04 - val_loss: 2.8034e-04 - val_mean_squared_error: 2.8034e-04\n",
            "Epoch 50/100\n",
            "625/625 [==============================] - 1s 2ms/step - loss: 8.5350e-04 - mean_squared_error: 8.5350e-04 - val_loss: 2.7855e-04 - val_mean_squared_error: 2.7855e-04\n",
            "Epoch 51/100\n",
            "625/625 [==============================] - 1s 2ms/step - loss: 8.4214e-04 - mean_squared_error: 8.4214e-04 - val_loss: 2.7682e-04 - val_mean_squared_error: 2.7682e-04\n",
            "Epoch 52/100\n",
            "625/625 [==============================] - 1s 2ms/step - loss: 8.3074e-04 - mean_squared_error: 8.3074e-04 - val_loss: 2.7514e-04 - val_mean_squared_error: 2.7514e-04\n",
            "Epoch 53/100\n",
            "625/625 [==============================] - 1s 2ms/step - loss: 8.1916e-04 - mean_squared_error: 8.1916e-04 - val_loss: 2.7352e-04 - val_mean_squared_error: 2.7352e-04\n",
            "Epoch 54/100\n",
            "625/625 [==============================] - 1s 2ms/step - loss: 8.0751e-04 - mean_squared_error: 8.0751e-04 - val_loss: 2.7159e-04 - val_mean_squared_error: 2.7159e-04\n",
            "Epoch 55/100\n",
            "625/625 [==============================] - 1s 2ms/step - loss: 7.9578e-04 - mean_squared_error: 7.9578e-04 - val_loss: 2.6976e-04 - val_mean_squared_error: 2.6976e-04\n",
            "Epoch 56/100\n",
            "625/625 [==============================] - 1s 2ms/step - loss: 7.8391e-04 - mean_squared_error: 7.8391e-04 - val_loss: 2.6782e-04 - val_mean_squared_error: 2.6782e-04\n",
            "Epoch 57/100\n",
            "625/625 [==============================] - 1s 2ms/step - loss: 7.7190e-04 - mean_squared_error: 7.7190e-04 - val_loss: 2.6558e-04 - val_mean_squared_error: 2.6558e-04\n",
            "Epoch 58/100\n",
            "625/625 [==============================] - 1s 2ms/step - loss: 7.5965e-04 - mean_squared_error: 7.5965e-04 - val_loss: 2.6363e-04 - val_mean_squared_error: 2.6363e-04\n",
            "Epoch 59/100\n",
            "625/625 [==============================] - 1s 2ms/step - loss: 7.4731e-04 - mean_squared_error: 7.4731e-04 - val_loss: 2.6164e-04 - val_mean_squared_error: 2.6164e-04\n",
            "Epoch 60/100\n",
            "625/625 [==============================] - 1s 2ms/step - loss: 7.3485e-04 - mean_squared_error: 7.3485e-04 - val_loss: 2.5958e-04 - val_mean_squared_error: 2.5958e-04\n",
            "Epoch 61/100\n",
            "625/625 [==============================] - 1s 2ms/step - loss: 7.2224e-04 - mean_squared_error: 7.2224e-04 - val_loss: 2.5769e-04 - val_mean_squared_error: 2.5769e-04\n",
            "Epoch 62/100\n",
            "625/625 [==============================] - 1s 2ms/step - loss: 7.0964e-04 - mean_squared_error: 7.0964e-04 - val_loss: 2.5580e-04 - val_mean_squared_error: 2.5580e-04\n",
            "Epoch 63/100\n",
            "625/625 [==============================] - 1s 2ms/step - loss: 6.9687e-04 - mean_squared_error: 6.9687e-04 - val_loss: 2.5388e-04 - val_mean_squared_error: 2.5388e-04\n",
            "Epoch 64/100\n",
            "625/625 [==============================] - 1s 2ms/step - loss: 6.8409e-04 - mean_squared_error: 6.8409e-04 - val_loss: 2.5188e-04 - val_mean_squared_error: 2.5188e-04\n",
            "Epoch 65/100\n",
            "625/625 [==============================] - 1s 2ms/step - loss: 6.7112e-04 - mean_squared_error: 6.7112e-04 - val_loss: 2.4978e-04 - val_mean_squared_error: 2.4978e-04\n",
            "Epoch 66/100\n",
            "625/625 [==============================] - 1s 2ms/step - loss: 6.5807e-04 - mean_squared_error: 6.5807e-04 - val_loss: 2.4763e-04 - val_mean_squared_error: 2.4763e-04\n",
            "Epoch 67/100\n",
            "625/625 [==============================] - 1s 2ms/step - loss: 6.4476e-04 - mean_squared_error: 6.4476e-04 - val_loss: 2.4592e-04 - val_mean_squared_error: 2.4592e-04\n",
            "Epoch 68/100\n",
            "625/625 [==============================] - 1s 2ms/step - loss: 6.3148e-04 - mean_squared_error: 6.3148e-04 - val_loss: 2.4423e-04 - val_mean_squared_error: 2.4423e-04\n",
            "Epoch 69/100\n",
            "625/625 [==============================] - 1s 2ms/step - loss: 6.1815e-04 - mean_squared_error: 6.1815e-04 - val_loss: 2.4252e-04 - val_mean_squared_error: 2.4252e-04\n",
            "Epoch 70/100\n",
            "625/625 [==============================] - 1s 2ms/step - loss: 6.0477e-04 - mean_squared_error: 6.0477e-04 - val_loss: 2.4069e-04 - val_mean_squared_error: 2.4069e-04\n",
            "Epoch 71/100\n",
            "625/625 [==============================] - 1s 2ms/step - loss: 5.9132e-04 - mean_squared_error: 5.9132e-04 - val_loss: 2.3901e-04 - val_mean_squared_error: 2.3901e-04\n",
            "Epoch 72/100\n",
            "625/625 [==============================] - 1s 2ms/step - loss: 5.7797e-04 - mean_squared_error: 5.7797e-04 - val_loss: 2.3753e-04 - val_mean_squared_error: 2.3753e-04\n",
            "Epoch 73/100\n",
            "625/625 [==============================] - 1s 2ms/step - loss: 5.6456e-04 - mean_squared_error: 5.6456e-04 - val_loss: 2.3617e-04 - val_mean_squared_error: 2.3617e-04\n",
            "Epoch 74/100\n",
            "625/625 [==============================] - 1s 2ms/step - loss: 5.5110e-04 - mean_squared_error: 5.5110e-04 - val_loss: 2.3445e-04 - val_mean_squared_error: 2.3445e-04\n",
            "Epoch 75/100\n",
            "625/625 [==============================] - 1s 2ms/step - loss: 5.3790e-04 - mean_squared_error: 5.3790e-04 - val_loss: 2.3248e-04 - val_mean_squared_error: 2.3248e-04\n",
            "Epoch 76/100\n",
            "625/625 [==============================] - 1s 2ms/step - loss: 5.2477e-04 - mean_squared_error: 5.2477e-04 - val_loss: 2.3071e-04 - val_mean_squared_error: 2.3071e-04\n",
            "Epoch 77/100\n",
            "625/625 [==============================] - 1s 2ms/step - loss: 5.1170e-04 - mean_squared_error: 5.1170e-04 - val_loss: 2.2962e-04 - val_mean_squared_error: 2.2962e-04\n",
            "Epoch 78/100\n",
            "625/625 [==============================] - 1s 2ms/step - loss: 4.9837e-04 - mean_squared_error: 4.9837e-04 - val_loss: 2.2743e-04 - val_mean_squared_error: 2.2743e-04\n",
            "Epoch 79/100\n",
            "625/625 [==============================] - 1s 2ms/step - loss: 4.8546e-04 - mean_squared_error: 4.8546e-04 - val_loss: 2.2509e-04 - val_mean_squared_error: 2.2509e-04\n",
            "Epoch 80/100\n",
            "625/625 [==============================] - 1s 2ms/step - loss: 4.7251e-04 - mean_squared_error: 4.7251e-04 - val_loss: 2.2229e-04 - val_mean_squared_error: 2.2229e-04\n",
            "Epoch 81/100\n",
            "625/625 [==============================] - 1s 2ms/step - loss: 4.6002e-04 - mean_squared_error: 4.6002e-04 - val_loss: 2.1974e-04 - val_mean_squared_error: 2.1974e-04\n",
            "Epoch 82/100\n",
            "625/625 [==============================] - 1s 2ms/step - loss: 4.4771e-04 - mean_squared_error: 4.4771e-04 - val_loss: 2.1679e-04 - val_mean_squared_error: 2.1679e-04\n",
            "Epoch 83/100\n",
            "625/625 [==============================] - 1s 2ms/step - loss: 4.3532e-04 - mean_squared_error: 4.3532e-04 - val_loss: 2.1398e-04 - val_mean_squared_error: 2.1398e-04\n",
            "Epoch 84/100\n",
            "625/625 [==============================] - 1s 2ms/step - loss: 4.2357e-04 - mean_squared_error: 4.2357e-04 - val_loss: 2.1095e-04 - val_mean_squared_error: 2.1095e-04\n",
            "Epoch 85/100\n",
            "625/625 [==============================] - 1s 2ms/step - loss: 4.1191e-04 - mean_squared_error: 4.1191e-04 - val_loss: 2.0746e-04 - val_mean_squared_error: 2.0746e-04\n",
            "Epoch 86/100\n",
            "625/625 [==============================] - 2s 2ms/step - loss: 4.0061e-04 - mean_squared_error: 4.0061e-04 - val_loss: 2.0419e-04 - val_mean_squared_error: 2.0419e-04\n",
            "Epoch 87/100\n",
            "625/625 [==============================] - 1s 2ms/step - loss: 3.9043e-04 - mean_squared_error: 3.9043e-04 - val_loss: 2.0103e-04 - val_mean_squared_error: 2.0103e-04\n",
            "Epoch 88/100\n",
            "625/625 [==============================] - 1s 2ms/step - loss: 3.8113e-04 - mean_squared_error: 3.8113e-04 - val_loss: 1.9773e-04 - val_mean_squared_error: 1.9773e-04\n",
            "Epoch 89/100\n",
            "625/625 [==============================] - 1s 2ms/step - loss: 3.7305e-04 - mean_squared_error: 3.7305e-04 - val_loss: 1.9429e-04 - val_mean_squared_error: 1.9429e-04\n",
            "Epoch 90/100\n",
            "625/625 [==============================] - 1s 2ms/step - loss: 3.6558e-04 - mean_squared_error: 3.6558e-04 - val_loss: 1.8993e-04 - val_mean_squared_error: 1.8993e-04\n",
            "Epoch 91/100\n",
            "625/625 [==============================] - 1s 2ms/step - loss: 3.5897e-04 - mean_squared_error: 3.5897e-04 - val_loss: 1.8622e-04 - val_mean_squared_error: 1.8622e-04\n",
            "Epoch 92/100\n",
            "625/625 [==============================] - 1s 2ms/step - loss: 3.5224e-04 - mean_squared_error: 3.5224e-04 - val_loss: 1.8250e-04 - val_mean_squared_error: 1.8250e-04\n",
            "Epoch 93/100\n"
          ],
          "name": "stdout"
        },
        {
          "output_type": "stream",
          "text": [
            "625/625 [==============================] - 1s 2ms/step - loss: 3.4689e-04 - mean_squared_error: 3.4689e-04 - val_loss: 1.7914e-04 - val_mean_squared_error: 1.7914e-04\n",
            "Epoch 94/100\n",
            "625/625 [==============================] - 1s 2ms/step - loss: 3.4166e-04 - mean_squared_error: 3.4166e-04 - val_loss: 1.7578e-04 - val_mean_squared_error: 1.7578e-04\n",
            "Epoch 95/100\n",
            "625/625 [==============================] - 1s 2ms/step - loss: 3.3701e-04 - mean_squared_error: 3.3701e-04 - val_loss: 1.7254e-04 - val_mean_squared_error: 1.7254e-04\n",
            "Epoch 96/100\n",
            "625/625 [==============================] - 1s 2ms/step - loss: 3.3279e-04 - mean_squared_error: 3.3279e-04 - val_loss: 1.6911e-04 - val_mean_squared_error: 1.6911e-04\n",
            "Epoch 97/100\n",
            "625/625 [==============================] - 1s 1ms/step - loss: 3.2897e-04 - mean_squared_error: 3.2897e-04 - val_loss: 1.6655e-04 - val_mean_squared_error: 1.6655e-04\n",
            "Epoch 98/100\n",
            "625/625 [==============================] - 1s 2ms/step - loss: 3.2524e-04 - mean_squared_error: 3.2524e-04 - val_loss: 1.6389e-04 - val_mean_squared_error: 1.6389e-04\n",
            "Epoch 99/100\n",
            "625/625 [==============================] - 1s 2ms/step - loss: 3.2160e-04 - mean_squared_error: 3.2160e-04 - val_loss: 1.6188e-04 - val_mean_squared_error: 1.6188e-04\n",
            "Epoch 100/100\n",
            "625/625 [==============================] - 1s 2ms/step - loss: 3.1835e-04 - mean_squared_error: 3.1835e-04 - val_loss: 1.5987e-04 - val_mean_squared_error: 1.5987e-04\n",
            "0.6355044731799899\n"
          ],
          "name": "stdout"
        }
      ]
    },
    {
      "cell_type": "code",
      "metadata": {
        "scrolled": true,
        "id": "wEtpw8ccUPDW",
        "outputId": "c4c3d003-2ac0-4b91-acd5-e190c72db4ce"
      },
      "source": [
        "plt.figure(figsize=(10,8))\n",
        "plotting(history) # Evolution of training/test loss\n",
        "multi_resdense_model.summary()\n",
        "plt.savefig('0.001s20knewageresdense1-1batch32allep100lrelu20diff1u1500.png')"
      ],
      "execution_count": null,
      "outputs": [
        {
          "output_type": "stream",
          "text": [
            "Model: \"sequential\"\n",
            "_________________________________________________________________\n",
            "Layer (type)                 Output Shape              Param #   \n",
            "=================================================================\n",
            "lambda (Lambda)              (None, 1, 9)              0         \n",
            "_________________________________________________________________\n",
            "dense (Dense)                (None, 1, 20)             200       \n",
            "_________________________________________________________________\n",
            "dense_1 (Dense)              (None, 1, 2)              42        \n",
            "=================================================================\n",
            "Total params: 242\n",
            "Trainable params: 242\n",
            "Non-trainable params: 0\n",
            "_________________________________________________________________\n"
          ],
          "name": "stdout"
        },
        {
          "output_type": "display_data",
          "data": {
            "image/png": "[encoded data removed]",
            "text/plain": [
              "<Figure size 720x576 with 1 Axes>"
            ]
          },
          "metadata": {
            "tags": [],
            "needs_background": "light"
          }
        }
      ]
    },
    {
      "cell_type": "code",
      "metadata": {
        "id": "K06XF80DUPDW"
      },
      "source": [
        "multi_resdense_model.save_weights('./checkpoints/0.001s20knewageresdense1-1batch32allep100lrelu20diff1u1500')\n",
        "history20= history.history['loss']\n",
        "history20val= history.history['val_loss']\n",
        "time20=elapsed"
      ],
      "execution_count": null,
      "outputs": []
    },
    {
      "cell_type": "code",
      "metadata": {
        "scrolled": true,
        "id": "SMOpM_ciUPDW",
        "outputId": "4e24f951-25b7-4fb6-e029-600078d76ac6"
      },
      "source": [
        "multi_resdense_model = tf.keras.Sequential([\n",
        "    # Take the last time step.\n",
        "    # Shape [batch, time, features] => [batch, 1, features]\n",
        "    tf.keras.layers.Lambda(lambda x: x[:, -1:, :]),\n",
        "    # Shape => [batch, 1, dense_units]\n",
        "  tf.keras.layers.Dense(30, activation=partial(tf.nn.leaky_relu, alpha=0.5)),\n",
        "    tf.keras.layers.Dense(OUT_STEPS*num_label,\n",
        "                         kernel_initializer=tf.initializers.zeros\n",
        "                         ),\n",
        "])\n",
        "compile(multi_resdense_model,lr=0.001)\n",
        "tf.keras.backend.clear_session()\n",
        "start_time = timeit.default_timer()\n",
        "history = fit(multi_resdense_model, multi_window)\n",
        "\n",
        "elapsed = timeit.default_timer() - start_time \n",
        "print(elapsed / 200)"
      ],
      "execution_count": null,
      "outputs": [
        {
          "output_type": "stream",
          "text": [
            "Epoch 1/100\n",
            "625/625 [==============================] - 1s 2ms/step - loss: 0.0227 - mean_squared_error: 0.0227 - val_loss: 0.0012 - val_mean_squared_error: 0.0012\n",
            "Epoch 2/100\n",
            "625/625 [==============================] - 1s 2ms/step - loss: 0.0016 - mean_squared_error: 0.0016 - val_loss: 5.8215e-04 - val_mean_squared_error: 5.8215e-04\n",
            "Epoch 3/100\n",
            "625/625 [==============================] - 1s 2ms/step - loss: 0.0014 - mean_squared_error: 0.0014 - val_loss: 4.4757e-04 - val_mean_squared_error: 4.4757e-04\n",
            "Epoch 4/100\n",
            "625/625 [==============================] - 1s 2ms/step - loss: 0.0014 - mean_squared_error: 0.0014 - val_loss: 4.1542e-04 - val_mean_squared_error: 4.1542e-04\n",
            "Epoch 5/100\n",
            "625/625 [==============================] - 1s 2ms/step - loss: 0.0013 - mean_squared_error: 0.0013 - val_loss: 3.9932e-04 - val_mean_squared_error: 3.9932e-04\n",
            "Epoch 6/100\n",
            "625/625 [==============================] - 1s 2ms/step - loss: 0.0013 - mean_squared_error: 0.0013 - val_loss: 3.8711e-04 - val_mean_squared_error: 3.8711e-04\n",
            "Epoch 7/100\n",
            "625/625 [==============================] - 1s 2ms/step - loss: 0.0013 - mean_squared_error: 0.0013 - val_loss: 3.7633e-04 - val_mean_squared_error: 3.7633e-04\n",
            "Epoch 8/100\n",
            "625/625 [==============================] - 1s 2ms/step - loss: 0.0013 - mean_squared_error: 0.0013 - val_loss: 3.6754e-04 - val_mean_squared_error: 3.6754e-04\n",
            "Epoch 9/100\n",
            "625/625 [==============================] - 1s 2ms/step - loss: 0.0012 - mean_squared_error: 0.0012 - val_loss: 3.5951e-04 - val_mean_squared_error: 3.5951e-04\n",
            "Epoch 10/100\n",
            "625/625 [==============================] - 1s 2ms/step - loss: 0.0012 - mean_squared_error: 0.0012 - val_loss: 3.5239e-04 - val_mean_squared_error: 3.5239e-04\n",
            "Epoch 11/100\n",
            "625/625 [==============================] - 1s 2ms/step - loss: 0.0012 - mean_squared_error: 0.0012 - val_loss: 3.4672e-04 - val_mean_squared_error: 3.4672e-04\n",
            "Epoch 12/100\n",
            "625/625 [==============================] - 1s 2ms/step - loss: 0.0012 - mean_squared_error: 0.0012 - val_loss: 3.4139e-04 - val_mean_squared_error: 3.4139e-04\n",
            "Epoch 13/100\n",
            "625/625 [==============================] - 1s 2ms/step - loss: 0.0012 - mean_squared_error: 0.0012 - val_loss: 3.3688e-04 - val_mean_squared_error: 3.3688e-04\n",
            "Epoch 14/100\n",
            "625/625 [==============================] - 1s 2ms/step - loss: 0.0012 - mean_squared_error: 0.0012 - val_loss: 3.3341e-04 - val_mean_squared_error: 3.3341e-04\n",
            "Epoch 15/100\n",
            "625/625 [==============================] - 1s 2ms/step - loss: 0.0011 - mean_squared_error: 0.0011 - val_loss: 3.3040e-04 - val_mean_squared_error: 3.3040e-04\n",
            "Epoch 16/100\n",
            "625/625 [==============================] - 1s 2ms/step - loss: 0.0011 - mean_squared_error: 0.0011 - val_loss: 3.2747e-04 - val_mean_squared_error: 3.2747e-04\n",
            "Epoch 17/100\n",
            "625/625 [==============================] - 1s 2ms/step - loss: 0.0011 - mean_squared_error: 0.0011 - val_loss: 3.2484e-04 - val_mean_squared_error: 3.2484e-04\n",
            "Epoch 18/100\n",
            "625/625 [==============================] - 1s 2ms/step - loss: 0.0011 - mean_squared_error: 0.0011 - val_loss: 3.2254e-04 - val_mean_squared_error: 3.2254e-04\n",
            "Epoch 19/100\n",
            "625/625 [==============================] - 1s 2ms/step - loss: 0.0011 - mean_squared_error: 0.0011 - val_loss: 3.2082e-04 - val_mean_squared_error: 3.2082e-04\n",
            "Epoch 20/100\n",
            "625/625 [==============================] - 1s 2ms/step - loss: 0.0011 - mean_squared_error: 0.0011 - val_loss: 3.1909e-04 - val_mean_squared_error: 3.1909e-04\n",
            "Epoch 21/100\n",
            "625/625 [==============================] - 1s 2ms/step - loss: 0.0011 - mean_squared_error: 0.0011 - val_loss: 3.1758e-04 - val_mean_squared_error: 3.1758e-04\n",
            "Epoch 22/100\n",
            "625/625 [==============================] - 1s 2ms/step - loss: 0.0010 - mean_squared_error: 0.0010 - val_loss: 3.1645e-04 - val_mean_squared_error: 3.1645e-04\n",
            "Epoch 23/100\n",
            "625/625 [==============================] - 1s 2ms/step - loss: 0.0010 - mean_squared_error: 0.0010 - val_loss: 3.1536e-04 - val_mean_squared_error: 3.1536e-04\n",
            "Epoch 24/100\n",
            "625/625 [==============================] - 1s 2ms/step - loss: 0.0010 - mean_squared_error: 0.0010 - val_loss: 3.1414e-04 - val_mean_squared_error: 3.1414e-04\n",
            "Epoch 25/100\n",
            "625/625 [==============================] - 1s 2ms/step - loss: 9.9971e-04 - mean_squared_error: 9.9971e-04 - val_loss: 3.1288e-04 - val_mean_squared_error: 3.1288e-04\n",
            "Epoch 26/100\n",
            "625/625 [==============================] - 1s 2ms/step - loss: 9.8490e-04 - mean_squared_error: 9.8490e-04 - val_loss: 3.1165e-04 - val_mean_squared_error: 3.1165e-04\n",
            "Epoch 27/100\n",
            "625/625 [==============================] - 1s 2ms/step - loss: 9.6976e-04 - mean_squared_error: 9.6976e-04 - val_loss: 3.1030e-04 - val_mean_squared_error: 3.1030e-04\n",
            "Epoch 28/100\n",
            "625/625 [==============================] - 1s 2ms/step - loss: 9.5431e-04 - mean_squared_error: 9.5431e-04 - val_loss: 3.0918e-04 - val_mean_squared_error: 3.0918e-04\n",
            "Epoch 29/100\n",
            "625/625 [==============================] - 1s 2ms/step - loss: 9.3832e-04 - mean_squared_error: 9.3832e-04 - val_loss: 3.0751e-04 - val_mean_squared_error: 3.0751e-04\n",
            "Epoch 30/100\n",
            "625/625 [==============================] - 1s 2ms/step - loss: 9.2192e-04 - mean_squared_error: 9.2192e-04 - val_loss: 3.0595e-04 - val_mean_squared_error: 3.0595e-04\n",
            "Epoch 31/100\n",
            "625/625 [==============================] - 1s 2ms/step - loss: 9.0540e-04 - mean_squared_error: 9.0540e-04 - val_loss: 3.0510e-04 - val_mean_squared_error: 3.0510e-04\n",
            "Epoch 32/100\n",
            "625/625 [==============================] - 1s 2ms/step - loss: 8.8865e-04 - mean_squared_error: 8.8865e-04 - val_loss: 3.0380e-04 - val_mean_squared_error: 3.0380e-04\n",
            "Epoch 33/100\n",
            "625/625 [==============================] - 1s 2ms/step - loss: 8.7160e-04 - mean_squared_error: 8.7160e-04 - val_loss: 3.0166e-04 - val_mean_squared_error: 3.0166e-04\n",
            "Epoch 34/100\n",
            "625/625 [==============================] - 1s 2ms/step - loss: 8.5469e-04 - mean_squared_error: 8.5469e-04 - val_loss: 2.9967e-04 - val_mean_squared_error: 2.9967e-04\n",
            "Epoch 35/100\n",
            "625/625 [==============================] - 1s 2ms/step - loss: 8.3780e-04 - mean_squared_error: 8.3780e-04 - val_loss: 2.9765e-04 - val_mean_squared_error: 2.9765e-04\n",
            "Epoch 36/100\n",
            "625/625 [==============================] - 1s 2ms/step - loss: 8.2091e-04 - mean_squared_error: 8.2091e-04 - val_loss: 2.9598e-04 - val_mean_squared_error: 2.9598e-04\n",
            "Epoch 37/100\n",
            "625/625 [==============================] - 1s 2ms/step - loss: 8.0413e-04 - mean_squared_error: 8.0412e-04 - val_loss: 2.9419e-04 - val_mean_squared_error: 2.9419e-04\n",
            "Epoch 38/100\n",
            "625/625 [==============================] - 1s 2ms/step - loss: 7.8714e-04 - mean_squared_error: 7.8714e-04 - val_loss: 2.9272e-04 - val_mean_squared_error: 2.9272e-04\n",
            "Epoch 39/100\n",
            "625/625 [==============================] - 1s 2ms/step - loss: 7.7000e-04 - mean_squared_error: 7.7000e-04 - val_loss: 2.9104e-04 - val_mean_squared_error: 2.9104e-04\n",
            "Epoch 40/100\n",
            "625/625 [==============================] - 1s 2ms/step - loss: 7.5264e-04 - mean_squared_error: 7.5264e-04 - val_loss: 2.8864e-04 - val_mean_squared_error: 2.8864e-04\n",
            "Epoch 41/100\n",
            "625/625 [==============================] - 1s 2ms/step - loss: 7.3488e-04 - mean_squared_error: 7.3488e-04 - val_loss: 2.8859e-04 - val_mean_squared_error: 2.8859e-04\n",
            "Epoch 42/100\n",
            "625/625 [==============================] - 1s 2ms/step - loss: 7.1692e-04 - mean_squared_error: 7.1692e-04 - val_loss: 2.8923e-04 - val_mean_squared_error: 2.8923e-04\n",
            "Epoch 43/100\n",
            "625/625 [==============================] - 1s 2ms/step - loss: 6.9941e-04 - mean_squared_error: 6.9941e-04 - val_loss: 2.9003e-04 - val_mean_squared_error: 2.9003e-04\n",
            "Epoch 44/100\n",
            "625/625 [==============================] - 1s 2ms/step - loss: 6.8181e-04 - mean_squared_error: 6.8181e-04 - val_loss: 2.9169e-04 - val_mean_squared_error: 2.9169e-04\n",
            "Epoch 45/100\n",
            "625/625 [==============================] - 1s 2ms/step - loss: 6.6318e-04 - mean_squared_error: 6.6318e-04 - val_loss: 2.9388e-04 - val_mean_squared_error: 2.9388e-04\n",
            "Epoch 46/100\n",
            "625/625 [==============================] - 1s 2ms/step - loss: 6.4385e-04 - mean_squared_error: 6.4385e-04 - val_loss: 2.9130e-04 - val_mean_squared_error: 2.9130e-04\n",
            "Epoch 47/100\n",
            "625/625 [==============================] - 1s 2ms/step - loss: 6.2541e-04 - mean_squared_error: 6.2541e-04 - val_loss: 2.8390e-04 - val_mean_squared_error: 2.8390e-04\n"
          ],
          "name": "stdout"
        },
        {
          "output_type": "stream",
          "text": [
            "Epoch 48/100\n",
            "625/625 [==============================] - 1s 2ms/step - loss: 6.0677e-04 - mean_squared_error: 6.0677e-04 - val_loss: 2.7864e-04 - val_mean_squared_error: 2.7864e-04\n",
            "Epoch 49/100\n",
            "625/625 [==============================] - 1s 2ms/step - loss: 5.8806e-04 - mean_squared_error: 5.8806e-04 - val_loss: 2.7882e-04 - val_mean_squared_error: 2.7882e-04\n",
            "Epoch 50/100\n",
            "625/625 [==============================] - 1s 2ms/step - loss: 5.7211e-04 - mean_squared_error: 5.7211e-04 - val_loss: 2.8022e-04 - val_mean_squared_error: 2.8022e-04\n",
            "Epoch 51/100\n",
            "625/625 [==============================] - 1s 2ms/step - loss: 5.5744e-04 - mean_squared_error: 5.5744e-04 - val_loss: 2.8041e-04 - val_mean_squared_error: 2.8041e-04\n",
            "Epoch 52/100\n",
            "625/625 [==============================] - 1s 2ms/step - loss: 5.4427e-04 - mean_squared_error: 5.4427e-04 - val_loss: 2.7987e-04 - val_mean_squared_error: 2.7987e-04\n",
            "Epoch 53/100\n",
            "625/625 [==============================] - 1s 2ms/step - loss: 5.3246e-04 - mean_squared_error: 5.3246e-04 - val_loss: 2.7918e-04 - val_mean_squared_error: 2.7918e-04\n",
            "Epoch 54/100\n",
            "625/625 [==============================] - 1s 2ms/step - loss: 5.2256e-04 - mean_squared_error: 5.2256e-04 - val_loss: 2.7637e-04 - val_mean_squared_error: 2.7637e-04\n",
            "Epoch 55/100\n",
            "625/625 [==============================] - 1s 2ms/step - loss: 5.1257e-04 - mean_squared_error: 5.1257e-04 - val_loss: 2.7194e-04 - val_mean_squared_error: 2.7194e-04\n",
            "Epoch 56/100\n",
            "625/625 [==============================] - 1s 2ms/step - loss: 5.0406e-04 - mean_squared_error: 5.0406e-04 - val_loss: 2.6805e-04 - val_mean_squared_error: 2.6805e-04\n",
            "Epoch 57/100\n",
            "625/625 [==============================] - 1s 2ms/step - loss: 4.9639e-04 - mean_squared_error: 4.9639e-04 - val_loss: 2.6338e-04 - val_mean_squared_error: 2.6338e-04\n",
            "Epoch 58/100\n",
            "625/625 [==============================] - 1s 2ms/step - loss: 4.8838e-04 - mean_squared_error: 4.8838e-04 - val_loss: 2.5993e-04 - val_mean_squared_error: 2.5993e-04\n",
            "Epoch 59/100\n",
            "625/625 [==============================] - 1s 2ms/step - loss: 4.8256e-04 - mean_squared_error: 4.8256e-04 - val_loss: 2.5572e-04 - val_mean_squared_error: 2.5572e-04\n",
            "Epoch 60/100\n",
            "625/625 [==============================] - 1s 2ms/step - loss: 4.7615e-04 - mean_squared_error: 4.7615e-04 - val_loss: 2.5372e-04 - val_mean_squared_error: 2.5372e-04\n",
            "Epoch 61/100\n",
            "625/625 [==============================] - 1s 2ms/step - loss: 4.6916e-04 - mean_squared_error: 4.6916e-04 - val_loss: 2.4907e-04 - val_mean_squared_error: 2.4907e-04\n",
            "Epoch 62/100\n",
            "625/625 [==============================] - 1s 2ms/step - loss: 4.6516e-04 - mean_squared_error: 4.6516e-04 - val_loss: 2.4444e-04 - val_mean_squared_error: 2.4444e-04\n",
            "Epoch 63/100\n",
            "625/625 [==============================] - 1s 2ms/step - loss: 4.5744e-04 - mean_squared_error: 4.5744e-04 - val_loss: 2.3805e-04 - val_mean_squared_error: 2.3805e-04\n",
            "Epoch 64/100\n",
            "625/625 [==============================] - 1s 2ms/step - loss: 4.5395e-04 - mean_squared_error: 4.5395e-04 - val_loss: 2.3138e-04 - val_mean_squared_error: 2.3138e-04\n",
            "Epoch 65/100\n",
            "625/625 [==============================] - 1s 2ms/step - loss: 4.4842e-04 - mean_squared_error: 4.4842e-04 - val_loss: 2.2571e-04 - val_mean_squared_error: 2.2571e-04\n",
            "Epoch 66/100\n",
            "625/625 [==============================] - 1s 2ms/step - loss: 4.4415e-04 - mean_squared_error: 4.4415e-04 - val_loss: 2.2278e-04 - val_mean_squared_error: 2.2278e-04\n",
            "Epoch 67/100\n",
            "625/625 [==============================] - 1s 2ms/step - loss: 4.3911e-04 - mean_squared_error: 4.3911e-04 - val_loss: 2.1936e-04 - val_mean_squared_error: 2.1936e-04\n",
            "Epoch 68/100\n",
            "625/625 [==============================] - 1s 2ms/step - loss: 4.3662e-04 - mean_squared_error: 4.3662e-04 - val_loss: 2.1635e-04 - val_mean_squared_error: 2.1635e-04\n",
            "Epoch 69/100\n",
            "625/625 [==============================] - 1s 2ms/step - loss: 4.3178e-04 - mean_squared_error: 4.3178e-04 - val_loss: 2.1360e-04 - val_mean_squared_error: 2.1360e-04\n",
            "Epoch 70/100\n",
            "625/625 [==============================] - 1s 2ms/step - loss: 4.2843e-04 - mean_squared_error: 4.2843e-04 - val_loss: 2.1094e-04 - val_mean_squared_error: 2.1094e-04\n",
            "Epoch 71/100\n",
            "625/625 [==============================] - 1s 2ms/step - loss: 4.2345e-04 - mean_squared_error: 4.2345e-04 - val_loss: 2.0835e-04 - val_mean_squared_error: 2.0835e-04\n",
            "Epoch 72/100\n",
            "625/625 [==============================] - 1s 2ms/step - loss: 4.2217e-04 - mean_squared_error: 4.2217e-04 - val_loss: 2.0527e-04 - val_mean_squared_error: 2.0527e-04\n",
            "Epoch 73/100\n",
            "625/625 [==============================] - 1s 2ms/step - loss: 4.1533e-04 - mean_squared_error: 4.1533e-04 - val_loss: 2.0278e-04 - val_mean_squared_error: 2.0278e-04\n",
            "Epoch 74/100\n",
            "625/625 [==============================] - 1s 2ms/step - loss: 4.1516e-04 - mean_squared_error: 4.1516e-04 - val_loss: 1.9662e-04 - val_mean_squared_error: 1.9662e-04\n",
            "Epoch 75/100\n",
            "625/625 [==============================] - 1s 2ms/step - loss: 4.1132e-04 - mean_squared_error: 4.1132e-04 - val_loss: 1.9412e-04 - val_mean_squared_error: 1.9412e-04\n",
            "Epoch 76/100\n",
            "625/625 [==============================] - 1s 2ms/step - loss: 4.0686e-04 - mean_squared_error: 4.0686e-04 - val_loss: 1.9242e-04 - val_mean_squared_error: 1.9242e-04\n",
            "Epoch 77/100\n",
            "625/625 [==============================] - 1s 2ms/step - loss: 4.0405e-04 - mean_squared_error: 4.0405e-04 - val_loss: 1.8978e-04 - val_mean_squared_error: 1.8978e-04\n",
            "Epoch 78/100\n",
            "625/625 [==============================] - 1s 2ms/step - loss: 4.0078e-04 - mean_squared_error: 4.0078e-04 - val_loss: 1.8748e-04 - val_mean_squared_error: 1.8748e-04\n",
            "Epoch 79/100\n",
            "625/625 [==============================] - 1s 2ms/step - loss: 4.0043e-04 - mean_squared_error: 4.0043e-04 - val_loss: 1.8466e-04 - val_mean_squared_error: 1.8466e-04\n",
            "Epoch 80/100\n",
            "625/625 [==============================] - 1s 2ms/step - loss: 3.9373e-04 - mean_squared_error: 3.9373e-04 - val_loss: 1.8479e-04 - val_mean_squared_error: 1.8479e-04\n",
            "Epoch 81/100\n",
            "625/625 [==============================] - 1s 2ms/step - loss: 3.9446e-04 - mean_squared_error: 3.9446e-04 - val_loss: 1.8137e-04 - val_mean_squared_error: 1.8137e-04\n",
            "Epoch 82/100\n",
            "625/625 [==============================] - 1s 2ms/step - loss: 3.8934e-04 - mean_squared_error: 3.8934e-04 - val_loss: 1.8114e-04 - val_mean_squared_error: 1.8114e-04\n",
            "Epoch 83/100\n",
            "625/625 [==============================] - 1s 2ms/step - loss: 3.8868e-04 - mean_squared_error: 3.8868e-04 - val_loss: 1.7868e-04 - val_mean_squared_error: 1.7868e-04\n",
            "Epoch 84/100\n",
            "625/625 [==============================] - 1s 2ms/step - loss: 3.8241e-04 - mean_squared_error: 3.8241e-04 - val_loss: 1.7956e-04 - val_mean_squared_error: 1.7956e-04\n",
            "Epoch 85/100\n",
            "625/625 [==============================] - 1s 2ms/step - loss: 3.8278e-04 - mean_squared_error: 3.8278e-04 - val_loss: 1.7463e-04 - val_mean_squared_error: 1.7463e-04\n",
            "Epoch 86/100\n",
            "625/625 [==============================] - 1s 2ms/step - loss: 3.7864e-04 - mean_squared_error: 3.7864e-04 - val_loss: 1.7360e-04 - val_mean_squared_error: 1.7360e-04\n",
            "Epoch 87/100\n",
            "625/625 [==============================] - 1s 2ms/step - loss: 3.7839e-04 - mean_squared_error: 3.7839e-04 - val_loss: 1.7014e-04 - val_mean_squared_error: 1.7014e-04\n",
            "Epoch 88/100\n",
            "625/625 [==============================] - 1s 2ms/step - loss: 3.7563e-04 - mean_squared_error: 3.7563e-04 - val_loss: 1.6778e-04 - val_mean_squared_error: 1.6778e-04\n",
            "Epoch 89/100\n",
            "625/625 [==============================] - 1s 2ms/step - loss: 3.7127e-04 - mean_squared_error: 3.7127e-04 - val_loss: 1.6708e-04 - val_mean_squared_error: 1.6708e-04\n",
            "Epoch 90/100\n",
            "625/625 [==============================] - 1s 2ms/step - loss: 3.7162e-04 - mean_squared_error: 3.7162e-04 - val_loss: 1.6355e-04 - val_mean_squared_error: 1.6355e-04\n",
            "Epoch 91/100\n",
            "625/625 [==============================] - 1s 2ms/step - loss: 3.6752e-04 - mean_squared_error: 3.6752e-04 - val_loss: 1.6269e-04 - val_mean_squared_error: 1.6269e-04\n",
            "Epoch 92/100\n",
            "625/625 [==============================] - 1s 2ms/step - loss: 3.6542e-04 - mean_squared_error: 3.6542e-04 - val_loss: 1.5940e-04 - val_mean_squared_error: 1.5940e-04\n",
            "Epoch 93/100\n",
            "625/625 [==============================] - 1s 2ms/step - loss: 3.6166e-04 - mean_squared_error: 3.6166e-04 - val_loss: 1.5850e-04 - val_mean_squared_error: 1.5850e-04\n",
            "Epoch 94/100\n",
            "625/625 [==============================] - 1s 2ms/step - loss: 3.6461e-04 - mean_squared_error: 3.6461e-04 - val_loss: 1.4958e-04 - val_mean_squared_error: 1.4958e-04\n",
            "Epoch 95/100\n",
            "625/625 [==============================] - 1s 2ms/step - loss: 3.5656e-04 - mean_squared_error: 3.5656e-04 - val_loss: 1.4969e-04 - val_mean_squared_error: 1.4969e-04\n",
            "Epoch 96/100\n",
            "625/625 [==============================] - 1s 2ms/step - loss: 3.5511e-04 - mean_squared_error: 3.5511e-04 - val_loss: 1.5111e-04 - val_mean_squared_error: 1.5111e-04\n",
            "Epoch 97/100\n",
            "625/625 [==============================] - 1s 2ms/step - loss: 3.5490e-04 - mean_squared_error: 3.5490e-04 - val_loss: 1.5189e-04 - val_mean_squared_error: 1.5189e-04\n",
            "Epoch 98/100\n",
            "625/625 [==============================] - 1s 2ms/step - loss: 3.5499e-04 - mean_squared_error: 3.5499e-04 - val_loss: 1.5196e-04 - val_mean_squared_error: 1.5196e-04\n",
            "Epoch 99/100\n",
            "625/625 [==============================] - 1s 2ms/step - loss: 3.5431e-04 - mean_squared_error: 3.5431e-04 - val_loss: 1.4884e-04 - val_mean_squared_error: 1.4884e-04\n",
            "Epoch 100/100\n",
            "625/625 [==============================] - 1s 2ms/step - loss: 3.5328e-04 - mean_squared_error: 3.5328e-04 - val_loss: 1.4598e-04 - val_mean_squared_error: 1.4598e-04\n",
            "0.6205430582600093\n"
          ],
          "name": "stdout"
        }
      ]
    },
    {
      "cell_type": "code",
      "metadata": {
        "scrolled": true,
        "id": "eCVaeWESUPDW",
        "outputId": "471e9514-206f-410b-f249-107724429d03"
      },
      "source": [
        "plotting(history) \n",
        "multi_resdense_model.summary()\n",
        "plt.savefig('0.001s20knewageresdense1-1batch32allep100lrelu30diff1u1500.png')"
      ],
      "execution_count": null,
      "outputs": [
        {
          "output_type": "stream",
          "text": [
            "Model: \"sequential\"\n",
            "_________________________________________________________________\n",
            "Layer (type)                 Output Shape              Param #   \n",
            "=================================================================\n",
            "lambda (Lambda)              (None, 1, 9)              0         \n",
            "_________________________________________________________________\n",
            "dense (Dense)                (None, 1, 30)             300       \n",
            "_________________________________________________________________\n",
            "dense_1 (Dense)              (None, 1, 2)              62        \n",
            "=================================================================\n",
            "Total params: 362\n",
            "Trainable params: 362\n",
            "Non-trainable params: 0\n",
            "_________________________________________________________________\n"
          ],
          "name": "stdout"
        },
        {
          "output_type": "display_data",
          "data": {
            "image/png": "[encoded data removed]",
            "text/plain": [
              "<Figure size 432x288 with 1 Axes>"
            ]
          },
          "metadata": {
            "tags": [],
            "needs_background": "light"
          }
        }
      ]
    },
    {
      "cell_type": "code",
      "metadata": {
        "id": "LFJJygaVUPDX"
      },
      "source": [
        "multi_resdense_model.save_weights('./checkpoints/0.001s20knewageresdense1-1batch32allep100lrelu30diff1u1500')\n",
        "history30= history.history['loss']\n",
        "history30val= history.history['val_loss']\n",
        "time30=elapsed"
      ],
      "execution_count": null,
      "outputs": []
    },
    {
      "cell_type": "code",
      "metadata": {
        "scrolled": true,
        "id": "YDcw8_IYUPDX",
        "outputId": "61f01f4b-8a7e-4f4e-9c4f-5a602b784e9c"
      },
      "source": [
        "multi_resdense_model = tf.keras.Sequential([\n",
        "    # Take the last time step.\n",
        "    # Shape [batch, time, features] => [batch, 1, features]\n",
        "    tf.keras.layers.Lambda(lambda x: x[:, -1:, :]),\n",
        "    # Shape => [batch, 1, dense_units]\n",
        "  tf.keras.layers.Dense(40, activation=partial(tf.nn.leaky_relu, alpha=0.5)),\n",
        "    tf.keras.layers.Dense(OUT_STEPS*num_label,\n",
        "                         kernel_initializer=tf.initializers.zeros\n",
        "                         ),\n",
        "])\n",
        "compile(multi_resdense_model,lr=0.0003)\n",
        "tf.keras.backend.clear_session()\n",
        "start_time = timeit.default_timer()\n",
        "history = fit(multi_resdense_model, multi_window)\n",
        "\n",
        "elapsed = timeit.default_timer() - start_time \n",
        "print(elapsed / 200)"
      ],
      "execution_count": null,
      "outputs": [
        {
          "output_type": "stream",
          "text": [
            "Epoch 1/100\n",
            "625/625 [==============================] - 1s 2ms/step - loss: 0.1014 - mean_squared_error: 0.1014 - val_loss: 0.0015 - val_mean_squared_error: 0.0015\n",
            "Epoch 2/100\n",
            "625/625 [==============================] - 1s 2ms/step - loss: 0.0029 - mean_squared_error: 0.0029 - val_loss: 0.0012 - val_mean_squared_error: 0.0012\n",
            "Epoch 3/100\n",
            "625/625 [==============================] - 1s 2ms/step - loss: 0.0022 - mean_squared_error: 0.0022 - val_loss: 8.7858e-04 - val_mean_squared_error: 8.7858e-04\n",
            "Epoch 4/100\n",
            "625/625 [==============================] - 1s 2ms/step - loss: 0.0018 - mean_squared_error: 0.0018 - val_loss: 6.6228e-04 - val_mean_squared_error: 6.6228e-04\n",
            "Epoch 5/100\n",
            "625/625 [==============================] - 1s 2ms/step - loss: 0.0015 - mean_squared_error: 0.0015 - val_loss: 5.3232e-04 - val_mean_squared_error: 5.3232e-04\n",
            "Epoch 6/100\n",
            "625/625 [==============================] - 1s 2ms/step - loss: 0.0014 - mean_squared_error: 0.0014 - val_loss: 4.5674e-04 - val_mean_squared_error: 4.5674e-04\n",
            "Epoch 7/100\n",
            "625/625 [==============================] - 1s 2ms/step - loss: 0.0013 - mean_squared_error: 0.0013 - val_loss: 4.1369e-04 - val_mean_squared_error: 4.1369e-04\n",
            "Epoch 8/100\n",
            "625/625 [==============================] - 1s 2ms/step - loss: 0.0013 - mean_squared_error: 0.0013 - val_loss: 3.8887e-04 - val_mean_squared_error: 3.8887e-04\n",
            "Epoch 9/100\n",
            "625/625 [==============================] - 1s 2ms/step - loss: 0.0012 - mean_squared_error: 0.0012 - val_loss: 3.7411e-04 - val_mean_squared_error: 3.7411e-04\n",
            "Epoch 10/100\n",
            "625/625 [==============================] - 1s 2ms/step - loss: 0.0012 - mean_squared_error: 0.0012 - val_loss: 3.6465e-04 - val_mean_squared_error: 3.6465e-04\n",
            "Epoch 11/100\n",
            "625/625 [==============================] - 1s 2ms/step - loss: 0.0012 - mean_squared_error: 0.0012 - val_loss: 3.5788e-04 - val_mean_squared_error: 3.5788e-04\n",
            "Epoch 12/100\n",
            "625/625 [==============================] - 1s 2ms/step - loss: 0.0012 - mean_squared_error: 0.0012 - val_loss: 3.5281e-04 - val_mean_squared_error: 3.5281e-04\n",
            "Epoch 13/100\n",
            "625/625 [==============================] - 1s 2ms/step - loss: 0.0012 - mean_squared_error: 0.0012 - val_loss: 3.4872e-04 - val_mean_squared_error: 3.4872e-04\n",
            "Epoch 14/100\n",
            "625/625 [==============================] - 1s 2ms/step - loss: 0.0012 - mean_squared_error: 0.0012 - val_loss: 3.4542e-04 - val_mean_squared_error: 3.4542e-04\n",
            "Epoch 15/100\n",
            "625/625 [==============================] - 1s 2ms/step - loss: 0.0012 - mean_squared_error: 0.0012 - val_loss: 3.4278e-04 - val_mean_squared_error: 3.4278e-04\n",
            "Epoch 16/100\n",
            "625/625 [==============================] - 1s 2ms/step - loss: 0.0011 - mean_squared_error: 0.0011 - val_loss: 3.4068e-04 - val_mean_squared_error: 3.4068e-04\n",
            "Epoch 17/100\n",
            "625/625 [==============================] - 1s 2ms/step - loss: 0.0011 - mean_squared_error: 0.0011 - val_loss: 3.3906e-04 - val_mean_squared_error: 3.3906e-04\n",
            "Epoch 18/100\n",
            "625/625 [==============================] - 1s 1ms/step - loss: 0.0011 - mean_squared_error: 0.0011 - val_loss: 3.3764e-04 - val_mean_squared_error: 3.3764e-04\n",
            "Epoch 19/100\n",
            "625/625 [==============================] - 1s 2ms/step - loss: 0.0011 - mean_squared_error: 0.0011 - val_loss: 3.3650e-04 - val_mean_squared_error: 3.3650e-04\n",
            "Epoch 20/100\n",
            "625/625 [==============================] - 1s 2ms/step - loss: 0.0011 - mean_squared_error: 0.0011 - val_loss: 3.3553e-04 - val_mean_squared_error: 3.3553e-04\n",
            "Epoch 21/100\n",
            "625/625 [==============================] - 1s 2ms/step - loss: 0.0011 - mean_squared_error: 0.0011 - val_loss: 3.3469e-04 - val_mean_squared_error: 3.3469e-04\n",
            "Epoch 22/100\n",
            "625/625 [==============================] - 1s 2ms/step - loss: 0.0011 - mean_squared_error: 0.0011 - val_loss: 3.3394e-04 - val_mean_squared_error: 3.3394e-04\n",
            "Epoch 23/100\n",
            "625/625 [==============================] - 1s 2ms/step - loss: 0.0011 - mean_squared_error: 0.0011 - val_loss: 3.3320e-04 - val_mean_squared_error: 3.3320e-04\n",
            "Epoch 24/100\n",
            "625/625 [==============================] - 1s 2ms/step - loss: 0.0011 - mean_squared_error: 0.0011 - val_loss: 3.3266e-04 - val_mean_squared_error: 3.3266e-04\n",
            "Epoch 25/100\n",
            "625/625 [==============================] - 1s 2ms/step - loss: 0.0011 - mean_squared_error: 0.0011 - val_loss: 3.3205e-04 - val_mean_squared_error: 3.3205e-04\n",
            "Epoch 26/100\n",
            "625/625 [==============================] - 1s 2ms/step - loss: 0.0011 - mean_squared_error: 0.0011 - val_loss: 3.3154e-04 - val_mean_squared_error: 3.3154e-04\n",
            "Epoch 27/100\n",
            "625/625 [==============================] - 1s 2ms/step - loss: 0.0011 - mean_squared_error: 0.0011 - val_loss: 3.3115e-04 - val_mean_squared_error: 3.3115e-04\n",
            "Epoch 28/100\n",
            "625/625 [==============================] - 1s 2ms/step - loss: 0.0011 - mean_squared_error: 0.0011 - val_loss: 3.3067e-04 - val_mean_squared_error: 3.3067e-04\n",
            "Epoch 29/100\n",
            "625/625 [==============================] - 1s 2ms/step - loss: 0.0011 - mean_squared_error: 0.0011 - val_loss: 3.3033e-04 - val_mean_squared_error: 3.3033e-04\n",
            "Epoch 30/100\n",
            "625/625 [==============================] - 1s 2ms/step - loss: 0.0010 - mean_squared_error: 0.0010 - val_loss: 3.2999e-04 - val_mean_squared_error: 3.2999e-04\n",
            "Epoch 31/100\n",
            "625/625 [==============================] - 1s 1ms/step - loss: 0.0010 - mean_squared_error: 0.0010 - val_loss: 3.2960e-04 - val_mean_squared_error: 3.2960e-04\n",
            "Epoch 32/100\n",
            "625/625 [==============================] - 1s 2ms/step - loss: 0.0010 - mean_squared_error: 0.0010 - val_loss: 3.2931e-04 - val_mean_squared_error: 3.2931e-04\n",
            "Epoch 33/100\n",
            "625/625 [==============================] - 1s 2ms/step - loss: 0.0010 - mean_squared_error: 0.0010 - val_loss: 3.2902e-04 - val_mean_squared_error: 3.2902e-04\n",
            "Epoch 34/100\n",
            "625/625 [==============================] - 1s 2ms/step - loss: 0.0010 - mean_squared_error: 0.0010 - val_loss: 3.2872e-04 - val_mean_squared_error: 3.2872e-04\n",
            "Epoch 35/100\n",
            "625/625 [==============================] - 1s 2ms/step - loss: 0.0010 - mean_squared_error: 0.0010 - val_loss: 3.2849e-04 - val_mean_squared_error: 3.2849e-04\n",
            "Epoch 36/100\n",
            "625/625 [==============================] - 1s 2ms/step - loss: 0.0010 - mean_squared_error: 0.0010 - val_loss: 3.2826e-04 - val_mean_squared_error: 3.2826e-04\n",
            "Epoch 37/100\n",
            "625/625 [==============================] - 1s 2ms/step - loss: 0.0010 - mean_squared_error: 0.0010 - val_loss: 3.2805e-04 - val_mean_squared_error: 3.2805e-04\n",
            "Epoch 38/100\n",
            "625/625 [==============================] - 1s 2ms/step - loss: 9.9735e-04 - mean_squared_error: 9.9735e-04 - val_loss: 3.2793e-04 - val_mean_squared_error: 3.2793e-04\n",
            "Epoch 39/100\n",
            "625/625 [==============================] - 1s 2ms/step - loss: 9.9167e-04 - mean_squared_error: 9.9167e-04 - val_loss: 3.2786e-04 - val_mean_squared_error: 3.2786e-04\n",
            "Epoch 40/100\n",
            "625/625 [==============================] - 1s 2ms/step - loss: 9.8604e-04 - mean_squared_error: 9.8604e-04 - val_loss: 3.2773e-04 - val_mean_squared_error: 3.2773e-04\n",
            "Epoch 41/100\n",
            "625/625 [==============================] - 1s 2ms/step - loss: 9.8042e-04 - mean_squared_error: 9.8042e-04 - val_loss: 3.2763e-04 - val_mean_squared_error: 3.2763e-04\n",
            "Epoch 42/100\n",
            "625/625 [==============================] - 1s 2ms/step - loss: 9.7480e-04 - mean_squared_error: 9.7480e-04 - val_loss: 3.2752e-04 - val_mean_squared_error: 3.2752e-04\n",
            "Epoch 43/100\n",
            "625/625 [==============================] - 1s 2ms/step - loss: 9.6921e-04 - mean_squared_error: 9.6921e-04 - val_loss: 3.2736e-04 - val_mean_squared_error: 3.2736e-04\n",
            "Epoch 44/100\n",
            "625/625 [==============================] - 1s 2ms/step - loss: 9.6363e-04 - mean_squared_error: 9.6363e-04 - val_loss: 3.2713e-04 - val_mean_squared_error: 3.2713e-04\n",
            "Epoch 45/100\n",
            "625/625 [==============================] - 1s 2ms/step - loss: 9.5804e-04 - mean_squared_error: 9.5804e-04 - val_loss: 3.2697e-04 - val_mean_squared_error: 3.2697e-04\n",
            "Epoch 46/100\n",
            "625/625 [==============================] - 1s 2ms/step - loss: 9.5247e-04 - mean_squared_error: 9.5247e-04 - val_loss: 3.2670e-04 - val_mean_squared_error: 3.2670e-04\n",
            "Epoch 47/100\n",
            "625/625 [==============================] - 1s 2ms/step - loss: 9.4688e-04 - mean_squared_error: 9.4688e-04 - val_loss: 3.2640e-04 - val_mean_squared_error: 3.2640e-04\n",
            "Epoch 48/100\n",
            "625/625 [==============================] - 1s 2ms/step - loss: 9.4130e-04 - mean_squared_error: 9.4130e-04 - val_loss: 3.2603e-04 - val_mean_squared_error: 3.2603e-04\n",
            "Epoch 49/100\n",
            "625/625 [==============================] - 1s 2ms/step - loss: 9.3570e-04 - mean_squared_error: 9.3570e-04 - val_loss: 3.2561e-04 - val_mean_squared_error: 3.2561e-04\n",
            "Epoch 50/100\n",
            "625/625 [==============================] - 1s 2ms/step - loss: 9.3008e-04 - mean_squared_error: 9.3008e-04 - val_loss: 3.2511e-04 - val_mean_squared_error: 3.2511e-04\n",
            "Epoch 51/100\n",
            "625/625 [==============================] - 1s 2ms/step - loss: 9.2443e-04 - mean_squared_error: 9.2443e-04 - val_loss: 3.2466e-04 - val_mean_squared_error: 3.2466e-04\n",
            "Epoch 52/100\n",
            "625/625 [==============================] - 1s 2ms/step - loss: 9.1876e-04 - mean_squared_error: 9.1876e-04 - val_loss: 3.2422e-04 - val_mean_squared_error: 3.2422e-04\n",
            "Epoch 53/100\n",
            "625/625 [==============================] - 1s 2ms/step - loss: 9.1308e-04 - mean_squared_error: 9.1308e-04 - val_loss: 3.2367e-04 - val_mean_squared_error: 3.2367e-04\n",
            "Epoch 54/100\n",
            "625/625 [==============================] - 1s 2ms/step - loss: 9.0737e-04 - mean_squared_error: 9.0737e-04 - val_loss: 3.2317e-04 - val_mean_squared_error: 3.2317e-04\n",
            "Epoch 55/100\n",
            "625/625 [==============================] - 1s 2ms/step - loss: 9.0164e-04 - mean_squared_error: 9.0164e-04 - val_loss: 3.2255e-04 - val_mean_squared_error: 3.2255e-04\n",
            "Epoch 56/100\n",
            "625/625 [==============================] - 1s 2ms/step - loss: 8.9587e-04 - mean_squared_error: 8.9587e-04 - val_loss: 3.2195e-04 - val_mean_squared_error: 3.2195e-04\n",
            "Epoch 57/100\n",
            "625/625 [==============================] - 1s 2ms/step - loss: 8.9008e-04 - mean_squared_error: 8.9008e-04 - val_loss: 3.2141e-04 - val_mean_squared_error: 3.2141e-04\n",
            "Epoch 58/100\n",
            "625/625 [==============================] - 1s 2ms/step - loss: 8.8428e-04 - mean_squared_error: 8.8428e-04 - val_loss: 3.2078e-04 - val_mean_squared_error: 3.2078e-04\n",
            "Epoch 59/100\n",
            "625/625 [==============================] - 1s 2ms/step - loss: 8.7845e-04 - mean_squared_error: 8.7845e-04 - val_loss: 3.2020e-04 - val_mean_squared_error: 3.2020e-04\n",
            "Epoch 60/100\n",
            "625/625 [==============================] - 1s 2ms/step - loss: 8.7258e-04 - mean_squared_error: 8.7258e-04 - val_loss: 3.1964e-04 - val_mean_squared_error: 3.1964e-04\n",
            "Epoch 61/100\n",
            "625/625 [==============================] - 1s 2ms/step - loss: 8.6668e-04 - mean_squared_error: 8.6668e-04 - val_loss: 3.1906e-04 - val_mean_squared_error: 3.1906e-04\n",
            "Epoch 62/100\n",
            "625/625 [==============================] - 1s 2ms/step - loss: 8.6074e-04 - mean_squared_error: 8.6074e-04 - val_loss: 3.1848e-04 - val_mean_squared_error: 3.1848e-04\n",
            "Epoch 63/100\n",
            "625/625 [==============================] - 1s 2ms/step - loss: 8.5476e-04 - mean_squared_error: 8.5476e-04 - val_loss: 3.1787e-04 - val_mean_squared_error: 3.1787e-04\n",
            "Epoch 64/100\n",
            "625/625 [==============================] - 1s 2ms/step - loss: 8.4875e-04 - mean_squared_error: 8.4875e-04 - val_loss: 3.1723e-04 - val_mean_squared_error: 3.1723e-04\n",
            "Epoch 65/100\n",
            "625/625 [==============================] - 1s 2ms/step - loss: 8.4271e-04 - mean_squared_error: 8.4271e-04 - val_loss: 3.1662e-04 - val_mean_squared_error: 3.1662e-04\n",
            "Epoch 66/100\n",
            "625/625 [==============================] - 1s 2ms/step - loss: 8.3668e-04 - mean_squared_error: 8.3668e-04 - val_loss: 3.1597e-04 - val_mean_squared_error: 3.1597e-04\n",
            "Epoch 67/100\n",
            "625/625 [==============================] - 1s 2ms/step - loss: 8.3062e-04 - mean_squared_error: 8.3062e-04 - val_loss: 3.1532e-04 - val_mean_squared_error: 3.1532e-04\n",
            "Epoch 68/100\n",
            "625/625 [==============================] - 1s 2ms/step - loss: 8.2451e-04 - mean_squared_error: 8.2451e-04 - val_loss: 3.1473e-04 - val_mean_squared_error: 3.1473e-04\n",
            "Epoch 69/100\n",
            "625/625 [==============================] - 1s 2ms/step - loss: 8.1839e-04 - mean_squared_error: 8.1839e-04 - val_loss: 3.1404e-04 - val_mean_squared_error: 3.1404e-04\n",
            "Epoch 70/100\n",
            "625/625 [==============================] - 1s 2ms/step - loss: 8.1226e-04 - mean_squared_error: 8.1226e-04 - val_loss: 3.1329e-04 - val_mean_squared_error: 3.1329e-04\n",
            "Epoch 71/100\n",
            "625/625 [==============================] - 1s 2ms/step - loss: 8.0612e-04 - mean_squared_error: 8.0612e-04 - val_loss: 3.1255e-04 - val_mean_squared_error: 3.1255e-04\n",
            "Epoch 72/100\n",
            "625/625 [==============================] - 1s 2ms/step - loss: 7.9995e-04 - mean_squared_error: 7.9995e-04 - val_loss: 3.1175e-04 - val_mean_squared_error: 3.1175e-04\n",
            "Epoch 73/100\n",
            "625/625 [==============================] - 1s 2ms/step - loss: 7.9375e-04 - mean_squared_error: 7.9375e-04 - val_loss: 3.1094e-04 - val_mean_squared_error: 3.1094e-04\n",
            "Epoch 74/100\n",
            "625/625 [==============================] - 1s 2ms/step - loss: 7.8752e-04 - mean_squared_error: 7.8752e-04 - val_loss: 3.1010e-04 - val_mean_squared_error: 3.1010e-04\n",
            "Epoch 75/100\n",
            "625/625 [==============================] - 1s 2ms/step - loss: 7.8126e-04 - mean_squared_error: 7.8126e-04 - val_loss: 3.0927e-04 - val_mean_squared_error: 3.0927e-04\n",
            "Epoch 76/100\n",
            "625/625 [==============================] - 1s 2ms/step - loss: 7.7501e-04 - mean_squared_error: 7.7501e-04 - val_loss: 3.0839e-04 - val_mean_squared_error: 3.0839e-04\n",
            "Epoch 77/100\n",
            "625/625 [==============================] - 1s 2ms/step - loss: 7.6876e-04 - mean_squared_error: 7.6876e-04 - val_loss: 3.0746e-04 - val_mean_squared_error: 3.0746e-04\n",
            "Epoch 78/100\n",
            "625/625 [==============================] - 1s 2ms/step - loss: 7.6249e-04 - mean_squared_error: 7.6249e-04 - val_loss: 3.0654e-04 - val_mean_squared_error: 3.0654e-04\n",
            "Epoch 79/100\n",
            "625/625 [==============================] - 1s 2ms/step - loss: 7.5620e-04 - mean_squared_error: 7.5620e-04 - val_loss: 3.0555e-04 - val_mean_squared_error: 3.0555e-04\n",
            "Epoch 80/100\n",
            "625/625 [==============================] - 1s 2ms/step - loss: 7.4988e-04 - mean_squared_error: 7.4988e-04 - val_loss: 3.0452e-04 - val_mean_squared_error: 3.0452e-04\n",
            "Epoch 81/100\n",
            "625/625 [==============================] - 1s 1ms/step - loss: 7.4354e-04 - mean_squared_error: 7.4354e-04 - val_loss: 3.0350e-04 - val_mean_squared_error: 3.0350e-04\n",
            "Epoch 82/100\n",
            "625/625 [==============================] - 1s 2ms/step - loss: 7.3715e-04 - mean_squared_error: 7.3715e-04 - val_loss: 3.0240e-04 - val_mean_squared_error: 3.0240e-04\n",
            "Epoch 83/100\n",
            "625/625 [==============================] - 1s 2ms/step - loss: 7.3072e-04 - mean_squared_error: 7.3072e-04 - val_loss: 3.0131e-04 - val_mean_squared_error: 3.0131e-04\n",
            "Epoch 84/100\n",
            "625/625 [==============================] - 1s 2ms/step - loss: 7.2426e-04 - mean_squared_error: 7.2426e-04 - val_loss: 3.0019e-04 - val_mean_squared_error: 3.0019e-04\n",
            "Epoch 85/100\n",
            "625/625 [==============================] - 1s 2ms/step - loss: 7.1779e-04 - mean_squared_error: 7.1779e-04 - val_loss: 2.9906e-04 - val_mean_squared_error: 2.9906e-04\n",
            "Epoch 86/100\n",
            "625/625 [==============================] - 1s 2ms/step - loss: 7.1130e-04 - mean_squared_error: 7.1130e-04 - val_loss: 2.9792e-04 - val_mean_squared_error: 2.9792e-04\n",
            "Epoch 87/100\n",
            "625/625 [==============================] - 1s 2ms/step - loss: 7.0481e-04 - mean_squared_error: 7.0481e-04 - val_loss: 2.9682e-04 - val_mean_squared_error: 2.9682e-04\n",
            "Epoch 88/100\n",
            "625/625 [==============================] - 1s 2ms/step - loss: 6.9831e-04 - mean_squared_error: 6.9831e-04 - val_loss: 2.9568e-04 - val_mean_squared_error: 2.9568e-04\n",
            "Epoch 89/100\n",
            "625/625 [==============================] - 1s 2ms/step - loss: 6.9179e-04 - mean_squared_error: 6.9179e-04 - val_loss: 2.9453e-04 - val_mean_squared_error: 2.9453e-04\n",
            "Epoch 90/100\n",
            "625/625 [==============================] - 1s 2ms/step - loss: 6.8525e-04 - mean_squared_error: 6.8525e-04 - val_loss: 2.9336e-04 - val_mean_squared_error: 2.9336e-04\n",
            "Epoch 91/100\n",
            "625/625 [==============================] - 1s 2ms/step - loss: 6.7872e-04 - mean_squared_error: 6.7872e-04 - val_loss: 2.9223e-04 - val_mean_squared_error: 2.9223e-04\n",
            "Epoch 92/100\n",
            "625/625 [==============================] - 1s 2ms/step - loss: 6.7220e-04 - mean_squared_error: 6.7220e-04 - val_loss: 2.9105e-04 - val_mean_squared_error: 2.9105e-04\n",
            "Epoch 93/100\n"
          ],
          "name": "stdout"
        },
        {
          "output_type": "stream",
          "text": [
            "625/625 [==============================] - 1s 2ms/step - loss: 6.6567e-04 - mean_squared_error: 6.6567e-04 - val_loss: 2.8992e-04 - val_mean_squared_error: 2.8992e-04\n",
            "Epoch 94/100\n",
            "625/625 [==============================] - 1s 2ms/step - loss: 6.5914e-04 - mean_squared_error: 6.5914e-04 - val_loss: 2.8880e-04 - val_mean_squared_error: 2.8880e-04\n",
            "Epoch 95/100\n",
            "625/625 [==============================] - 1s 2ms/step - loss: 6.5261e-04 - mean_squared_error: 6.5261e-04 - val_loss: 2.8768e-04 - val_mean_squared_error: 2.8768e-04\n",
            "Epoch 96/100\n",
            "625/625 [==============================] - 1s 2ms/step - loss: 6.4607e-04 - mean_squared_error: 6.4607e-04 - val_loss: 2.8661e-04 - val_mean_squared_error: 2.8661e-04\n",
            "Epoch 97/100\n",
            "625/625 [==============================] - 1s 2ms/step - loss: 6.3953e-04 - mean_squared_error: 6.3953e-04 - val_loss: 2.8554e-04 - val_mean_squared_error: 2.8554e-04\n",
            "Epoch 98/100\n",
            "625/625 [==============================] - 1s 2ms/step - loss: 6.3301e-04 - mean_squared_error: 6.3301e-04 - val_loss: 2.8447e-04 - val_mean_squared_error: 2.8447e-04\n",
            "Epoch 99/100\n",
            "625/625 [==============================] - 1s 2ms/step - loss: 6.2649e-04 - mean_squared_error: 6.2649e-04 - val_loss: 2.8341e-04 - val_mean_squared_error: 2.8341e-04\n",
            "Epoch 100/100\n",
            "625/625 [==============================] - 1s 2ms/step - loss: 6.1997e-04 - mean_squared_error: 6.1997e-04 - val_loss: 2.8242e-04 - val_mean_squared_error: 2.8242e-04\n",
            "0.5557995387499978\n"
          ],
          "name": "stdout"
        }
      ]
    },
    {
      "cell_type": "code",
      "metadata": {
        "scrolled": true,
        "id": "T0YEMbVVUPDX",
        "outputId": "727ce062-e614-422d-a2c8-b518b660e0d2"
      },
      "source": [
        "plotting(history) \n",
        "multi_resdense_model.summary()\n",
        "plt.savefig('0.001s20knewageresdense1-1batch32allep100lrelu40diff2u1500.png')"
      ],
      "execution_count": null,
      "outputs": [
        {
          "output_type": "stream",
          "text": [
            "Model: \"sequential\"\n",
            "_________________________________________________________________\n",
            "Layer (type)                 Output Shape              Param #   \n",
            "=================================================================\n",
            "lambda (Lambda)              (None, 1, 9)              0         \n",
            "_________________________________________________________________\n",
            "dense (Dense)                (None, 1, 40)             400       \n",
            "_________________________________________________________________\n",
            "dense_1 (Dense)              (None, 1, 2)              82        \n",
            "=================================================================\n",
            "Total params: 482\n",
            "Trainable params: 482\n",
            "Non-trainable params: 0\n",
            "_________________________________________________________________\n"
          ],
          "name": "stdout"
        },
        {
          "output_type": "display_data",
          "data": {
            "image/png": "[encoded data removed]",
            "text/plain": [
              "<Figure size 432x288 with 1 Axes>"
            ]
          },
          "metadata": {
            "tags": [],
            "needs_background": "light"
          }
        }
      ]
    },
    {
      "cell_type": "code",
      "metadata": {
        "id": "dlyP5pRXUPDX"
      },
      "source": [
        "multi_resdense_model.save_weights('./checkpoints/0.001s20knewageresdense1-1batch32allep100lrelu40diff2u1500')\n",
        "history40= history.history['loss']\n",
        "history40val= history.history['val_loss']\n",
        "time40=elapsed"
      ],
      "execution_count": null,
      "outputs": []
    },
    {
      "cell_type": "code",
      "metadata": {
        "scrolled": true,
        "id": "yRZPU_QbUPDX",
        "outputId": "e1ec8525-8657-4c33-f527-e22909166bae"
      },
      "source": [
        "multi_resdense_model = tf.keras.Sequential([\n",
        "    # Take the last time step.\n",
        "    # Shape [batch, time, features] => [batch, 1, features]\n",
        "    tf.keras.layers.Lambda(lambda x: x[:, -1:, :]),\n",
        "    # Shape => [batch, 1, dense_units]\n",
        "  tf.keras.layers.Dense(50, activation=partial(tf.nn.leaky_relu, alpha=0.5)),\n",
        "\n",
        "    tf.keras.layers.Dense(OUT_STEPS*num_label,\n",
        "                         kernel_initializer=tf.initializers.zeros\n",
        "                         ),\n",
        "])\n",
        "compile(multi_resdense_model,lr=0.001)\n",
        "tf.keras.backend.clear_session()\n",
        "start_time = timeit.default_timer()\n",
        "history = fit(multi_resdense_model, multi_window)\n",
        "\n",
        "elapsed = timeit.default_timer() - start_time \n",
        "print(elapsed / 200)"
      ],
      "execution_count": null,
      "outputs": [
        {
          "output_type": "stream",
          "text": [
            "Epoch 1/100\n",
            "625/625 [==============================] - 1s 2ms/step - loss: 0.0163 - mean_squared_error: 0.0163 - val_loss: 6.7345e-04 - val_mean_squared_error: 6.7345e-04\n",
            "Epoch 2/100\n",
            "625/625 [==============================] - 1s 1ms/step - loss: 0.0014 - mean_squared_error: 0.0014 - val_loss: 4.7651e-04 - val_mean_squared_error: 4.7651e-04\n",
            "Epoch 3/100\n",
            "625/625 [==============================] - 1s 1ms/step - loss: 0.0014 - mean_squared_error: 0.0014 - val_loss: 4.2857e-04 - val_mean_squared_error: 4.2857e-04\n",
            "Epoch 4/100\n",
            "625/625 [==============================] - 1s 1ms/step - loss: 0.0014 - mean_squared_error: 0.0014 - val_loss: 4.0407e-04 - val_mean_squared_error: 4.0407e-04\n",
            "Epoch 5/100\n",
            "625/625 [==============================] - 1s 2ms/step - loss: 0.0013 - mean_squared_error: 0.0013 - val_loss: 3.8731e-04 - val_mean_squared_error: 3.8731e-04\n",
            "Epoch 6/100\n",
            "625/625 [==============================] - 1s 2ms/step - loss: 0.0013 - mean_squared_error: 0.0013 - val_loss: 3.7483e-04 - val_mean_squared_error: 3.7483e-04\n",
            "Epoch 7/100\n",
            "625/625 [==============================] - 1s 1ms/step - loss: 0.0013 - mean_squared_error: 0.0013 - val_loss: 3.6546e-04 - val_mean_squared_error: 3.6546e-04\n",
            "Epoch 8/100\n",
            "625/625 [==============================] - 1s 1ms/step - loss: 0.0013 - mean_squared_error: 0.0013 - val_loss: 3.5748e-04 - val_mean_squared_error: 3.5748e-04\n",
            "Epoch 9/100\n",
            "625/625 [==============================] - 1s 2ms/step - loss: 0.0012 - mean_squared_error: 0.0012 - val_loss: 3.5174e-04 - val_mean_squared_error: 3.5174e-04\n",
            "Epoch 10/100\n",
            "625/625 [==============================] - 1s 1ms/step - loss: 0.0012 - mean_squared_error: 0.0012 - val_loss: 3.4679e-04 - val_mean_squared_error: 3.4679e-04\n",
            "Epoch 11/100\n",
            "625/625 [==============================] - 1s 2ms/step - loss: 0.0012 - mean_squared_error: 0.0012 - val_loss: 3.4256e-04 - val_mean_squared_error: 3.4256e-04\n",
            "Epoch 12/100\n",
            "625/625 [==============================] - 1s 2ms/step - loss: 0.0012 - mean_squared_error: 0.0012 - val_loss: 3.3950e-04 - val_mean_squared_error: 3.3950e-04\n",
            "Epoch 13/100\n",
            "625/625 [==============================] - 1s 1ms/step - loss: 0.0012 - mean_squared_error: 0.0012 - val_loss: 3.3755e-04 - val_mean_squared_error: 3.3755e-04\n",
            "Epoch 14/100\n",
            "625/625 [==============================] - 1s 1ms/step - loss: 0.0011 - mean_squared_error: 0.0011 - val_loss: 3.3625e-04 - val_mean_squared_error: 3.3625e-04\n",
            "Epoch 15/100\n",
            "625/625 [==============================] - 1s 1ms/step - loss: 0.0011 - mean_squared_error: 0.0011 - val_loss: 3.3583e-04 - val_mean_squared_error: 3.3583e-04\n",
            "Epoch 16/100\n",
            "625/625 [==============================] - 1s 2ms/step - loss: 0.0011 - mean_squared_error: 0.0011 - val_loss: 3.3556e-04 - val_mean_squared_error: 3.3556e-04\n",
            "Epoch 17/100\n",
            "625/625 [==============================] - 1s 1ms/step - loss: 0.0011 - mean_squared_error: 0.0011 - val_loss: 3.3625e-04 - val_mean_squared_error: 3.3625e-04\n",
            "Epoch 18/100\n",
            "625/625 [==============================] - 1s 2ms/step - loss: 0.0011 - mean_squared_error: 0.0011 - val_loss: 3.3708e-04 - val_mean_squared_error: 3.3708e-04\n",
            "Epoch 19/100\n",
            "625/625 [==============================] - 1s 1ms/step - loss: 0.0011 - mean_squared_error: 0.0011 - val_loss: 3.3817e-04 - val_mean_squared_error: 3.3817e-04\n",
            "Epoch 20/100\n",
            "625/625 [==============================] - 1s 1ms/step - loss: 0.0010 - mean_squared_error: 0.0010 - val_loss: 3.4041e-04 - val_mean_squared_error: 3.4041e-04\n",
            "Epoch 21/100\n",
            "625/625 [==============================] - 1s 2ms/step - loss: 0.0010 - mean_squared_error: 0.0010 - val_loss: 3.4263e-04 - val_mean_squared_error: 3.4263e-04\n",
            "Epoch 22/100\n",
            "625/625 [==============================] - 1s 1ms/step - loss: 0.0010 - mean_squared_error: 0.0010 - val_loss: 3.4471e-04 - val_mean_squared_error: 3.4471e-04\n",
            "Epoch 23/100\n",
            "625/625 [==============================] - 1s 1ms/step - loss: 9.8674e-04 - mean_squared_error: 9.8674e-04 - val_loss: 3.4684e-04 - val_mean_squared_error: 3.4684e-04\n",
            "Epoch 24/100\n",
            "625/625 [==============================] - 1s 2ms/step - loss: 9.6868e-04 - mean_squared_error: 9.6868e-04 - val_loss: 3.4978e-04 - val_mean_squared_error: 3.4978e-04\n",
            "Epoch 25/100\n",
            "625/625 [==============================] - 1s 1ms/step - loss: 9.5083e-04 - mean_squared_error: 9.5083e-04 - val_loss: 3.5173e-04 - val_mean_squared_error: 3.5173e-04\n",
            "Epoch 26/100\n",
            "625/625 [==============================] - 1s 1ms/step - loss: 9.3263e-04 - mean_squared_error: 9.3263e-04 - val_loss: 3.5297e-04 - val_mean_squared_error: 3.5297e-04\n",
            "Epoch 27/100\n",
            "625/625 [==============================] - 1s 1ms/step - loss: 9.1472e-04 - mean_squared_error: 9.1472e-04 - val_loss: 3.5374e-04 - val_mean_squared_error: 3.5374e-04\n",
            "Epoch 28/100\n",
            "625/625 [==============================] - 1s 1ms/step - loss: 8.9671e-04 - mean_squared_error: 8.9671e-04 - val_loss: 3.5334e-04 - val_mean_squared_error: 3.5334e-04\n",
            "Epoch 29/100\n",
            "625/625 [==============================] - 1s 1ms/step - loss: 8.7869e-04 - mean_squared_error: 8.7869e-04 - val_loss: 3.5277e-04 - val_mean_squared_error: 3.5277e-04\n",
            "Epoch 30/100\n",
            "625/625 [==============================] - 1s 1ms/step - loss: 8.6109e-04 - mean_squared_error: 8.6109e-04 - val_loss: 3.5262e-04 - val_mean_squared_error: 3.5262e-04\n",
            "Epoch 31/100\n",
            "625/625 [==============================] - 1s 1ms/step - loss: 8.4348e-04 - mean_squared_error: 8.4348e-04 - val_loss: 3.5086e-04 - val_mean_squared_error: 3.5086e-04\n",
            "Epoch 32/100\n",
            "625/625 [==============================] - 1s 1ms/step - loss: 8.2564e-04 - mean_squared_error: 8.2564e-04 - val_loss: 3.4995e-04 - val_mean_squared_error: 3.4995e-04\n",
            "Epoch 33/100\n",
            "625/625 [==============================] - 1s 1ms/step - loss: 8.0783e-04 - mean_squared_error: 8.0783e-04 - val_loss: 3.4843e-04 - val_mean_squared_error: 3.4843e-04\n",
            "Epoch 34/100\n",
            "625/625 [==============================] - 1s 1ms/step - loss: 7.8911e-04 - mean_squared_error: 7.8911e-04 - val_loss: 3.4768e-04 - val_mean_squared_error: 3.4768e-04\n",
            "Epoch 35/100\n",
            "625/625 [==============================] - 1s 2ms/step - loss: 7.7136e-04 - mean_squared_error: 7.7136e-04 - val_loss: 3.4729e-04 - val_mean_squared_error: 3.4729e-04\n",
            "Epoch 36/100\n",
            "625/625 [==============================] - 1s 2ms/step - loss: 7.5387e-04 - mean_squared_error: 7.5387e-04 - val_loss: 3.4763e-04 - val_mean_squared_error: 3.4763e-04\n",
            "Epoch 37/100\n",
            "625/625 [==============================] - 1s 2ms/step - loss: 7.3761e-04 - mean_squared_error: 7.3761e-04 - val_loss: 3.4749e-04 - val_mean_squared_error: 3.4749e-04\n",
            "Epoch 38/100\n",
            "625/625 [==============================] - 1s 2ms/step - loss: 7.2157e-04 - mean_squared_error: 7.2157e-04 - val_loss: 3.4661e-04 - val_mean_squared_error: 3.4661e-04\n",
            "Epoch 39/100\n",
            "625/625 [==============================] - 1s 2ms/step - loss: 7.0642e-04 - mean_squared_error: 7.0642e-04 - val_loss: 3.4680e-04 - val_mean_squared_error: 3.4680e-04\n",
            "Epoch 40/100\n",
            "625/625 [==============================] - 1s 2ms/step - loss: 6.9226e-04 - mean_squared_error: 6.9226e-04 - val_loss: 3.4756e-04 - val_mean_squared_error: 3.4756e-04\n",
            "Epoch 41/100\n",
            "625/625 [==============================] - 1s 2ms/step - loss: 6.7872e-04 - mean_squared_error: 6.7872e-04 - val_loss: 3.4933e-04 - val_mean_squared_error: 3.4933e-04\n",
            "Epoch 42/100\n",
            "625/625 [==============================] - 1s 1ms/step - loss: 6.6687e-04 - mean_squared_error: 6.6687e-04 - val_loss: 3.5265e-04 - val_mean_squared_error: 3.5265e-04\n",
            "Epoch 43/100\n",
            "625/625 [==============================] - 1s 2ms/step - loss: 6.5582e-04 - mean_squared_error: 6.5582e-04 - val_loss: 3.5556e-04 - val_mean_squared_error: 3.5556e-04\n",
            "Epoch 44/100\n",
            "625/625 [==============================] - 1s 2ms/step - loss: 6.4586e-04 - mean_squared_error: 6.4586e-04 - val_loss: 3.5853e-04 - val_mean_squared_error: 3.5853e-04\n",
            "Epoch 45/100\n",
            "625/625 [==============================] - 1s 2ms/step - loss: 6.3628e-04 - mean_squared_error: 6.3628e-04 - val_loss: 3.6073e-04 - val_mean_squared_error: 3.6073e-04\n",
            "Epoch 46/100\n",
            "625/625 [==============================] - 1s 1ms/step - loss: 6.2710e-04 - mean_squared_error: 6.2710e-04 - val_loss: 3.6331e-04 - val_mean_squared_error: 3.6331e-04\n",
            "Epoch 47/100\n",
            "625/625 [==============================] - 1s 1ms/step - loss: 6.1917e-04 - mean_squared_error: 6.1917e-04 - val_loss: 3.6398e-04 - val_mean_squared_error: 3.6398e-04\n",
            "Epoch 48/100\n",
            "625/625 [==============================] - 1s 2ms/step - loss: 6.1044e-04 - mean_squared_error: 6.1044e-04 - val_loss: 3.6692e-04 - val_mean_squared_error: 3.6692e-04\n",
            "Epoch 49/100\n",
            "625/625 [==============================] - 1s 1ms/step - loss: 6.0289e-04 - mean_squared_error: 6.0289e-04 - val_loss: 3.6855e-04 - val_mean_squared_error: 3.6855e-04\n",
            "Epoch 50/100\n",
            "625/625 [==============================] - 1s 1ms/step - loss: 5.9745e-04 - mean_squared_error: 5.9745e-04 - val_loss: 3.7104e-04 - val_mean_squared_error: 3.7104e-04\n",
            "Epoch 51/100\n",
            "625/625 [==============================] - 1s 2ms/step - loss: 5.8631e-04 - mean_squared_error: 5.8631e-04 - val_loss: 3.7299e-04 - val_mean_squared_error: 3.7299e-04\n",
            "Epoch 52/100\n",
            "625/625 [==============================] - 1s 1ms/step - loss: 5.8271e-04 - mean_squared_error: 5.8271e-04 - val_loss: 3.7790e-04 - val_mean_squared_error: 3.7790e-04\n",
            "Epoch 53/100\n",
            "625/625 [==============================] - 1s 1ms/step - loss: 5.7538e-04 - mean_squared_error: 5.7538e-04 - val_loss: 3.8342e-04 - val_mean_squared_error: 3.8342e-04\n",
            "Epoch 54/100\n",
            "625/625 [==============================] - 1s 2ms/step - loss: 5.6897e-04 - mean_squared_error: 5.6897e-04 - val_loss: 3.8758e-04 - val_mean_squared_error: 3.8758e-04\n",
            "Epoch 55/100\n",
            "625/625 [==============================] - 1s 1ms/step - loss: 5.6310e-04 - mean_squared_error: 5.6310e-04 - val_loss: 3.9511e-04 - val_mean_squared_error: 3.9511e-04\n",
            "Epoch 56/100\n",
            "625/625 [==============================] - 1s 1ms/step - loss: 5.5701e-04 - mean_squared_error: 5.5701e-04 - val_loss: 3.9730e-04 - val_mean_squared_error: 3.9730e-04\n",
            "Epoch 57/100\n",
            "625/625 [==============================] - 1s 1ms/step - loss: 5.5075e-04 - mean_squared_error: 5.5075e-04 - val_loss: 4.0050e-04 - val_mean_squared_error: 4.0050e-04\n",
            "Epoch 58/100\n",
            "625/625 [==============================] - 1s 1ms/step - loss: 5.4487e-04 - mean_squared_error: 5.4487e-04 - val_loss: 4.0580e-04 - val_mean_squared_error: 4.0580e-04\n",
            "Epoch 59/100\n",
            "625/625 [==============================] - 1s 1ms/step - loss: 5.3894e-04 - mean_squared_error: 5.3894e-04 - val_loss: 4.0814e-04 - val_mean_squared_error: 4.0814e-04\n",
            "Epoch 60/100\n",
            "625/625 [==============================] - 1s 1ms/step - loss: 5.3477e-04 - mean_squared_error: 5.3477e-04 - val_loss: 4.1446e-04 - val_mean_squared_error: 4.1446e-04\n",
            "Epoch 61/100\n",
            "625/625 [==============================] - 1s 1ms/step - loss: 5.2799e-04 - mean_squared_error: 5.2799e-04 - val_loss: 4.1371e-04 - val_mean_squared_error: 4.1371e-04\n",
            "Epoch 62/100\n",
            "625/625 [==============================] - 1s 2ms/step - loss: 5.2519e-04 - mean_squared_error: 5.2519e-04 - val_loss: 4.2037e-04 - val_mean_squared_error: 4.2037e-04\n",
            "Epoch 63/100\n",
            "625/625 [==============================] - 1s 2ms/step - loss: 5.1687e-04 - mean_squared_error: 5.1687e-04 - val_loss: 4.1936e-04 - val_mean_squared_error: 4.1936e-04\n",
            "Epoch 64/100\n",
            "625/625 [==============================] - 1s 2ms/step - loss: 5.1417e-04 - mean_squared_error: 5.1417e-04 - val_loss: 4.2752e-04 - val_mean_squared_error: 4.2752e-04\n",
            "Epoch 65/100\n",
            "625/625 [==============================] - 1s 2ms/step - loss: 5.0663e-04 - mean_squared_error: 5.0663e-04 - val_loss: 4.3026e-04 - val_mean_squared_error: 4.3026e-04\n",
            "Epoch 66/100\n",
            "625/625 [==============================] - 1s 2ms/step - loss: 5.0432e-04 - mean_squared_error: 5.0432e-04 - val_loss: 4.3988e-04 - val_mean_squared_error: 4.3988e-04\n",
            "Epoch 67/100\n",
            "625/625 [==============================] - 1s 2ms/step - loss: 4.9838e-04 - mean_squared_error: 4.9838e-04 - val_loss: 4.3767e-04 - val_mean_squared_error: 4.3767e-04\n",
            "Epoch 68/100\n",
            "625/625 [==============================] - 1s 2ms/step - loss: 4.9493e-04 - mean_squared_error: 4.9493e-04 - val_loss: 4.3577e-04 - val_mean_squared_error: 4.3577e-04\n",
            "Epoch 69/100\n",
            "625/625 [==============================] - 1s 2ms/step - loss: 4.9291e-04 - mean_squared_error: 4.9291e-04 - val_loss: 4.4172e-04 - val_mean_squared_error: 4.4172e-04\n",
            "Epoch 70/100\n",
            "625/625 [==============================] - 1s 1ms/step - loss: 4.8676e-04 - mean_squared_error: 4.8676e-04 - val_loss: 4.4680e-04 - val_mean_squared_error: 4.4680e-04\n",
            "Epoch 71/100\n",
            "625/625 [==============================] - 1s 2ms/step - loss: 4.8184e-04 - mean_squared_error: 4.8184e-04 - val_loss: 4.4038e-04 - val_mean_squared_error: 4.4038e-04\n",
            "Epoch 72/100\n",
            "625/625 [==============================] - 1s 2ms/step - loss: 4.8037e-04 - mean_squared_error: 4.8037e-04 - val_loss: 4.4003e-04 - val_mean_squared_error: 4.4003e-04\n",
            "Epoch 73/100\n",
            "625/625 [==============================] - 1s 2ms/step - loss: 4.7377e-04 - mean_squared_error: 4.7377e-04 - val_loss: 4.3798e-04 - val_mean_squared_error: 4.3798e-04\n",
            "Epoch 74/100\n",
            "625/625 [==============================] - 1s 2ms/step - loss: 4.7089e-04 - mean_squared_error: 4.7089e-04 - val_loss: 4.3646e-04 - val_mean_squared_error: 4.3646e-04\n",
            "Epoch 75/100\n",
            "625/625 [==============================] - 1s 2ms/step - loss: 4.6757e-04 - mean_squared_error: 4.6757e-04 - val_loss: 4.4623e-04 - val_mean_squared_error: 4.4623e-04\n",
            "Epoch 76/100\n",
            "625/625 [==============================] - 1s 2ms/step - loss: 4.6061e-04 - mean_squared_error: 4.6061e-04 - val_loss: 4.3840e-04 - val_mean_squared_error: 4.3840e-04\n",
            "Epoch 77/100\n",
            "625/625 [==============================] - 1s 2ms/step - loss: 4.5667e-04 - mean_squared_error: 4.5667e-04 - val_loss: 4.3719e-04 - val_mean_squared_error: 4.3719e-04\n",
            "Epoch 78/100\n",
            "625/625 [==============================] - 1s 2ms/step - loss: 4.5344e-04 - mean_squared_error: 4.5344e-04 - val_loss: 4.2961e-04 - val_mean_squared_error: 4.2961e-04\n",
            "Epoch 79/100\n",
            "625/625 [==============================] - 1s 1ms/step - loss: 4.4693e-04 - mean_squared_error: 4.4693e-04 - val_loss: 4.2756e-04 - val_mean_squared_error: 4.2756e-04\n",
            "Epoch 80/100\n",
            "625/625 [==============================] - 1s 2ms/step - loss: 4.4568e-04 - mean_squared_error: 4.4568e-04 - val_loss: 4.2993e-04 - val_mean_squared_error: 4.2993e-04\n",
            "Epoch 81/100\n",
            "625/625 [==============================] - 1s 1ms/step - loss: 4.3902e-04 - mean_squared_error: 4.3902e-04 - val_loss: 4.2888e-04 - val_mean_squared_error: 4.2888e-04\n",
            "Epoch 82/100\n",
            "625/625 [==============================] - 1s 1ms/step - loss: 4.3780e-04 - mean_squared_error: 4.3780e-04 - val_loss: 4.3015e-04 - val_mean_squared_error: 4.3015e-04\n",
            "Epoch 83/100\n",
            "625/625 [==============================] - 1s 2ms/step - loss: 4.3060e-04 - mean_squared_error: 4.3060e-04 - val_loss: 4.2802e-04 - val_mean_squared_error: 4.2802e-04\n",
            "Epoch 84/100\n",
            "625/625 [==============================] - 1s 2ms/step - loss: 4.2645e-04 - mean_squared_error: 4.2645e-04 - val_loss: 4.2291e-04 - val_mean_squared_error: 4.2291e-04\n",
            "Epoch 85/100\n",
            "625/625 [==============================] - 1s 1ms/step - loss: 4.2835e-04 - mean_squared_error: 4.2835e-04 - val_loss: 4.0430e-04 - val_mean_squared_error: 4.0430e-04\n",
            "Epoch 86/100\n",
            "625/625 [==============================] - 1s 2ms/step - loss: 4.1423e-04 - mean_squared_error: 4.1423e-04 - val_loss: 3.7868e-04 - val_mean_squared_error: 3.7868e-04\n",
            "Epoch 87/100\n",
            "625/625 [==============================] - 1s 2ms/step - loss: 4.0503e-04 - mean_squared_error: 4.0503e-04 - val_loss: 4.0564e-04 - val_mean_squared_error: 4.0564e-04\n",
            "Epoch 88/100\n",
            "625/625 [==============================] - 1s 2ms/step - loss: 4.3583e-04 - mean_squared_error: 4.3583e-04 - val_loss: 3.3875e-04 - val_mean_squared_error: 3.3875e-04\n",
            "Epoch 89/100\n",
            "625/625 [==============================] - 1s 2ms/step - loss: 3.9048e-04 - mean_squared_error: 3.9048e-04 - val_loss: 2.6723e-04 - val_mean_squared_error: 2.6723e-04\n",
            "Epoch 90/100\n",
            "625/625 [==============================] - 1s 2ms/step - loss: 3.5515e-04 - mean_squared_error: 3.5515e-04 - val_loss: 3.1916e-04 - val_mean_squared_error: 3.1916e-04\n",
            "Epoch 91/100\n",
            "625/625 [==============================] - 1s 2ms/step - loss: 5.0146e-04 - mean_squared_error: 5.0146e-04 - val_loss: 2.5091e-04 - val_mean_squared_error: 2.5091e-04\n",
            "Epoch 92/100\n"
          ],
          "name": "stdout"
        },
        {
          "output_type": "stream",
          "text": [
            "625/625 [==============================] - 1s 2ms/step - loss: 4.3048e-04 - mean_squared_error: 4.3048e-04 - val_loss: 2.0371e-04 - val_mean_squared_error: 2.0371e-04\n",
            "Epoch 93/100\n",
            "625/625 [==============================] - 1s 2ms/step - loss: 3.3170e-04 - mean_squared_error: 3.3170e-04 - val_loss: 1.9976e-04 - val_mean_squared_error: 1.9976e-04\n",
            "Epoch 94/100\n",
            "625/625 [==============================] - 1s 2ms/step - loss: 4.4538e-04 - mean_squared_error: 4.4538e-04 - val_loss: 2.1349e-04 - val_mean_squared_error: 2.1349e-04\n",
            "Epoch 95/100\n",
            "625/625 [==============================] - 1s 2ms/step - loss: 3.2374e-04 - mean_squared_error: 3.2374e-04 - val_loss: 4.0337e-04 - val_mean_squared_error: 4.0337e-04\n",
            "Epoch 96/100\n",
            "625/625 [==============================] - 1s 2ms/step - loss: 5.0664e-04 - mean_squared_error: 5.0664e-04 - val_loss: 2.4350e-04 - val_mean_squared_error: 2.4350e-04\n",
            "Epoch 97/100\n",
            "625/625 [==============================] - 1s 2ms/step - loss: 3.4568e-04 - mean_squared_error: 3.4568e-04 - val_loss: 1.8641e-04 - val_mean_squared_error: 1.8641e-04\n",
            "Epoch 98/100\n",
            "625/625 [==============================] - 1s 2ms/step - loss: 4.4406e-04 - mean_squared_error: 4.4406e-04 - val_loss: 2.0942e-04 - val_mean_squared_error: 2.0942e-04\n",
            "Epoch 99/100\n",
            "625/625 [==============================] - 1s 2ms/step - loss: 3.3396e-04 - mean_squared_error: 3.3396e-04 - val_loss: 1.8885e-04 - val_mean_squared_error: 1.8885e-04\n",
            "Epoch 100/100\n",
            "625/625 [==============================] - 1s 2ms/step - loss: 4.2315e-04 - mean_squared_error: 4.2315e-04 - val_loss: 2.3659e-04 - val_mean_squared_error: 2.3659e-04\n",
            "0.5129039720599939\n"
          ],
          "name": "stdout"
        }
      ]
    },
    {
      "cell_type": "code",
      "metadata": {
        "scrolled": true,
        "id": "abvgWvx-UPDY",
        "outputId": "50d093ef-2431-4ae8-e84c-f4a45fe489da"
      },
      "source": [
        "plotting(history) \n",
        "multi_resdense_model.summary()\n",
        "plt.savefig('0.001s20knewageresdense1-1batch32allep100lrelu50diff2u1500.png')"
      ],
      "execution_count": null,
      "outputs": [
        {
          "output_type": "stream",
          "text": [
            "Model: \"sequential_12\"\n",
            "_________________________________________________________________\n",
            "Layer (type)                 Output Shape              Param #   \n",
            "=================================================================\n",
            "lambda_12 (Lambda)           (None, 1, 9)              0         \n",
            "_________________________________________________________________\n",
            "dense_24 (Dense)             (None, 1, 50)             500       \n",
            "_________________________________________________________________\n",
            "dense_25 (Dense)             (None, 1, 2)              102       \n",
            "=================================================================\n",
            "Total params: 602\n",
            "Trainable params: 602\n",
            "Non-trainable params: 0\n",
            "_________________________________________________________________\n"
          ],
          "name": "stdout"
        },
        {
          "output_type": "display_data",
          "data": {
            "image/png": "[encoded data removed]",
            "text/plain": [
              "<Figure size 432x288 with 1 Axes>"
            ]
          },
          "metadata": {
            "tags": [],
            "needs_background": "light"
          }
        }
      ]
    },
    {
      "cell_type": "code",
      "metadata": {
        "id": "lmFr54AfUPDY"
      },
      "source": [
        "multi_resdense_model.save_weights('./checkpoints/0.001s20knewageresdense1-1batch32allep100lrelu50diff2u1500')\n",
        "history50= history.history['loss']\n",
        "history50val= history.history['val_loss']\n",
        "time50=elapsed"
      ],
      "execution_count": null,
      "outputs": []
    },
    {
      "cell_type": "code",
      "metadata": {
        "id": "5SwqobkBUPDY"
      },
      "source": [
        "history20ku2000= np.array(([history10,history20,history30,history40,history50]))\n",
        "history20ku2000VAL= np.array(([history10val,history20val,history30val,history40val,history50val]))\n",
        "ttime= np.array(([time10,time20,time30,time40,time50]))\n"
      ],
      "execution_count": null,
      "outputs": []
    },
    {
      "cell_type": "code",
      "metadata": {
        "id": "4eUnOg15UPDY",
        "outputId": "c5017979-13a2-458e-b96e-03b09ecb4ed6"
      },
      "source": [
        "ttime"
      ],
      "execution_count": null,
      "outputs": [
        {
          "output_type": "execute_result",
          "data": {
            "text/plain": [
              "array([109.52859202, 127.10089464, 124.10861165, 111.15990775,\n",
              "       109.29263531])"
            ]
          },
          "metadata": {
            "tags": []
          },
          "execution_count": 455
        }
      ]
    },
    {
      "cell_type": "code",
      "metadata": {
        "scrolled": false,
        "id": "dFu_8AJhUPDY"
      },
      "source": [
        "aa=pd.DataFrame(history20ku2000)\n",
        "aa.to_csv('history20ku1500.csv',index=False)"
      ],
      "execution_count": null,
      "outputs": []
    },
    {
      "cell_type": "code",
      "metadata": {
        "id": "-KS8qnrJUPDY"
      },
      "source": [
        "aaval=pd.DataFrame(history20ku2000VAL)\n",
        "aaval.to_csv('history20ku1500VAL.csv',index=False)"
      ],
      "execution_count": null,
      "outputs": []
    },
    {
      "cell_type": "markdown",
      "metadata": {
        "id": "fnRaVfctUPDY"
      },
      "source": [
        "## TEST NN MODEL"
      ]
    },
    {
      "cell_type": "code",
      "metadata": {
        "id": "urVetjD9UPDZ"
      },
      "source": [
        "xmean=train_mean[{'x1','x3'}]\n",
        "xmean=xmean[['x1','x3']]\n",
        "diffmean=train_mean[{'diff1','diff3'}]\n",
        "diffmean=diffmean[['diff1','diff3']]\n",
        "xstd=train_std[{'x1','x3'}]\n",
        "xstd=xstd[['x1','x3']]\n",
        "diffstd=train_std[{'diff1','diff3'}]\n",
        "diffstd=diffstd[['diff1','diff3']]\n",
        "\n",
        "def standardize(modelinput):\n",
        "    modelinput = (modelinput -train_mean.values) / train_std.values\n",
        "    return modelinput\n",
        "\n",
        "def destandardize(modeloutput):\n",
        "    modeloutput = (modeloutput * train_std.values) + train_mean.values\n",
        "    return modeloutput\n",
        "\n",
        "def denormalize(outputs):\n",
        "    outputs = outputs * diffstd + diffmean\n",
        "    return outputs"
      ],
      "execution_count": null,
      "outputs": []
    },
    {
      "cell_type": "code",
      "metadata": {
        "id": "yfkz0ZlVUPDZ"
      },
      "source": [
        "OUT_STEPS=1\n",
        "num_label=2\n",
        "hiddennodes=50"
      ],
      "execution_count": null,
      "outputs": []
    },
    {
      "cell_type": "code",
      "metadata": {
        "id": "iQ7kw2brUPDZ"
      },
      "source": [
        "multi_resdense_model = tf.keras.Sequential([\n",
        "    # Take the last time step.\n",
        "    # Shape [batch, time, features] => [batch, 1, features]\n",
        "    tf.keras.layers.Lambda(lambda x: x[:, -1:, :]),\n",
        "    # Shape => [batch, 1, dense_units]\n",
        "  tf.keras.layers.Dense(hiddennodes, activation=partial(tf.nn.leaky_relu, alpha=0.5)),\n",
        "    tf.keras.layers.Dense(OUT_STEPS*num_label,\n",
        "                         kernel_initializer=tf.initializers.zeros\n",
        "                         ),\n",
        "])"
      ],
      "execution_count": null,
      "outputs": []
    },
    {
      "cell_type": "markdown",
      "metadata": {
        "id": "6aHuHLquvyzq"
      },
      "source": [
        "## Load NN Model and random testing"
      ]
    },
    {
      "cell_type": "code",
      "metadata": {
        "id": "jmquMum6UPDZ",
        "outputId": "8e70da95-aef0-4506-ea0a-e0cf101f9035"
      },
      "source": [
        "\n",
        "multi_resdense_model.load_weights('./checkpoints/0.001s20knewageresdense1-1batch32allep100lrelu50diff2u1500')\n",
        "multi_window.plot('diff1',model=multi_resdense_model)\n",
        "multi_window.plot('diff3',model=multi_resdense_model)"
      ],
      "execution_count": null,
      "outputs": [
        {
          "output_type": "display_data",
          "data": {
            "image/png": "[encoded data removed]",
            "text/plain": [
              "<Figure size 864x576 with 1 Axes>"
            ]
          },
          "metadata": {
            "tags": [],
            "needs_background": "light"
          }
        },
        {
          "output_type": "display_data",
          "data": {
            "image/png": "[encoded data removed]",
            "text/plain": [
              "<Figure size 864x576 with 1 Axes>"
            ]
          },
          "metadata": {
            "tags": [],
            "needs_background": "light"
          }
        }
      ]
    },
    {
      "cell_type": "code",
      "metadata": {
        "id": "JEoCy3FmUPDZ"
      },
      "source": [
        "#test data\n",
        "testdata= pd.read_csv('u1000testdata5k_0.001ssim.csv')\n",
        "#validation data\n",
        "testdata= pd.read_csv('u1000validationdatanewage5k_0.001ssim.csv')\n",
        "#training data\n",
        "#testdata= df[:5001]"
      ],
      "execution_count": null,
      "outputs": []
    },
    {
      "cell_type": "code",
      "metadata": {
        "id": "yD18wwvuUPDZ",
        "outputId": "d12b7741-8a45-4bcd-8fbb-6f6ad43b9b5b"
      },
      "source": [
        "saveerrordiff=np.zeros((5000-1,2))\n",
        "saveerrorstate=np.zeros((5000-1,2))\n",
        "start_time = timeit.default_timer()\n",
        "for i in range(5000-1):\n",
        "    NNinput= standardize(testdata[i:i+1].values)\n",
        "    curr=testdata.iloc[i:i+1,3:5].values\n",
        "    grounddiff=  testdata.iloc[i+1:i+2,-2:].values\n",
        "    groundstate= testdata.iloc[i+1:i+2,3:5].values\n",
        "    prednorm=denormalize(multi_resdense_model(np.array([NNinput])))\n",
        "    predstate= curr + prednorm\n",
        "    errordiff= prednorm - grounddiff\n",
        "    errorstate= predstate - groundstate\n",
        "    saveerrordiff[i]= errordiff\n",
        "    saveerrorstate[i]= errorstate\n",
        "elapsed = timeit.default_timer() - start_time \n",
        "print(\"elapsed time: \", elapsed)\n",
        "np.square(saveerrorstate).mean()"
      ],
      "execution_count": null,
      "outputs": [
        {
          "output_type": "stream",
          "text": [
            "elapsed time:  11.939257156000053\n"
          ],
          "name": "stdout"
        },
        {
          "output_type": "execute_result",
          "data": {
            "text/plain": [
              "1.1010818113725072e-06"
            ]
          },
          "metadata": {
            "tags": []
          },
          "execution_count": 25
        }
      ]
    },
    {
      "cell_type": "code",
      "metadata": {
        "scrolled": true,
        "id": "j_Msd40tUPDa",
        "outputId": "862487ae-75f9-4f89-db80-b932d4d3dbe0"
      },
      "source": [
        "testdata[1:3]"
      ],
      "execution_count": null,
      "outputs": [
        {
          "output_type": "execute_result",
          "data": {
            "text/html": [
              "<div>\n",
              "<style scoped>\n",
              "    .dataframe tbody tr th:only-of-type {\n",
              "        vertical-align: middle;\n",
              "    }\n",
              "\n",
              "    .dataframe tbody tr th {\n",
              "        vertical-align: top;\n",
              "    }\n",
              "\n",
              "    .dataframe thead th {\n",
              "        text-align: right;\n",
              "    }\n",
              "</style>\n",
              "<table border=\"1\" class=\"dataframe\">\n",
              "  <thead>\n",
              "    <tr style=\"text-align: right;\">\n",
              "      <th></th>\n",
              "      <th>u1</th>\n",
              "      <th>dist.</th>\n",
              "      <th>u2</th>\n",
              "      <th>x1</th>\n",
              "      <th>x3</th>\n",
              "      <th>diff21</th>\n",
              "      <th>diff23</th>\n",
              "      <th>diff1</th>\n",
              "      <th>diff3</th>\n",
              "    </tr>\n",
              "  </thead>\n",
              "  <tbody>\n",
              "    <tr>\n",
              "      <th>1</th>\n",
              "      <td>841.748776</td>\n",
              "      <td>134.538286</td>\n",
              "      <td>-1288.767215</td>\n",
              "      <td>0.001744</td>\n",
              "      <td>0.000662</td>\n",
              "      <td>0.001396</td>\n",
              "      <td>0.000670</td>\n",
              "      <td>0.000599</td>\n",
              "      <td>0.000342</td>\n",
              "    </tr>\n",
              "    <tr>\n",
              "      <th>2</th>\n",
              "      <td>-6.377166</td>\n",
              "      <td>-398.773768</td>\n",
              "      <td>884.911895</td>\n",
              "      <td>0.002464</td>\n",
              "      <td>0.000026</td>\n",
              "      <td>0.001318</td>\n",
              "      <td>-0.000294</td>\n",
              "      <td>0.000720</td>\n",
              "      <td>-0.000636</td>\n",
              "    </tr>\n",
              "  </tbody>\n",
              "</table>\n",
              "</div>"
            ],
            "text/plain": [
              "           u1       dist.           u2        x1        x3    diff21  \\\n",
              "1  841.748776  134.538286 -1288.767215  0.001744  0.000662  0.001396   \n",
              "2   -6.377166 -398.773768   884.911895  0.002464  0.000026  0.001318   \n",
              "\n",
              "     diff23     diff1     diff3  \n",
              "1  0.000670  0.000599  0.000342  \n",
              "2 -0.000294  0.000720 -0.000636  "
            ]
          },
          "metadata": {
            "tags": []
          },
          "execution_count": 26
        }
      ]
    },
    {
      "cell_type": "code",
      "metadata": {
        "id": "PQ7oZRzeUPDa",
        "outputId": "cad9db46-38b7-4001-8ae4-2e66fa6ae2a5"
      },
      "source": [
        "NNinput= standardize(testdata[1:2].values)\n",
        "prednorm=denormalize(multi_resdense_model(np.array([NNinput])))\n",
        "prednorm"
      ],
      "execution_count": null,
      "outputs": [
        {
          "output_type": "execute_result",
          "data": {
            "text/plain": [
              "<tf.Tensor: shape=(1, 1, 2), dtype=float64, numpy=array([[[ 0.00164041, -0.00032798]]])>"
            ]
          },
          "metadata": {
            "tags": []
          },
          "execution_count": 27
        }
      ]
    },
    {
      "cell_type": "markdown",
      "metadata": {
        "id": "NGNBtBEWUPDa"
      },
      "source": [
        "## Evaluate 10-Step Ahead Prediction\r\n",
        "\r\n",
        "![image.png](data:image/png;base64,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)\r\n"
      ]
    },
    {
      "cell_type": "code",
      "metadata": {
        "id": "0nnTMTLgUPDa",
        "outputId": "5f1ec4da-8f38-452d-e853-cc184745e2f9"
      },
      "source": [
        "horizon=10\n",
        "NUMDATA=4990\n",
        "saveerrordiff=np.zeros((NUMDATA,2))\n",
        "saveerrorstate=np.zeros((NUMDATA,2))\n",
        "temp= np.zeros((1,9))\n",
        "start_time = timeit.default_timer()\n",
        "\n",
        "for i in range(NUMDATA):\n",
        "    prednormm= np.zeros((horizon,2))\n",
        "    predstatee= np.zeros((horizon,2))\n",
        "    grounddiff=  testdata.iloc[i+1:i+11,-2:].values\n",
        "    groundstate= testdata.iloc[i+1:i+11,3:5].values\n",
        "    NNinput= (testdata[i:i+11].values)\n",
        "    temp= np.array([NNinput[0]])\n",
        "    allee=np.vstack((temp[-1:]))\n",
        "    actions= NNinput[:,0:3]\n",
        "    curr=testdata.iloc[i:i+1,3:5].values\n",
        "    for j in range(10):\n",
        "        #set actions\n",
        "        prednorm=denormalize(multi_resdense_model(np.array([standardize(temp)])))\n",
        "        predstate= curr + prednorm\n",
        "        temp[-1,0:3] = actions[j+1,:]\n",
        "        temp[-1,3:5] = predstate\n",
        "        temp[-1, 5:7] = temp[-1,-2:] + prednorm\n",
        "        temp[-1, -2:] = prednorm\n",
        "        curr=predstate\n",
        "        prednormm[j,:]=prednorm\n",
        "        predstatee[j,:]=predstate\n",
        "        allee= np.vstack((allee,temp[-1:]))\n",
        "    errordiff= np.square(prednormm - grounddiff).mean()\n",
        "    errorstate= np.square(predstatee - groundstate).mean()\n",
        "    saveerrordiff[i]= errordiff\n",
        "    saveerrorstate[i]= errorstate\n",
        "    \n",
        "   \n",
        "elapsed = timeit.default_timer() - start_time \n",
        "print(\"elapsed time: \", elapsed)\n",
        "saveerrorstate.mean()"
      ],
      "execution_count": null,
      "outputs": [
        {
          "output_type": "stream",
          "text": [
            "elapsed time:  92.11942693900005\n"
          ],
          "name": "stdout"
        },
        {
          "output_type": "execute_result",
          "data": {
            "text/plain": [
              "0.0018512989849595557"
            ]
          },
          "metadata": {
            "tags": []
          },
          "execution_count": 28
        }
      ]
    },
    {
      "cell_type": "code",
      "metadata": {
        "scrolled": true,
        "id": "-N2JV4sXUPDa",
        "outputId": "028bb160-1440-4f4f-9136-2d4e64435238"
      },
      "source": [
        "saveerrorstate"
      ],
      "execution_count": null,
      "outputs": [
        {
          "output_type": "execute_result",
          "data": {
            "text/plain": [
              "array([[1.73265897e-04, 1.73265897e-04],\n",
              "       [1.38439869e-04, 1.38439869e-04],\n",
              "       [8.12760955e-05, 8.12760955e-05],\n",
              "       ...,\n",
              "       [2.65207211e-03, 2.65207211e-03],\n",
              "       [2.38894798e-03, 2.38894798e-03],\n",
              "       [1.88965780e-03, 1.88965780e-03]])"
            ]
          },
          "metadata": {
            "tags": []
          },
          "execution_count": 587
        }
      ]
    },
    {
      "cell_type": "code",
      "metadata": {
        "id": "2Dm2nzB8UPDa",
        "outputId": "4ddba15d-8054-4a6b-8eab-68dd18530251"
      },
      "source": [
        "saveerrorstate[4550:4600]"
      ],
      "execution_count": null,
      "outputs": [
        {
          "output_type": "execute_result",
          "data": {
            "text/plain": [
              "array([[1.69676242e-04, 1.69676242e-04],\n",
              "       [2.97358316e-04, 2.97358316e-04],\n",
              "       [3.17845501e-04, 3.17845501e-04],\n",
              "       [3.26184180e-04, 3.26184180e-04],\n",
              "       [3.18771874e-04, 3.18771874e-04],\n",
              "       [3.07287115e-04, 3.07287115e-04],\n",
              "       [2.73086680e-04, 2.73086680e-04],\n",
              "       [1.53031927e-04, 1.53031927e-04],\n",
              "       [1.68135689e-04, 1.68135689e-04],\n",
              "       [7.57451170e-05, 7.57451170e-05],\n",
              "       [6.58026352e-05, 6.58026352e-05],\n",
              "       [4.29178932e-05, 4.29178932e-05],\n",
              "       [7.10660099e-05, 7.10660099e-05],\n",
              "       [1.34872077e-04, 1.34872077e-04],\n",
              "       [1.74712477e-05, 1.74712477e-05],\n",
              "       [1.66825945e-04, 1.66825945e-04],\n",
              "       [1.68567796e-05, 1.68567796e-05],\n",
              "       [2.48526459e-05, 2.48526459e-05],\n",
              "       [3.81289593e-05, 3.81289593e-05],\n",
              "       [2.91780203e-05, 2.91780203e-05],\n",
              "       [6.80352301e-05, 6.80352301e-05],\n",
              "       [1.44665624e-04, 1.44665624e-04],\n",
              "       [8.02159955e-05, 8.02159955e-05],\n",
              "       [6.18522864e-05, 6.18522864e-05],\n",
              "       [5.03634192e-05, 5.03634192e-05],\n",
              "       [1.52597837e-05, 1.52597837e-05],\n",
              "       [3.46922975e-05, 3.46922975e-05],\n",
              "       [5.50501184e-05, 5.50501184e-05],\n",
              "       [6.37230107e-05, 6.37230107e-05],\n",
              "       [1.03520605e-04, 1.03520605e-04],\n",
              "       [4.46627704e-06, 4.46627704e-06],\n",
              "       [5.24815610e-05, 5.24815610e-05],\n",
              "       [2.17311308e-05, 2.17311308e-05],\n",
              "       [2.48029771e-05, 2.48029771e-05],\n",
              "       [3.87883521e-06, 3.87883521e-06],\n",
              "       [3.75113386e-05, 3.75113386e-05],\n",
              "       [2.59921914e-05, 2.59921914e-05],\n",
              "       [1.41958972e-04, 1.41958972e-04],\n",
              "       [2.60670997e-04, 2.60670997e-04],\n",
              "       [1.44752312e-04, 1.44752312e-04],\n",
              "       [1.86057987e-04, 1.86057987e-04],\n",
              "       [1.85646613e-04, 1.85646613e-04],\n",
              "       [3.10368456e-04, 3.10368456e-04],\n",
              "       [1.86995849e-04, 1.86995849e-04],\n",
              "       [1.91104134e-04, 1.91104134e-04],\n",
              "       [6.17427492e-05, 6.17427492e-05],\n",
              "       [4.24742970e-05, 4.24742970e-05],\n",
              "       [3.49256895e-05, 3.49256895e-05],\n",
              "       [5.89620943e-05, 5.89620943e-05],\n",
              "       [1.19579649e-05, 1.19579649e-05]])"
            ]
          },
          "metadata": {
            "tags": []
          },
          "execution_count": 588
        }
      ]
    },
    {
      "cell_type": "code",
      "metadata": {
        "id": "B9pDu01yUPDb",
        "outputId": "e54627cc-f32a-4ad3-b7a3-97ed13a006ef"
      },
      "source": [
        "errorstate"
      ],
      "execution_count": null,
      "outputs": [
        {
          "output_type": "execute_result",
          "data": {
            "text/plain": [
              "0.0018896578037094834"
            ]
          },
          "metadata": {
            "tags": []
          },
          "execution_count": 589
        }
      ]
    },
    {
      "cell_type": "code",
      "metadata": {
        "id": "Sj92vOcpUPDb",
        "outputId": "fd3c5d73-cff7-402f-d3bd-d55fe8eb4314"
      },
      "source": [
        "predstatee - groundstate"
      ],
      "execution_count": null,
      "outputs": [
        {
          "output_type": "execute_result",
          "data": {
            "text/plain": [
              "array([[-0.00068196,  0.00122894],\n",
              "       [-0.0009167 ,  0.00423429],\n",
              "       [-0.00063476,  0.00969763],\n",
              "       [ 0.00019306,  0.01774679],\n",
              "       [ 0.00240756,  0.02781817],\n",
              "       [ 0.00635771,  0.04069439],\n",
              "       [ 0.01116414,  0.05646515],\n",
              "       [ 0.01723356,  0.0753246 ],\n",
              "       [ 0.02489444,  0.09682825],\n",
              "       [ 0.03274622,  0.12056275]])"
            ]
          },
          "metadata": {
            "tags": []
          },
          "execution_count": 590
        }
      ]
    },
    {
      "cell_type": "code",
      "metadata": {
        "scrolled": true,
        "id": "t4sRdnA1UPDb",
        "outputId": "afebd040-f466-46df-8628-4a0ba8e00451"
      },
      "source": [
        "prednormm"
      ],
      "execution_count": null,
      "outputs": [
        {
          "output_type": "execute_result",
          "data": {
            "text/plain": [
              "array([[ 0.03260404, -0.03448707],\n",
              "       [ 0.03396285, -0.03335363],\n",
              "       [ 0.03574099, -0.03172656],\n",
              "       [ 0.03688576, -0.02880807],\n",
              "       [ 0.03783108, -0.02612344],\n",
              "       [ 0.03977631, -0.02296941],\n",
              "       [ 0.04123013, -0.02006061],\n",
              "       [ 0.04162561, -0.01729712],\n",
              "       [ 0.04287022, -0.01449692],\n",
              "       [ 0.04273861, -0.01152589]])"
            ]
          },
          "metadata": {
            "tags": []
          },
          "execution_count": 591
        }
      ]
    },
    {
      "cell_type": "code",
      "metadata": {
        "scrolled": false,
        "id": "-NK2kRL0UPDb",
        "outputId": "fa425e8e-9be6-4c08-de3e-33f545f3b7f8"
      },
      "source": [
        "grounddiff"
      ],
      "execution_count": null,
      "outputs": [
        {
          "output_type": "execute_result",
          "data": {
            "text/plain": [
              "array([[ 0.033286  , -0.03571601],\n",
              "       [ 0.03419759, -0.03635898],\n",
              "       [ 0.03545905, -0.0371899 ],\n",
              "       [ 0.03605794, -0.03685724],\n",
              "       [ 0.03561657, -0.03619482],\n",
              "       [ 0.03582615, -0.03584563],\n",
              "       [ 0.0364237 , -0.03583137],\n",
              "       [ 0.0355562 , -0.03615656],\n",
              "       [ 0.03520934, -0.03600058],\n",
              "       [ 0.03488683, -0.03526039]])"
            ]
          },
          "metadata": {
            "tags": []
          },
          "execution_count": 592
        }
      ]
    },
    {
      "cell_type": "code",
      "metadata": {
        "id": "VAzMmr0_UPDb",
        "outputId": "722f2cab-1b92-47a6-ca92-5503848b7e6a"
      },
      "source": [
        "prednormm - grounddiff"
      ],
      "execution_count": null,
      "outputs": [
        {
          "output_type": "execute_result",
          "data": {
            "text/plain": [
              "array([[-0.00068196,  0.00122894],\n",
              "       [-0.00023474,  0.00300535],\n",
              "       [ 0.00028194,  0.00546333],\n",
              "       [ 0.00082782,  0.00804916],\n",
              "       [ 0.0022145 ,  0.01007138],\n",
              "       [ 0.00395015,  0.01287622],\n",
              "       [ 0.00480643,  0.01577076],\n",
              "       [ 0.00606942,  0.01885945],\n",
              "       [ 0.00766088,  0.02150365],\n",
              "       [ 0.00785178,  0.0237345 ]])"
            ]
          },
          "metadata": {
            "tags": []
          },
          "execution_count": 593
        }
      ]
    },
    {
      "cell_type": "code",
      "metadata": {
        "id": "fbNx0OOWUPDc",
        "outputId": "e295ebd4-6dee-47a0-81a4-720b3883c944"
      },
      "source": [
        "testdata.iloc[:11,-2:].values"
      ],
      "execution_count": null,
      "outputs": [
        {
          "output_type": "execute_result",
          "data": {
            "text/plain": [
              "array([[ 7.97210279e-04,  3.28480809e-04],\n",
              "       [ 5.98732844e-04,  3.41840247e-04],\n",
              "       [ 7.19678034e-04, -6.35518447e-04],\n",
              "       [ 1.13491225e-03, -8.37737309e-04],\n",
              "       [ 5.56623311e-04,  3.08110140e-04],\n",
              "       [-1.86374786e-04,  4.65550091e-04],\n",
              "       [-5.15989630e-04, -4.13335158e-05],\n",
              "       [-9.21979274e-04, -1.15106727e-04],\n",
              "       [-1.79555961e-03,  4.13703054e-04],\n",
              "       [-2.62646859e-03,  9.89150280e-04],\n",
              "       [-2.96618572e-03,  1.59004915e-03]])"
            ]
          },
          "metadata": {
            "tags": []
          },
          "execution_count": 594
        }
      ]
    },
    {
      "cell_type": "code",
      "metadata": {
        "scrolled": true,
        "id": "o1tRbwonUPDc",
        "outputId": "777d24dd-ed7a-4028-8c19-78db5aac0575"
      },
      "source": [
        "mypred=pd.DataFrame(allee[:],columns =[\"u1\",\"dist.\",\"u2\",\"x1\",\"x3\",\"diff21\",\"diff23\",\"diff1\",\"diff3\"])\n",
        "mypred"
      ],
      "execution_count": null,
      "outputs": [
        {
          "output_type": "execute_result",
          "data": {
            "text/html": [
              "<div>\n",
              "<style scoped>\n",
              "    .dataframe tbody tr th:only-of-type {\n",
              "        vertical-align: middle;\n",
              "    }\n",
              "\n",
              "    .dataframe tbody tr th {\n",
              "        vertical-align: top;\n",
              "    }\n",
              "\n",
              "    .dataframe thead th {\n",
              "        text-align: right;\n",
              "    }\n",
              "</style>\n",
              "<table border=\"1\" class=\"dataframe\">\n",
              "  <thead>\n",
              "    <tr style=\"text-align: right;\">\n",
              "      <th></th>\n",
              "      <th>u1</th>\n",
              "      <th>dist.</th>\n",
              "      <th>u2</th>\n",
              "      <th>x1</th>\n",
              "      <th>x3</th>\n",
              "      <th>diff21</th>\n",
              "      <th>diff23</th>\n",
              "      <th>diff1</th>\n",
              "      <th>diff3</th>\n",
              "    </tr>\n",
              "  </thead>\n",
              "  <tbody>\n",
              "    <tr>\n",
              "      <th>0</th>\n",
              "      <td>51.995138</td>\n",
              "      <td>240.587160</td>\n",
              "      <td>-783.892155</td>\n",
              "      <td>-1.002091</td>\n",
              "      <td>-2.403271</td>\n",
              "      <td>0.063360</td>\n",
              "      <td>-0.070438</td>\n",
              "      <td>0.032188</td>\n",
              "      <td>-0.035453</td>\n",
              "    </tr>\n",
              "    <tr>\n",
              "      <th>1</th>\n",
              "      <td>1233.568046</td>\n",
              "      <td>-266.517610</td>\n",
              "      <td>-1478.650653</td>\n",
              "      <td>-0.969811</td>\n",
              "      <td>-2.438437</td>\n",
              "      <td>0.064469</td>\n",
              "      <td>-0.070619</td>\n",
              "      <td>0.032281</td>\n",
              "      <td>-0.035166</td>\n",
              "    </tr>\n",
              "    <tr>\n",
              "      <th>2</th>\n",
              "      <td>864.384375</td>\n",
              "      <td>459.546220</td>\n",
              "      <td>-1187.755777</td>\n",
              "      <td>-0.936592</td>\n",
              "      <td>-2.473943</td>\n",
              "      <td>0.065499</td>\n",
              "      <td>-0.070672</td>\n",
              "      <td>0.033218</td>\n",
              "      <td>-0.035506</td>\n",
              "    </tr>\n",
              "    <tr>\n",
              "      <th>3</th>\n",
              "      <td>26.744113</td>\n",
              "      <td>396.472487</td>\n",
              "      <td>816.583880</td>\n",
              "      <td>-0.902947</td>\n",
              "      <td>-2.509198</td>\n",
              "      <td>0.066864</td>\n",
              "      <td>-0.070761</td>\n",
              "      <td>0.033646</td>\n",
              "      <td>-0.035255</td>\n",
              "    </tr>\n",
              "    <tr>\n",
              "      <th>4</th>\n",
              "      <td>-1096.949926</td>\n",
              "      <td>249.195750</td>\n",
              "      <td>-553.381026</td>\n",
              "      <td>-0.869628</td>\n",
              "      <td>-2.542885</td>\n",
              "      <td>0.066965</td>\n",
              "      <td>-0.068942</td>\n",
              "      <td>0.033319</td>\n",
              "      <td>-0.033687</td>\n",
              "    </tr>\n",
              "    <tr>\n",
              "      <th>5</th>\n",
              "      <td>1443.433760</td>\n",
              "      <td>-233.023002</td>\n",
              "      <td>158.403518</td>\n",
              "      <td>-0.836735</td>\n",
              "      <td>-2.575509</td>\n",
              "      <td>0.066212</td>\n",
              "      <td>-0.066311</td>\n",
              "      <td>0.032893</td>\n",
              "      <td>-0.032624</td>\n",
              "    </tr>\n",
              "    <tr>\n",
              "      <th>6</th>\n",
              "      <td>-192.886946</td>\n",
              "      <td>-273.964256</td>\n",
              "      <td>-1250.337524</td>\n",
              "      <td>-0.803108</td>\n",
              "      <td>-2.607187</td>\n",
              "      <td>0.066520</td>\n",
              "      <td>-0.064302</td>\n",
              "      <td>0.033627</td>\n",
              "      <td>-0.031678</td>\n",
              "    </tr>\n",
              "    <tr>\n",
              "      <th>7</th>\n",
              "      <td>-1362.213941</td>\n",
              "      <td>-2.212844</td>\n",
              "      <td>-551.454087</td>\n",
              "      <td>-0.769156</td>\n",
              "      <td>-2.638273</td>\n",
              "      <td>0.067578</td>\n",
              "      <td>-0.062764</td>\n",
              "      <td>0.033951</td>\n",
              "      <td>-0.031086</td>\n",
              "    </tr>\n",
              "    <tr>\n",
              "      <th>8</th>\n",
              "      <td>971.575816</td>\n",
              "      <td>-442.385796</td>\n",
              "      <td>-316.785438</td>\n",
              "      <td>-0.736007</td>\n",
              "      <td>-2.668420</td>\n",
              "      <td>0.067101</td>\n",
              "      <td>-0.061233</td>\n",
              "      <td>0.033150</td>\n",
              "      <td>-0.030147</td>\n",
              "    </tr>\n",
              "    <tr>\n",
              "      <th>9</th>\n",
              "      <td>-1179.426227</td>\n",
              "      <td>-17.383337</td>\n",
              "      <td>587.103913</td>\n",
              "      <td>-0.702523</td>\n",
              "      <td>-2.697953</td>\n",
              "      <td>0.066634</td>\n",
              "      <td>-0.059679</td>\n",
              "      <td>0.033484</td>\n",
              "      <td>-0.029533</td>\n",
              "    </tr>\n",
              "    <tr>\n",
              "      <th>10</th>\n",
              "      <td>-1117.083233</td>\n",
              "      <td>-113.498001</td>\n",
              "      <td>883.474581</td>\n",
              "      <td>-0.669953</td>\n",
              "      <td>-2.725792</td>\n",
              "      <td>0.066054</td>\n",
              "      <td>-0.057372</td>\n",
              "      <td>0.032570</td>\n",
              "      <td>-0.027840</td>\n",
              "    </tr>\n",
              "  </tbody>\n",
              "</table>\n",
              "</div>"
            ],
            "text/plain": [
              "             u1       dist.           u2        x1        x3    diff21  \\\n",
              "0     51.995138  240.587160  -783.892155 -1.002091 -2.403271  0.063360   \n",
              "1   1233.568046 -266.517610 -1478.650653 -0.969811 -2.438437  0.064469   \n",
              "2    864.384375  459.546220 -1187.755777 -0.936592 -2.473943  0.065499   \n",
              "3     26.744113  396.472487   816.583880 -0.902947 -2.509198  0.066864   \n",
              "4  -1096.949926  249.195750  -553.381026 -0.869628 -2.542885  0.066965   \n",
              "5   1443.433760 -233.023002   158.403518 -0.836735 -2.575509  0.066212   \n",
              "6   -192.886946 -273.964256 -1250.337524 -0.803108 -2.607187  0.066520   \n",
              "7  -1362.213941   -2.212844  -551.454087 -0.769156 -2.638273  0.067578   \n",
              "8    971.575816 -442.385796  -316.785438 -0.736007 -2.668420  0.067101   \n",
              "9  -1179.426227  -17.383337   587.103913 -0.702523 -2.697953  0.066634   \n",
              "10 -1117.083233 -113.498001   883.474581 -0.669953 -2.725792  0.066054   \n",
              "\n",
              "      diff23     diff1     diff3  \n",
              "0  -0.070438  0.032188 -0.035453  \n",
              "1  -0.070619  0.032281 -0.035166  \n",
              "2  -0.070672  0.033218 -0.035506  \n",
              "3  -0.070761  0.033646 -0.035255  \n",
              "4  -0.068942  0.033319 -0.033687  \n",
              "5  -0.066311  0.032893 -0.032624  \n",
              "6  -0.064302  0.033627 -0.031678  \n",
              "7  -0.062764  0.033951 -0.031086  \n",
              "8  -0.061233  0.033150 -0.030147  \n",
              "9  -0.059679  0.033484 -0.029533  \n",
              "10 -0.057372  0.032570 -0.027840  "
            ]
          },
          "metadata": {
            "tags": []
          },
          "execution_count": 565
        }
      ]
    },
    {
      "cell_type": "code",
      "metadata": {
        "id": "IAiFEdyBUPDc",
        "outputId": "da88ffec-0da1-4144-cb70-9e6806c1fef2"
      },
      "source": [
        "testdata[4989:5000]"
      ],
      "execution_count": null,
      "outputs": [
        {
          "output_type": "execute_result",
          "data": {
            "text/html": [
              "<div>\n",
              "<style scoped>\n",
              "    .dataframe tbody tr th:only-of-type {\n",
              "        vertical-align: middle;\n",
              "    }\n",
              "\n",
              "    .dataframe tbody tr th {\n",
              "        vertical-align: top;\n",
              "    }\n",
              "\n",
              "    .dataframe thead th {\n",
              "        text-align: right;\n",
              "    }\n",
              "</style>\n",
              "<table border=\"1\" class=\"dataframe\">\n",
              "  <thead>\n",
              "    <tr style=\"text-align: right;\">\n",
              "      <th></th>\n",
              "      <th>u1</th>\n",
              "      <th>dist.</th>\n",
              "      <th>u2</th>\n",
              "      <th>x1</th>\n",
              "      <th>x3</th>\n",
              "      <th>diff21</th>\n",
              "      <th>diff23</th>\n",
              "      <th>diff1</th>\n",
              "      <th>diff3</th>\n",
              "    </tr>\n",
              "  </thead>\n",
              "  <tbody>\n",
              "    <tr>\n",
              "      <th>4989</th>\n",
              "      <td>51.995138</td>\n",
              "      <td>240.587160</td>\n",
              "      <td>-783.892155</td>\n",
              "      <td>-1.002091</td>\n",
              "      <td>-2.403271</td>\n",
              "      <td>0.063360</td>\n",
              "      <td>-0.070438</td>\n",
              "      <td>0.032188</td>\n",
              "      <td>-0.035453</td>\n",
              "    </tr>\n",
              "    <tr>\n",
              "      <th>4990</th>\n",
              "      <td>1233.568046</td>\n",
              "      <td>-266.517610</td>\n",
              "      <td>-1478.650653</td>\n",
              "      <td>-0.968805</td>\n",
              "      <td>-2.438987</td>\n",
              "      <td>0.065474</td>\n",
              "      <td>-0.071169</td>\n",
              "      <td>0.033286</td>\n",
              "      <td>-0.035716</td>\n",
              "    </tr>\n",
              "    <tr>\n",
              "      <th>4991</th>\n",
              "      <td>864.384375</td>\n",
              "      <td>459.546220</td>\n",
              "      <td>-1187.755777</td>\n",
              "      <td>-0.934608</td>\n",
              "      <td>-2.475346</td>\n",
              "      <td>0.067484</td>\n",
              "      <td>-0.072075</td>\n",
              "      <td>0.034198</td>\n",
              "      <td>-0.036359</td>\n",
              "    </tr>\n",
              "    <tr>\n",
              "      <th>4992</th>\n",
              "      <td>26.744113</td>\n",
              "      <td>396.472487</td>\n",
              "      <td>816.583880</td>\n",
              "      <td>-0.899149</td>\n",
              "      <td>-2.512536</td>\n",
              "      <td>0.069657</td>\n",
              "      <td>-0.073549</td>\n",
              "      <td>0.035459</td>\n",
              "      <td>-0.037190</td>\n",
              "    </tr>\n",
              "    <tr>\n",
              "      <th>4993</th>\n",
              "      <td>-1096.949926</td>\n",
              "      <td>249.195750</td>\n",
              "      <td>-553.381026</td>\n",
              "      <td>-0.863091</td>\n",
              "      <td>-2.549393</td>\n",
              "      <td>0.071517</td>\n",
              "      <td>-0.074047</td>\n",
              "      <td>0.036058</td>\n",
              "      <td>-0.036857</td>\n",
              "    </tr>\n",
              "    <tr>\n",
              "      <th>4994</th>\n",
              "      <td>1443.433760</td>\n",
              "      <td>-233.023002</td>\n",
              "      <td>158.403518</td>\n",
              "      <td>-0.827474</td>\n",
              "      <td>-2.585588</td>\n",
              "      <td>0.071675</td>\n",
              "      <td>-0.073052</td>\n",
              "      <td>0.035617</td>\n",
              "      <td>-0.036195</td>\n",
              "    </tr>\n",
              "    <tr>\n",
              "      <th>4995</th>\n",
              "      <td>-192.886946</td>\n",
              "      <td>-273.964256</td>\n",
              "      <td>-1250.337524</td>\n",
              "      <td>-0.791648</td>\n",
              "      <td>-2.621433</td>\n",
              "      <td>0.071443</td>\n",
              "      <td>-0.072040</td>\n",
              "      <td>0.035826</td>\n",
              "      <td>-0.035846</td>\n",
              "    </tr>\n",
              "    <tr>\n",
              "      <th>4996</th>\n",
              "      <td>-1362.213941</td>\n",
              "      <td>-2.212844</td>\n",
              "      <td>-551.454087</td>\n",
              "      <td>-0.755224</td>\n",
              "      <td>-2.657265</td>\n",
              "      <td>0.072250</td>\n",
              "      <td>-0.071677</td>\n",
              "      <td>0.036424</td>\n",
              "      <td>-0.035831</td>\n",
              "    </tr>\n",
              "    <tr>\n",
              "      <th>4997</th>\n",
              "      <td>971.575816</td>\n",
              "      <td>-442.385796</td>\n",
              "      <td>-316.785438</td>\n",
              "      <td>-0.719668</td>\n",
              "      <td>-2.693421</td>\n",
              "      <td>0.071980</td>\n",
              "      <td>-0.071988</td>\n",
              "      <td>0.035556</td>\n",
              "      <td>-0.036157</td>\n",
              "    </tr>\n",
              "    <tr>\n",
              "      <th>4998</th>\n",
              "      <td>-1179.426227</td>\n",
              "      <td>-17.383337</td>\n",
              "      <td>587.103913</td>\n",
              "      <td>-0.684459</td>\n",
              "      <td>-2.729422</td>\n",
              "      <td>0.070766</td>\n",
              "      <td>-0.072157</td>\n",
              "      <td>0.035209</td>\n",
              "      <td>-0.036001</td>\n",
              "    </tr>\n",
              "    <tr>\n",
              "      <th>4999</th>\n",
              "      <td>-1117.083233</td>\n",
              "      <td>-113.498001</td>\n",
              "      <td>883.474581</td>\n",
              "      <td>-0.649572</td>\n",
              "      <td>-2.764682</td>\n",
              "      <td>0.070096</td>\n",
              "      <td>-0.071261</td>\n",
              "      <td>0.034887</td>\n",
              "      <td>-0.035260</td>\n",
              "    </tr>\n",
              "  </tbody>\n",
              "</table>\n",
              "</div>"
            ],
            "text/plain": [
              "               u1       dist.           u2        x1        x3    diff21  \\\n",
              "4989    51.995138  240.587160  -783.892155 -1.002091 -2.403271  0.063360   \n",
              "4990  1233.568046 -266.517610 -1478.650653 -0.968805 -2.438987  0.065474   \n",
              "4991   864.384375  459.546220 -1187.755777 -0.934608 -2.475346  0.067484   \n",
              "4992    26.744113  396.472487   816.583880 -0.899149 -2.512536  0.069657   \n",
              "4993 -1096.949926  249.195750  -553.381026 -0.863091 -2.549393  0.071517   \n",
              "4994  1443.433760 -233.023002   158.403518 -0.827474 -2.585588  0.071675   \n",
              "4995  -192.886946 -273.964256 -1250.337524 -0.791648 -2.621433  0.071443   \n",
              "4996 -1362.213941   -2.212844  -551.454087 -0.755224 -2.657265  0.072250   \n",
              "4997   971.575816 -442.385796  -316.785438 -0.719668 -2.693421  0.071980   \n",
              "4998 -1179.426227  -17.383337   587.103913 -0.684459 -2.729422  0.070766   \n",
              "4999 -1117.083233 -113.498001   883.474581 -0.649572 -2.764682  0.070096   \n",
              "\n",
              "        diff23     diff1     diff3  \n",
              "4989 -0.070438  0.032188 -0.035453  \n",
              "4990 -0.071169  0.033286 -0.035716  \n",
              "4991 -0.072075  0.034198 -0.036359  \n",
              "4992 -0.073549  0.035459 -0.037190  \n",
              "4993 -0.074047  0.036058 -0.036857  \n",
              "4994 -0.073052  0.035617 -0.036195  \n",
              "4995 -0.072040  0.035826 -0.035846  \n",
              "4996 -0.071677  0.036424 -0.035831  \n",
              "4997 -0.071988  0.035556 -0.036157  \n",
              "4998 -0.072157  0.035209 -0.036001  \n",
              "4999 -0.071261  0.034887 -0.035260  "
            ]
          },
          "metadata": {
            "tags": []
          },
          "execution_count": 566
        }
      ]
    },
    {
      "cell_type": "code",
      "metadata": {
        "id": "UjpNPUSdUPDc",
        "outputId": "6906bbb8-2bd4-401e-b534-cbab94f96b9f"
      },
      "source": [
        "beda=testdata.iloc[4990:5000,3:5].values-mypred.iloc[1:,3:5]\n",
        "beda"
      ],
      "execution_count": null,
      "outputs": [
        {
          "output_type": "execute_result",
          "data": {
            "text/html": [
              "<div>\n",
              "<style scoped>\n",
              "    .dataframe tbody tr th:only-of-type {\n",
              "        vertical-align: middle;\n",
              "    }\n",
              "\n",
              "    .dataframe tbody tr th {\n",
              "        vertical-align: top;\n",
              "    }\n",
              "\n",
              "    .dataframe thead th {\n",
              "        text-align: right;\n",
              "    }\n",
              "</style>\n",
              "<table border=\"1\" class=\"dataframe\">\n",
              "  <thead>\n",
              "    <tr style=\"text-align: right;\">\n",
              "      <th></th>\n",
              "      <th>x1</th>\n",
              "      <th>x3</th>\n",
              "    </tr>\n",
              "  </thead>\n",
              "  <tbody>\n",
              "    <tr>\n",
              "      <th>1</th>\n",
              "      <td>0.001005</td>\n",
              "      <td>-0.000550</td>\n",
              "    </tr>\n",
              "    <tr>\n",
              "      <th>2</th>\n",
              "      <td>0.001985</td>\n",
              "      <td>-0.001403</td>\n",
              "    </tr>\n",
              "    <tr>\n",
              "      <th>3</th>\n",
              "      <td>0.003798</td>\n",
              "      <td>-0.003338</td>\n",
              "    </tr>\n",
              "    <tr>\n",
              "      <th>4</th>\n",
              "      <td>0.006537</td>\n",
              "      <td>-0.006508</td>\n",
              "    </tr>\n",
              "    <tr>\n",
              "      <th>5</th>\n",
              "      <td>0.009261</td>\n",
              "      <td>-0.010079</td>\n",
              "    </tr>\n",
              "    <tr>\n",
              "      <th>6</th>\n",
              "      <td>0.011460</td>\n",
              "      <td>-0.014246</td>\n",
              "    </tr>\n",
              "    <tr>\n",
              "      <th>7</th>\n",
              "      <td>0.013932</td>\n",
              "      <td>-0.018992</td>\n",
              "    </tr>\n",
              "    <tr>\n",
              "      <th>8</th>\n",
              "      <td>0.016339</td>\n",
              "      <td>-0.025001</td>\n",
              "    </tr>\n",
              "    <tr>\n",
              "      <th>9</th>\n",
              "      <td>0.018064</td>\n",
              "      <td>-0.031469</td>\n",
              "    </tr>\n",
              "    <tr>\n",
              "      <th>10</th>\n",
              "      <td>0.020381</td>\n",
              "      <td>-0.038890</td>\n",
              "    </tr>\n",
              "  </tbody>\n",
              "</table>\n",
              "</div>"
            ],
            "text/plain": [
              "          x1        x3\n",
              "1   0.001005 -0.000550\n",
              "2   0.001985 -0.001403\n",
              "3   0.003798 -0.003338\n",
              "4   0.006537 -0.006508\n",
              "5   0.009261 -0.010079\n",
              "6   0.011460 -0.014246\n",
              "7   0.013932 -0.018992\n",
              "8   0.016339 -0.025001\n",
              "9   0.018064 -0.031469\n",
              "10  0.020381 -0.038890"
            ]
          },
          "metadata": {
            "tags": []
          },
          "execution_count": 567
        }
      ]
    },
    {
      "cell_type": "code",
      "metadata": {
        "id": "YL5pLs0LUPDc",
        "outputId": "9842c7e3-38b7-4f8d-c139-9a742d61cbea"
      },
      "source": [
        "np.square(beda.values).mean()"
      ],
      "execution_count": null,
      "outputs": [
        {
          "output_type": "execute_result",
          "data": {
            "text/plain": [
              "0.0002665383651134016"
            ]
          },
          "metadata": {
            "tags": []
          },
          "execution_count": 568
        }
      ]
    },
    {
      "cell_type": "code",
      "metadata": {
        "id": "sUYZoup4UPDc",
        "outputId": "39ba9075-e4ed-4f12-a774-59c2afff8088"
      },
      "source": [
        "beda2= testdata.iloc[999:1009,-2:].values-mypred.iloc[1:,-2:]\n",
        "beda2"
      ],
      "execution_count": null,
      "outputs": [
        {
          "output_type": "execute_result",
          "data": {
            "text/html": [
              "<div>\n",
              "<style scoped>\n",
              "    .dataframe tbody tr th:only-of-type {\n",
              "        vertical-align: middle;\n",
              "    }\n",
              "\n",
              "    .dataframe tbody tr th {\n",
              "        vertical-align: top;\n",
              "    }\n",
              "\n",
              "    .dataframe thead th {\n",
              "        text-align: right;\n",
              "    }\n",
              "</style>\n",
              "<table border=\"1\" class=\"dataframe\">\n",
              "  <thead>\n",
              "    <tr style=\"text-align: right;\">\n",
              "      <th></th>\n",
              "      <th>diff1</th>\n",
              "      <th>diff3</th>\n",
              "    </tr>\n",
              "  </thead>\n",
              "  <tbody>\n",
              "    <tr>\n",
              "      <th>1</th>\n",
              "      <td>-0.016224</td>\n",
              "      <td>0.016592</td>\n",
              "    </tr>\n",
              "    <tr>\n",
              "      <th>2</th>\n",
              "      <td>-0.017819</td>\n",
              "      <td>0.016474</td>\n",
              "    </tr>\n",
              "    <tr>\n",
              "      <th>3</th>\n",
              "      <td>-0.019104</td>\n",
              "      <td>0.015644</td>\n",
              "    </tr>\n",
              "    <tr>\n",
              "      <th>4</th>\n",
              "      <td>-0.019256</td>\n",
              "      <td>0.014009</td>\n",
              "    </tr>\n",
              "    <tr>\n",
              "      <th>5</th>\n",
              "      <td>-0.019634</td>\n",
              "      <td>0.014232</td>\n",
              "    </tr>\n",
              "    <tr>\n",
              "      <th>6</th>\n",
              "      <td>-0.021769</td>\n",
              "      <td>0.013656</td>\n",
              "    </tr>\n",
              "    <tr>\n",
              "      <th>7</th>\n",
              "      <td>-0.023265</td>\n",
              "      <td>0.012070</td>\n",
              "    </tr>\n",
              "    <tr>\n",
              "      <th>8</th>\n",
              "      <td>-0.022428</td>\n",
              "      <td>0.010840</td>\n",
              "    </tr>\n",
              "    <tr>\n",
              "      <th>9</th>\n",
              "      <td>-0.022308</td>\n",
              "      <td>0.010966</td>\n",
              "    </tr>\n",
              "    <tr>\n",
              "      <th>10</th>\n",
              "      <td>-0.020997</td>\n",
              "      <td>0.010296</td>\n",
              "    </tr>\n",
              "  </tbody>\n",
              "</table>\n",
              "</div>"
            ],
            "text/plain": [
              "       diff1     diff3\n",
              "1  -0.016224  0.016592\n",
              "2  -0.017819  0.016474\n",
              "3  -0.019104  0.015644\n",
              "4  -0.019256  0.014009\n",
              "5  -0.019634  0.014232\n",
              "6  -0.021769  0.013656\n",
              "7  -0.023265  0.012070\n",
              "8  -0.022428  0.010840\n",
              "9  -0.022308  0.010966\n",
              "10 -0.020997  0.010296"
            ]
          },
          "metadata": {
            "tags": []
          },
          "execution_count": 569
        }
      ]
    },
    {
      "cell_type": "code",
      "metadata": {
        "id": "SR9X6NSvUPDd",
        "outputId": "9ebf05f7-d890-40a2-803d-d007dd87cce4"
      },
      "source": [
        "np.square(beda2.values).mean()"
      ],
      "execution_count": null,
      "outputs": [
        {
          "output_type": "execute_result",
          "data": {
            "text/plain": [
              "0.00030124198689559855"
            ]
          },
          "metadata": {
            "tags": []
          },
          "execution_count": 570
        }
      ]
    },
    {
      "cell_type": "code",
      "metadata": {
        "id": "U_LfxEbmUPDd"
      },
      "source": [
        ""
      ],
      "execution_count": null,
      "outputs": []
    },
    {
      "cell_type": "code",
      "metadata": {
        "id": "lr96yT5EUPDd"
      },
      "source": [
        "    "
      ],
      "execution_count": null,
      "outputs": []
    }
  ]
}